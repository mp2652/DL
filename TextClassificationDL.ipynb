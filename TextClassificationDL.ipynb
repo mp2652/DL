{
  "cells": [
    {
      "cell_type": "markdown",
      "metadata": {
        "id": "7EJschGvHCFh"
      },
      "source": [
        "\n",
        "### TEXT CLASSIFICATION FOR ALCOHOLIC POSTS\n",
        "\n",
        "\n",
        "\n"
      ]
    },
    {
      "cell_type": "markdown",
      "metadata": {
        "id": "LTyMHrPQ3vfS"
      },
      "source": [
        "First of all, we have prepared our data ourself.\n",
        "We looked on forums in hebrew, and we selected:\n",
        "- 100 texts of people that are alcohol dependant.\n",
        "- 100 texts of people that are not alcoholic. These texts include some words like 'alcohol' but is not from alcoholic person.\n",
        "We connect to the drive to import our data"
      ]
    },
    {
      "cell_type": "code",
      "execution_count": 13,
      "metadata": {
        "colab": {
          "base_uri": "https://localhost:8080/"
        },
        "id": "b1Gtcv8s5rPO",
        "outputId": "836fdcec-37af-455f-bd47-3ccf8bdb37cb"
      },
      "outputs": [
        {
          "output_type": "stream",
          "name": "stdout",
          "text": [
            "Drive already mounted at /content/drive; to attempt to forcibly remount, call drive.mount(\"/content/drive\", force_remount=True).\n"
          ]
        }
      ],
      "source": [
        "from google.colab import drive\n",
        "drive.mount('/content/drive')"
      ]
    },
    {
      "cell_type": "markdown",
      "metadata": {
        "id": "TSmjxy5w4QGG"
      },
      "source": [
        "In this code, we have performed the following steps:\n",
        "\n",
        "1. Imported Libraries: We imported various libraries including LSTM, pandas,\n",
        "numpy, sklearn, stopwordsiso, transformers, and others.\n",
        "\n",
        "2. Text Preprocessing: We utilized the nltk library to tokenize words and remove stopwords in Hebrew. We also downloaded required resources using nltk.download().\n",
        "\n",
        "3. TF-IDF Vectorization: We used the TfidfVectorizer from sklearn to transform text data into a numerical representation (TF-IDF vectors).\n",
        "\n",
        "5. Text Tokenization: We used the Tokenizer class from TensorFlow to tokenize text data and prepare it for input to a neural network.\n",
        "\n",
        "6. Data Splitting: We split the data into training and testing sets using train_test_split from sklearn.\n",
        "\n",
        "7. Data Preprocessing: We performed data preprocessing including one-hot encoding of labels and other necessary steps.\n",
        "\n",
        "8. Model Building: We constructed a neural network model using the Sequential API from TensorFlow's Keras. We experimented with different layer types including GRU, MLP, RNN, LSTM, and Bidirectional LSTM, as well as adding Dense and Flatten layers. We also tried we a transformer HeBert.\n",
        "\n",
        "\n",
        "9. Embedding: We experimented with adding an Embedding layer and without in the models.\n",
        "\n",
        "10. Model Training and Evaluation: We compiled and trained the model using the training data. We evaluated the model's performance using metrics such as accuracy and loss.\n",
        "\n",
        "11. Visualization: We utilized matplotlib to visualize the training, using graphics.\n",
        "\n",
        "\n",
        "\n",
        "Overall, we've performed text preprocessing, vectorized the text data, built, trained, and evaluated a neural network model for text classification on Hebrew text data. We've experimented with different model architectures to find the one that best suits the task of text classification.\n",
        "\n",
        "\n",
        "\n",
        "\n",
        "\n"
      ]
    },
    {
      "cell_type": "markdown",
      "metadata": {
        "id": "ndJBOxJfD-vc"
      },
      "source": [
        "## Importing librairies"
      ]
    },
    {
      "cell_type": "code",
      "execution_count": 14,
      "metadata": {
        "colab": {
          "base_uri": "https://localhost:8080/"
        },
        "id": "pHKrhKI46l9f",
        "outputId": "f216c965-a954-4740-d02f-3a0b49bdb7c5"
      },
      "outputs": [
        {
          "output_type": "stream",
          "name": "stdout",
          "text": [
            "Requirement already satisfied: dplython in /usr/local/lib/python3.10/dist-packages (0.0.7)\n",
            "Requirement already satisfied: numpy in /usr/local/lib/python3.10/dist-packages (from dplython) (1.23.5)\n",
            "Requirement already satisfied: pandas in /usr/local/lib/python3.10/dist-packages (from dplython) (1.3.5)\n",
            "Requirement already satisfied: six in /usr/local/lib/python3.10/dist-packages (from dplython) (1.16.0)\n",
            "Requirement already satisfied: python-dateutil>=2.7.3 in /usr/local/lib/python3.10/dist-packages (from pandas->dplython) (2.8.2)\n",
            "Requirement already satisfied: pytz>=2017.3 in /usr/local/lib/python3.10/dist-packages (from pandas->dplython) (2023.3)\n",
            "Requirement already satisfied: stopwordsiso in /usr/local/lib/python3.10/dist-packages (0.6.1)\n",
            "Requirement already satisfied: transformers in /usr/local/lib/python3.10/dist-packages (4.32.1)\n",
            "Requirement already satisfied: filelock in /usr/local/lib/python3.10/dist-packages (from transformers) (3.12.2)\n",
            "Requirement already satisfied: huggingface-hub<1.0,>=0.15.1 in /usr/local/lib/python3.10/dist-packages (from transformers) (0.16.4)\n",
            "Requirement already satisfied: numpy>=1.17 in /usr/local/lib/python3.10/dist-packages (from transformers) (1.23.5)\n",
            "Requirement already satisfied: packaging>=20.0 in /usr/local/lib/python3.10/dist-packages (from transformers) (23.1)\n",
            "Requirement already satisfied: pyyaml>=5.1 in /usr/local/lib/python3.10/dist-packages (from transformers) (6.0.1)\n",
            "Requirement already satisfied: regex!=2019.12.17 in /usr/local/lib/python3.10/dist-packages (from transformers) (2023.6.3)\n",
            "Requirement already satisfied: requests in /usr/local/lib/python3.10/dist-packages (from transformers) (2.31.0)\n",
            "Requirement already satisfied: tokenizers!=0.11.3,<0.14,>=0.11.1 in /usr/local/lib/python3.10/dist-packages (from transformers) (0.13.3)\n",
            "Requirement already satisfied: safetensors>=0.3.1 in /usr/local/lib/python3.10/dist-packages (from transformers) (0.3.3)\n",
            "Requirement already satisfied: tqdm>=4.27 in /usr/local/lib/python3.10/dist-packages (from transformers) (4.66.1)\n",
            "Requirement already satisfied: fsspec in /usr/local/lib/python3.10/dist-packages (from huggingface-hub<1.0,>=0.15.1->transformers) (2023.6.0)\n",
            "Requirement already satisfied: typing-extensions>=3.7.4.3 in /usr/local/lib/python3.10/dist-packages (from huggingface-hub<1.0,>=0.15.1->transformers) (4.7.1)\n",
            "Requirement already satisfied: charset-normalizer<4,>=2 in /usr/local/lib/python3.10/dist-packages (from requests->transformers) (3.2.0)\n",
            "Requirement already satisfied: idna<4,>=2.5 in /usr/local/lib/python3.10/dist-packages (from requests->transformers) (3.4)\n",
            "Requirement already satisfied: urllib3<3,>=1.21.1 in /usr/local/lib/python3.10/dist-packages (from requests->transformers) (2.0.4)\n",
            "Requirement already satisfied: certifi>=2017.4.17 in /usr/local/lib/python3.10/dist-packages (from requests->transformers) (2023.7.22)\n",
            "Requirement already satisfied: pandas==1.3.5 in /usr/local/lib/python3.10/dist-packages (1.3.5)\n",
            "Requirement already satisfied: python-dateutil>=2.7.3 in /usr/local/lib/python3.10/dist-packages (from pandas==1.3.5) (2.8.2)\n",
            "Requirement already satisfied: pytz>=2017.3 in /usr/local/lib/python3.10/dist-packages (from pandas==1.3.5) (2023.3)\n",
            "Requirement already satisfied: numpy>=1.21.0 in /usr/local/lib/python3.10/dist-packages (from pandas==1.3.5) (1.23.5)\n",
            "Requirement already satisfied: six>=1.5 in /usr/local/lib/python3.10/dist-packages (from python-dateutil>=2.7.3->pandas==1.3.5) (1.16.0)\n",
            "Requirement already satisfied: nltk in /usr/local/lib/python3.10/dist-packages (3.8.1)\n",
            "Requirement already satisfied: click in /usr/local/lib/python3.10/dist-packages (from nltk) (8.1.7)\n",
            "Requirement already satisfied: joblib in /usr/local/lib/python3.10/dist-packages (from nltk) (1.3.2)\n",
            "Requirement already satisfied: regex>=2021.8.3 in /usr/local/lib/python3.10/dist-packages (from nltk) (2023.6.3)\n",
            "Requirement already satisfied: tqdm in /usr/local/lib/python3.10/dist-packages (from nltk) (4.66.1)\n"
          ]
        },
        {
          "output_type": "stream",
          "name": "stderr",
          "text": [
            "[nltk_data] Downloading package punkt to /root/nltk_data...\n",
            "[nltk_data]   Package punkt is already up-to-date!\n",
            "[nltk_data] Downloading package stopwords to /root/nltk_data...\n",
            "[nltk_data]   Package stopwords is already up-to-date!\n"
          ]
        }
      ],
      "source": [
        "!pip install dplython\n",
        "#!pip install tidytext\n",
        "!pip install stopwordsiso\n",
        "!pip install transformers\n",
        "!pip install pandas==1.3.5\n",
        "!pip install nltk\n",
        "import nltk\n",
        "from nltk.tokenize import word_tokenize\n",
        "from nltk.corpus import stopwords\n",
        "nltk.download('punkt')\n",
        "nltk.download('stopwords')\n",
        "stop_words = stopwords.words('hebrew')\n",
        "import glob\n",
        "import os\n",
        "import pandas as pd\n",
        "import numpy as np\n",
        "from sklearn.feature_extraction.text import TfidfVectorizer\n",
        "from stopwordsiso import stopwords\n",
        "from sklearn.model_selection import train_test_split\n",
        "import glob\n",
        "import pandas as pd\n",
        "import math\n",
        "from sklearn.model_selection import train_test_split\n",
        "from sklearn.preprocessing import OneHotEncoder\n",
        "from sklearn.metrics import accuracy_score, confusion_matrix\n",
        "from tensorflow.keras.preprocessing.text import Tokenizer\n",
        "from tensorflow.keras.preprocessing.sequence import pad_sequences\n",
        "from tensorflow.keras.models import Sequential\n",
        "from tensorflow.keras.layers import Dense, Conv1D, LSTM, Bidirectional\n",
        "import matplotlib.pyplot as plt\n",
        "from keras.layers import Flatten\n",
        "import numpy as np\n",
        "import tensorflow as tf\n",
        "from sklearn.metrics import confusion_matrix\n",
        "import re\n",
        "import seaborn as sns\n",
        "from tensorflow.keras.layers import Embedding, LSTM, Dense\n"
      ]
    },
    {
      "cell_type": "markdown",
      "metadata": {
        "id": "NOdogTnVEFH7"
      },
      "source": [
        "## Text preprocessing"
      ]
    },
    {
      "cell_type": "markdown",
      "metadata": {
        "id": "7gK7od7p7bDu"
      },
      "source": [
        "We started by preparing our data for text classification. First, we gathered text data from both \"alcoolique\" and \"non_alcoolique\" categories, stored in separate directories. We loaded text files from each directory, extracted their content, and created two separate dataframes for each category. We labeled the \"alcoolique\" texts as such and similarly labeled the \"non_alcoolique\" texts. Then, we combined these dataframes into a single \"posts\" dataframe containing both categories' texts and labels."
      ]
    },
    {
      "cell_type": "code",
      "execution_count": 15,
      "metadata": {
        "colab": {
          "base_uri": "https://localhost:8080/"
        },
        "id": "9E203Q5M6pSD",
        "outputId": "04292330-fd43-4426-8d53-8777927f16f0"
      },
      "outputs": [
        {
          "output_type": "stream",
          "name": "stdout",
          "text": [
            "﻿בעבר הייתי משתמשת בממריצים ומרבה לשתות כשהייתי צעירה ופוחזת. כיום אני אמא ל2 קטנטנות. עובדת ואמא מסורה, אוהבת ואחראית. ועדיין בתדירות כזאת או אחרת עושה שימוש לא ראוי בריטלין וגם שותה. כבר 15 שנה שאני לא מצליחה באמת להימנע מזה. אני במודעות ולכן לא מתדרדרת באופן קיצוני. מה גם שזה באמת עושה לי רע. המחירים כבדים. זה די נסתר כי אין ביני לבין בעלי אינטראקציה פתוחה ותומכת. אני רוצה לחדול ! חוששת שהגוף שלי כבר ישלם מחירים בלתי הפיכים. וזה טיפשי ! רוצה סוף סוף לדבר על זה בפתיחות ולהפסיק להיות ב״מלחמה״ הזאת לבד.\n"
          ]
        }
      ],
      "source": [
        "#ALCOOLIQUE\n",
        "\n",
        "DATA_DIR_alcol = \"/content/drive/MyDrive/deep_learning/alcol_posts/\"\n",
        "\n",
        "\n",
        "# Liste des fichiers texte dans le répertoire data dir c le chemin , etoile c nimporte quel caractere et tous les fichiers qui sont dans le fichier avec le lien au dessus et qui finissent par . txt\n",
        "txt_files = glob.glob(DATA_DIR_alcol + \"*.txt\")\n",
        "# Initialisation du tableau alcoolique , tableau a 3 colonnes\n",
        "alcoolique = pd.DataFrame(columns=[\"text\", \"id\"])\n",
        "\n",
        "# Boucle sur les fichiers texte , on a ouvert le premier fichier avec lencding macintoch\n",
        "for f in txt_files:\n",
        "    with open(f, \"r\") as file:\n",
        "        # Lecture du contenu du fichier\n",
        "        content = file.read()\n",
        "        # Ajout du contenu au tableau alcoolique pour creer une colonne ou ya ecrit alcoolique\n",
        "        alcoolique = alcoolique.append({\"text\": content, \"id\": f.replace(DATA_DIR_alcol, \"\").replace(\".txt\", \"\").replace(\"sample\",\"\")}, ignore_index=True)\n",
        "label_alc = [\"alcoolique\"] * 100\n",
        "alcoolique[\"lab\"] = label_alc\n",
        "\n",
        "\n",
        "#NON ALCOOLIQUE\n",
        "\n",
        "DATA_DIR_non_alcol = \"/content/drive/MyDrive/deep_learning/non_alcol_posts/\"\n",
        "\n",
        "# Pareille pour non_alcolique\n",
        "txt_files_non = glob.glob(DATA_DIR_non_alcol + \"*.txt\")\n",
        "non_alcoolique = pd.DataFrame(columns=[\"text\", \"id\"])\n",
        "for f in txt_files_non:\n",
        "    with open(f, \"r\") as file:\n",
        "        content = file.read()\n",
        "        non_alcoolique = non_alcoolique.append({\"text\": content, \"id\": f.replace(DATA_DIR_non_alcol, \"\").replace(\".txt\", \"\").replace(\"sample\",\"\")}, ignore_index=True)\n",
        "label_nonalc = [\"non_alcoolique\"] * 100\n",
        "non_alcoolique[\"lab\"] = label_nonalc\n",
        "\n",
        "\n",
        "#POSTS EST UNE CONCATENATION DE ALCOOLIQUE ET NON ALCOOLIQUE\n",
        "posts = pd.concat([alcoolique, non_alcoolique])\n",
        "\n",
        "#make this example reproducible\n",
        "np.random.seed(1)\n",
        "print(posts.iloc[0]['text'])"
      ]
    },
    {
      "cell_type": "markdown",
      "metadata": {
        "id": "eqLv8-Pv-TL9"
      },
      "source": [
        "\n",
        "We performed text preprocessing on our text data for classification. Using a translation table, we removed punctuation from the text and replaced numbers and English letters with empty spaces. Then, we split the text into words, removed stop words in hebrew, also we added some others stop_words, and rejoined the words. We split our data into training, validation, and test sets using the train_test_split function. Next, we employed TF-IDF vectorization to convert the textual data into numerical features. We used TfidfVectorizer to create TF-IDF matrices for our training, validation, and test data. Additionally, we used a label encoder to convert **alcoolique** or **non_alcoolique** labels into numerical values (0 or 1) for training, validation, and test sets.\n",
        "\n",
        "The TF-IDF (Term Frequency-Inverse Document Frequency) vectorizer is a text processing technique that is used to convert a collection of text documents into a matrix of numerical features. It's a method in natural language processing and information retrieval for representing the importance of words in a document relative to a corpus of documents.\n",
        "\n",
        "Here's how TF-IDF works step by step:\n",
        "\n",
        "Term Frequency (TF): For each document, the number of times a word appears in that document is counted. This count is divided by the total number of words in the document to get the term frequency of that word in that document.\n",
        "\n",
        "TF = (Number of times word appears in document) / (Total number of words in the document)\n",
        "\n",
        "Inverse Document Frequency (IDF): IDF measures how unique or rare a word is across the entire corpus. It's calculated as the logarithm of the total number of documents divided by the number of documents containing the word. This helps give more weight to words that are less common.\n",
        "\n",
        "IDF = log(N / D)\n",
        "\n",
        "where N is the total number of documents and D is the number of documents containing the word.\n",
        "\n",
        "TF-IDF Weighting: The TF-IDF score of a word in a specific document is obtained by multiplying its term frequency (TF) with its inverse document frequency (IDF). This score quantifies the importance of a word within a document relative to its importance across the entire corpus.\n",
        "\n",
        "TF-IDF = TF * IDF\n",
        "\n",
        "Vectorization: The TF-IDF scores for all the words in each document are combined to create a vector representation of that document.\n",
        "\n",
        "In summary, TF-IDF gives higher scores to words that appear frequently in a document but are relatively rare across all documents. This helps in capturing the distinguishing characteristics of documents within a corpus.\n",
        "\n",
        "When we use TfidfVectorizer from libraries like scikit-learn, it automates the process of calculating TF-IDF scores and transforming text data into numerical matrices. This transformed data can then be used as input for machine learning algorithms.\n",
        "\n",
        "\n",
        "\n",
        "\n",
        "\n"
      ]
    },
    {
      "cell_type": "code",
      "execution_count": 16,
      "metadata": {
        "id": "M-ZvyZpZ-S3D"
      },
      "outputs": [],
      "source": [
        "import string\n",
        "# Preprocessing the text data\n",
        "translator = str.maketrans(\"\", \"\", string.punctuation)\n",
        "data_X = []\n",
        "\n",
        "for i in range(len(posts)):\n",
        "    review = posts.iloc[i]['text'].translate(translator)\n",
        "    review = re.sub('[0-9]+', '', review)\n",
        "    review = re.sub('[a-zA-Z]+', '', review)\n",
        "    review = review.split()\n",
        "    review = [word for word in review if word not in stop_words]\n",
        "    review = ' '.join(review)\n",
        "    #print(i,review)\n",
        "    data_X.append(review)\n",
        "\n",
        "# Splitting the data\n",
        "X_train1, X_temp1, y_train_tf, y_temp1 = train_test_split(data_X, posts['lab'], test_size=0.2, random_state=42)\n",
        "X_val1, X_test1, y_val_tf, y_test_tf = train_test_split(X_temp1, y_temp1, test_size=0.5, random_state=42)\n",
        "\n",
        "# TF-IDF Vectorization\n",
        "tr_idf_model = TfidfVectorizer()\n",
        "X_train_tf = tr_idf_model.fit_transform(X_train1)\n",
        "X_train_tf = X_train_tf.toarray()\n",
        "\n",
        "X_test_tf = tr_idf_model.transform(X_test1)\n",
        "X_test_tf = X_test_tf.toarray()\n",
        "\n",
        "X_val_tf = tr_idf_model.transform(X_val1)\n",
        "X_val_tf = X_val_tf.toarray()\n",
        "\n",
        "from sklearn.preprocessing import LabelEncoder\n",
        "\n",
        "# Convertir les étiquettes en valeurs numériques\n",
        "label_encoder = LabelEncoder()\n",
        "y_train_tf = label_encoder.fit_transform(y_train_tf)\n",
        "y_val_tf = label_encoder.transform(y_val_tf)\n",
        "y_test_tf = label_encoder.transform(y_test_tf)"
      ]
    },
    {
      "cell_type": "markdown",
      "metadata": {
        "id": "dpSBxKOJQyDR"
      },
      "source": []
    },
    {
      "cell_type": "markdown",
      "metadata": {
        "id": "9Dg7nt0Y99V2"
      },
      "source": [
        "With the tf_idf startegy, we also would like to try with bag of words.\n",
        " This code snippet is performing tokenization and vectorization of the text data using the Keras Tokenizer. Here's an explanation of each step:\n",
        "\n",
        "1. Tokenization:\n",
        "Tokenization is the process of breaking down text into individual words or tokens. In this case, the text data from the 'text' column of the 'posts' DataFrame is tokenized. The Tokenizer learns the vocabulary of words from the provided text data and assigns a unique integer index to each word.\n",
        "\n",
        "2. Text to Matrix Conversion (Vectorization):\n",
        "After tokenization, the text data is transformed into a matrix format where each row corresponds to a document (text) and each column represents a word in the vocabulary. The value in the matrix indicates the presence ( the value 1) or a abcense (the value 0) of a word in a specific document.\n",
        "\n",
        "3. Spliting the data into training, testing and validation data.\n",
        "\n",
        "4. Label Encoding:\n",
        "Labels ('lab' column) are categorical data that need to be converted into numeric form for machine learning algorithms. The LabelEncoder from scikit-learn is used to encode the labels into numerical values."
      ]
    },
    {
      "cell_type": "code",
      "execution_count": 17,
      "metadata": {
        "id": "LxYvSD6W9AUe"
      },
      "outputs": [],
      "source": [
        "# Tokenize the training data\n",
        "tokenizer = Tokenizer()\n",
        "tokenizer.fit_on_texts(posts['text'])\n",
        "X=tokenizer.texts_to_matrix(posts['text'])\n",
        "word_index=tokenizer.word_index\n",
        "\n",
        "X_train, X_temp, y_train, y_temp = train_test_split(X, posts['lab'], test_size=0.2, random_state=42)\n",
        "X_val, X_test, y_val, y_test = train_test_split(X_temp, y_temp, test_size=0.5, random_state=42)\n",
        "\n",
        "label_encoder = LabelEncoder()\n",
        "y_train = label_encoder.fit_transform(y_train)\n",
        "y_val = label_encoder.transform(y_val)\n",
        "y_test = label_encoder.transform(y_test)"
      ]
    },
    {
      "cell_type": "markdown",
      "metadata": {
        "id": "kcovXYnjQAKA"
      },
      "source": [
        "We define a function called plot_history that takes a training history object as input. This function is designed to create a side-by-side comparison of training and validation accuracy as well as training and validation loss during the training process of a neural network model.\n",
        "\n",
        "This function helps visualize the progress and performance of the training process by plotting accuracy and loss curves for both training and validation datasets."
      ]
    },
    {
      "cell_type": "code",
      "execution_count": null,
      "metadata": {
        "id": "qNMrRra9P_qJ"
      },
      "outputs": [],
      "source": [
        "import matplotlib.pyplot as plt\n",
        "plt.style.use('ggplot')\n",
        "\n",
        "def plot_history(history):\n",
        "    acc = history.history['accuracy']\n",
        "    val_acc = history.history['val_accuracy']\n",
        "    loss = history.history['loss']\n",
        "    val_loss = history.history['val_loss']\n",
        "    x = range(1, len(acc) + 1)\n",
        "\n",
        "    plt.figure(figsize=(12, 5))\n",
        "    plt.subplot(1, 2, 1)\n",
        "    plt.plot(x, acc, 'b', label='Training acc')\n",
        "    plt.plot(x, val_acc, 'r', label='Validation acc')\n",
        "    plt.title('Training and validation accuracy')\n",
        "    plt.legend()\n",
        "    plt.subplot(1, 2, 2)\n",
        "    plt.plot(x, loss, 'b', label='Training loss')\n",
        "    plt.plot(x, val_loss, 'r', label='Validation loss')\n",
        "    plt.title('Training and validation loss')\n",
        "    plt.legend()"
      ]
    },
    {
      "cell_type": "markdown",
      "metadata": {
        "id": "fiVSQAIvYD9D"
      },
      "source": [
        "##MLP without embedding with Bag of words method"
      ]
    },
    {
      "cell_type": "code",
      "execution_count": null,
      "metadata": {
        "colab": {
          "base_uri": "https://localhost:8080/",
          "height": 1000
        },
        "id": "wIta_7E5YGiq",
        "outputId": "16f8866f-338b-4b75-dbbb-e0cac7f99038"
      },
      "outputs": [
        {
          "name": "stdout",
          "output_type": "stream",
          "text": [
            "Epoch 1/15\n",
            "5/5 [==============================] - 3s 191ms/step - loss: 0.6789 - accuracy: 0.5500 - val_loss: 0.6699 - val_accuracy: 0.4500\n",
            "Epoch 2/15\n",
            "5/5 [==============================] - 0s 31ms/step - loss: 0.6105 - accuracy: 0.6125 - val_loss: 0.6450 - val_accuracy: 0.4500\n",
            "Epoch 3/15\n",
            "5/5 [==============================] - 0s 34ms/step - loss: 0.5170 - accuracy: 0.8188 - val_loss: 0.6091 - val_accuracy: 0.5500\n",
            "Epoch 4/15\n",
            "5/5 [==============================] - 0s 32ms/step - loss: 0.4205 - accuracy: 0.9187 - val_loss: 0.5632 - val_accuracy: 0.6500\n",
            "Epoch 5/15\n",
            "5/5 [==============================] - 0s 29ms/step - loss: 0.3317 - accuracy: 0.9875 - val_loss: 0.5123 - val_accuracy: 0.7000\n",
            "Epoch 6/15\n",
            "5/5 [==============================] - 0s 36ms/step - loss: 0.2491 - accuracy: 0.9875 - val_loss: 0.4554 - val_accuracy: 0.8500\n",
            "Epoch 7/15\n",
            "5/5 [==============================] - 0s 33ms/step - loss: 0.1728 - accuracy: 0.9875 - val_loss: 0.3986 - val_accuracy: 0.9000\n",
            "Epoch 8/15\n",
            "5/5 [==============================] - 0s 32ms/step - loss: 0.1162 - accuracy: 0.9937 - val_loss: 0.3552 - val_accuracy: 0.9000\n",
            "Epoch 9/15\n",
            "5/5 [==============================] - 0s 34ms/step - loss: 0.0884 - accuracy: 0.9937 - val_loss: 0.3229 - val_accuracy: 0.9000\n",
            "Epoch 10/15\n",
            "5/5 [==============================] - 0s 29ms/step - loss: 0.0496 - accuracy: 1.0000 - val_loss: 0.2982 - val_accuracy: 0.9000\n",
            "Epoch 11/15\n",
            "5/5 [==============================] - 0s 33ms/step - loss: 0.0349 - accuracy: 1.0000 - val_loss: 0.2830 - val_accuracy: 0.9000\n",
            "Epoch 12/15\n",
            "5/5 [==============================] - 0s 30ms/step - loss: 0.0250 - accuracy: 1.0000 - val_loss: 0.2721 - val_accuracy: 0.9000\n",
            "Epoch 13/15\n",
            "5/5 [==============================] - 0s 33ms/step - loss: 0.0199 - accuracy: 1.0000 - val_loss: 0.2649 - val_accuracy: 0.9000\n",
            "Epoch 14/15\n",
            "5/5 [==============================] - 0s 34ms/step - loss: 0.0156 - accuracy: 1.0000 - val_loss: 0.2594 - val_accuracy: 0.9000\n",
            "Epoch 15/15\n",
            "5/5 [==============================] - 0s 32ms/step - loss: 0.0121 - accuracy: 1.0000 - val_loss: 0.2564 - val_accuracy: 0.9000\n",
            "1/1 [==============================] - 0s 89ms/step - loss: 0.3877 - accuracy: 0.8000\n",
            "Test loss: 0.38773292303085327\n",
            "Test accuracy: 0.800000011920929\n"
          ]
        },
        {
          "data": {
            "image/png": "[encoded data removed]",
            "text/plain": [
              "<Figure size 1200x500 with 2 Axes>"
            ]
          },
          "metadata": {},
          "output_type": "display_data"
        }
      ],
      "source": [
        "from tensorflow.keras.models import Sequential\n",
        "from tensorflow.keras.layers import Embedding, Dense, Flatten, Dropout\n",
        "from tensorflow.keras.callbacks import EarlyStopping\n",
        "\n",
        "# Création du modèle\n",
        "model = Sequential()\n",
        "\n",
        "# Ajout de la couche d'embedding\n",
        "model.add(Flatten())\n",
        "model.add(Dense(128, activation='relu'))\n",
        "model.add(Dropout(0.5))  # Ajustez le taux de dropout selon vos besoins\n",
        "model.add(Dense(64, activation='relu'))\n",
        "\n",
        "# Couche de sortie\n",
        "model.add(Dense(1, activation='sigmoid'))\n",
        "\n",
        "# Compilation du modèle\n",
        "model.compile(optimizer='adam', loss='binary_crossentropy', metrics=['accuracy'])\n",
        "\n",
        "history = model.fit(X_train, y_train, epochs=15, batch_size=32, validation_data=(X_val, y_val))\n",
        "\n",
        "# Évaluation sur l'ensemble de test\n",
        "loss, accuracy = model.evaluate(X_test, y_test)\n",
        "print(\"Test loss:\", loss)\n",
        "print(\"Test accuracy:\", accuracy)\n",
        "plot_history(history)\n"
      ]
    },
    {
      "cell_type": "markdown",
      "metadata": {
        "id": "4VRDMnWRGI8N"
      },
      "source": [
        "## MLP bag of words with embedding"
      ]
    },
    {
      "cell_type": "code",
      "execution_count": null,
      "metadata": {
        "colab": {
          "base_uri": "https://localhost:8080/"
        },
        "id": "ca2K1CSMs3Kz",
        "outputId": "4ca74b14-6a44-4a94-d02a-1c46e3872119"
      },
      "outputs": [
        {
          "name": "stdout",
          "output_type": "stream",
          "text": [
            "Epoch 1/15\n",
            "5/5 [==============================] - 11s 2s/step - loss: 3.6925 - accuracy: 0.4750 - val_loss: 2.4914 - val_accuracy: 0.6000\n",
            "Epoch 2/15\n",
            "5/5 [==============================] - 13s 2s/step - loss: 3.4443 - accuracy: 0.5250 - val_loss: 5.0195 - val_accuracy: 0.4000\n",
            "Epoch 3/15\n",
            "5/5 [==============================] - 13s 3s/step - loss: 2.4911 - accuracy: 0.4688 - val_loss: 0.6549 - val_accuracy: 0.8000\n",
            "Epoch 4/15\n",
            "5/5 [==============================] - 13s 2s/step - loss: 1.5537 - accuracy: 0.5188 - val_loss: 0.7213 - val_accuracy: 0.4000\n",
            "Epoch 5/15\n",
            "5/5 [==============================] - 14s 3s/step - loss: 0.8596 - accuracy: 0.5250 - val_loss: 0.7213 - val_accuracy: 0.4000\n",
            "Epoch 6/15\n",
            "5/5 [==============================] - 12s 3s/step - loss: 0.8106 - accuracy: 0.5125 - val_loss: 0.7063 - val_accuracy: 0.4000\n",
            "Epoch 7/15\n",
            "5/5 [==============================] - 10s 2s/step - loss: 0.6572 - accuracy: 0.6938 - val_loss: 0.6628 - val_accuracy: 0.7500\n",
            "Epoch 8/15\n",
            "5/5 [==============================] - 9s 2s/step - loss: 0.6903 - accuracy: 0.5562 - val_loss: 0.6489 - val_accuracy: 0.6000\n",
            "Epoch 9/15\n",
            "5/5 [==============================] - 7s 1s/step - loss: 0.6483 - accuracy: 0.6125 - val_loss: 0.6565 - val_accuracy: 0.8000\n",
            "Epoch 10/15\n",
            "5/5 [==============================] - 7s 2s/step - loss: 0.6501 - accuracy: 0.6000 - val_loss: 0.6253 - val_accuracy: 0.6000\n",
            "Epoch 11/15\n",
            "5/5 [==============================] - 8s 2s/step - loss: 0.6294 - accuracy: 0.6250 - val_loss: 0.6589 - val_accuracy: 0.4000\n",
            "Epoch 12/15\n",
            "5/5 [==============================] - 6s 1s/step - loss: 0.6397 - accuracy: 0.6125 - val_loss: 0.6369 - val_accuracy: 0.6000\n",
            "Epoch 13/15\n",
            "5/5 [==============================] - 9s 2s/step - loss: 0.6109 - accuracy: 0.6500 - val_loss: 0.6066 - val_accuracy: 0.7500\n",
            "Epoch 14/15\n",
            "5/5 [==============================] - 7s 1s/step - loss: 0.5552 - accuracy: 0.7375 - val_loss: 0.5632 - val_accuracy: 0.8500\n",
            "Epoch 15/15\n",
            "5/5 [==============================] - 9s 2s/step - loss: 0.5818 - accuracy: 0.6812 - val_loss: 0.5712 - val_accuracy: 0.8000\n",
            "1/1 [==============================] - 0s 111ms/step - loss: 0.5393 - accuracy: 0.8000\n",
            "Test loss: 0.5392986536026001\n",
            "Test accuracy: 0.800000011920929\n"
          ]
        }
      ],
      "source": [
        "from tensorflow.keras.models import Sequential\n",
        "from tensorflow.keras.layers import Embedding, Dense, Flatten, Dropout\n",
        "from tensorflow.keras.callbacks import EarlyStopping\n",
        "\n",
        "# Création du modèle\n",
        "model = Sequential()\n",
        "\n",
        "# Ajout de la couche d'embedding\n",
        "vocab_size = len(tr_idf_model.vocabulary_)\n",
        "embedding_dim = 100  # Ajustez la dimension selon vos besoins\n",
        "model.add(Embedding(input_dim=vocab_size, output_dim=embedding_dim, input_length=X_train.shape[1]))\n",
        "\n",
        "# Ajout des couches cachées\n",
        "model.add(Flatten())\n",
        "model.add(Dense(128, activation='relu'))\n",
        "model.add(Dropout(0.5))  # Ajustez le taux de dropout selon vos besoins\n",
        "model.add(Dense(64, activation='relu'))\n",
        "\n",
        "# Couche de sortie\n",
        "model.add(Dense(1, activation='sigmoid'))  # Si vous faites de la classification binaire\n",
        "\n",
        "# Compilation du modèle\n",
        "model.compile(optimizer='adam', loss='binary_crossentropy', metrics=['accuracy'])\n",
        "\n",
        "# Définition du EarlyStopping\n",
        "#early_stopping = EarlyStopping(monitor='val_loss', patience=5, restore_best_weights=True)\n",
        "\n",
        "# Entraînement du modèle\n",
        "history = model.fit(X_train, y_train, epochs=15, batch_size=32, validation_data=(X_val, y_val))\n",
        "\n",
        "# Évaluation sur l'ensemble de test\n",
        "loss, accuracy = model.evaluate(X_test, y_test)\n",
        "print(\"Test loss:\", loss)\n",
        "print(\"Test accuracy:\", accuracy)\n"
      ]
    },
    {
      "cell_type": "markdown",
      "metadata": {
        "id": "z9ZFQCjAvcur"
      },
      "source": [
        "##MLP with tf_idf method with embedding"
      ]
    },
    {
      "cell_type": "code",
      "execution_count": null,
      "metadata": {
        "colab": {
          "base_uri": "https://localhost:8080/"
        },
        "id": "WP_3TTm8vn_l",
        "outputId": "28f8ac04-b464-4916-e6ca-5a15b3695b94"
      },
      "outputs": [
        {
          "name": "stdout",
          "output_type": "stream",
          "text": [
            "Epoch 1/15\n",
            "5/5 [==============================] - 9s 2s/step - loss: 2.2477 - accuracy: 0.4563 - val_loss: 0.7742 - val_accuracy: 0.6000\n",
            "Epoch 2/15\n",
            "5/5 [==============================] - 6s 1s/step - loss: 1.5434 - accuracy: 0.4812 - val_loss: 0.6898 - val_accuracy: 0.6000\n",
            "Epoch 3/15\n",
            "5/5 [==============================] - 5s 1s/step - loss: 1.4588 - accuracy: 0.4625 - val_loss: 0.7406 - val_accuracy: 0.4000\n",
            "Epoch 4/15\n",
            "5/5 [==============================] - 8s 2s/step - loss: 1.0146 - accuracy: 0.5063 - val_loss: 0.6973 - val_accuracy: 0.4000\n",
            "Epoch 5/15\n",
            "5/5 [==============================] - 5s 1s/step - loss: 0.7596 - accuracy: 0.5437 - val_loss: 0.6749 - val_accuracy: 0.6000\n",
            "Epoch 6/15\n",
            "5/5 [==============================] - 5s 1s/step - loss: 0.7505 - accuracy: 0.5125 - val_loss: 0.7305 - val_accuracy: 0.4000\n",
            "Epoch 7/15\n",
            "5/5 [==============================] - 8s 2s/step - loss: 0.8038 - accuracy: 0.4500 - val_loss: 0.7071 - val_accuracy: 0.4000\n",
            "Epoch 8/15\n",
            "5/5 [==============================] - 5s 1s/step - loss: 0.6978 - accuracy: 0.5063 - val_loss: 0.6774 - val_accuracy: 0.6000\n",
            "Epoch 9/15\n",
            "5/5 [==============================] - 5s 1s/step - loss: 0.7034 - accuracy: 0.5063 - val_loss: 0.6896 - val_accuracy: 0.6000\n",
            "Epoch 10/15\n",
            "5/5 [==============================] - 8s 2s/step - loss: 0.7108 - accuracy: 0.4875 - val_loss: 0.6878 - val_accuracy: 0.6000\n",
            "Epoch 11/15\n",
            "5/5 [==============================] - 5s 1s/step - loss: 0.7077 - accuracy: 0.4187 - val_loss: 0.6813 - val_accuracy: 0.6000\n",
            "Epoch 12/15\n",
            "5/5 [==============================] - 5s 1s/step - loss: 0.7061 - accuracy: 0.4625 - val_loss: 0.6805 - val_accuracy: 0.6000\n",
            "Epoch 13/15\n",
            "5/5 [==============================] - 8s 2s/step - loss: 0.7027 - accuracy: 0.5000 - val_loss: 0.6877 - val_accuracy: 0.6000\n",
            "Epoch 14/15\n",
            "5/5 [==============================] - 5s 1s/step - loss: 0.6939 - accuracy: 0.4938 - val_loss: 0.7014 - val_accuracy: 0.4000\n",
            "Epoch 15/15\n",
            "5/5 [==============================] - 6s 1s/step - loss: 0.7087 - accuracy: 0.4938 - val_loss: 0.6949 - val_accuracy: 0.4000\n",
            "1/1 [==============================] - 0s 117ms/step - loss: 0.6906 - accuracy: 0.6500\n",
            "Test loss: 0.6905912160873413\n",
            "Test accuracy: 0.6499999761581421\n"
          ]
        }
      ],
      "source": [
        "from tensorflow.keras.models import Sequential\n",
        "from tensorflow.keras.layers import Embedding, Dense, Flatten, Dropout\n",
        "from tensorflow.keras.callbacks import EarlyStopping\n",
        "\n",
        "# Création du modèle\n",
        "model = Sequential()\n",
        "\n",
        "# Ajout de la couche d'embedding\n",
        "vocab_size = len(tr_idf_model.vocabulary_)\n",
        "embedding_dim = 100  # Ajustez la dimension selon vos besoins\n",
        "model.add(Embedding(input_dim=vocab_size, output_dim=embedding_dim, input_length=X_train_tf.shape[1]))\n",
        "\n",
        "# Ajout des couches cachées\n",
        "model.add(Flatten())\n",
        "model.add(Dense(128, activation='relu'))\n",
        "model.add(Dropout(0.5))  # Ajustez le taux de dropout selon vos besoins\n",
        "model.add(Dense(64, activation='relu'))\n",
        "\n",
        "# Couche de sortie\n",
        "model.add(Dense(1, activation='sigmoid'))  # Si vous faites de la classification binaire\n",
        "\n",
        "# Compilation du modèle\n",
        "model.compile(optimizer='adam', loss='binary_crossentropy', metrics=['accuracy'])\n",
        "\n",
        "# Définition du EarlyStopping\n",
        "#early_stopping = EarlyStopping(monitor='val_loss', patience=5, restore_best_weights=True)\n",
        "\n",
        "# Entraînement du modèle\n",
        "history = model.fit(X_train_tf, y_train_tf, epochs=15, batch_size=32, validation_data=(X_val_tf, y_val_tf))\n",
        "\n",
        "# Évaluation sur l'ensemble de test\n",
        "loss, accuracy = model.evaluate(X_test_tf, y_test_tf)\n",
        "print(\"Test loss:\", loss)\n",
        "print(\"Test accuracy:\", accuracy)"
      ]
    },
    {
      "cell_type": "markdown",
      "metadata": {
        "id": "kioH-IwN-m-U"
      },
      "source": [
        "##MLP with tf_idf method without embedding\n",
        "\n",
        "\n",
        "\n"
      ]
    },
    {
      "cell_type": "code",
      "execution_count": null,
      "metadata": {
        "colab": {
          "base_uri": "https://localhost:8080/"
        },
        "id": "7O8gwueA-lUp",
        "outputId": "d758bd16-0add-438e-f237-7f2429edb1ca"
      },
      "outputs": [
        {
          "name": "stdout",
          "output_type": "stream",
          "text": [
            "Epoch 1/15\n",
            "5/5 [==============================] - 1s 64ms/step - loss: 0.6932 - accuracy: 0.5063 - val_loss: 0.6899 - val_accuracy: 0.7000\n",
            "Epoch 2/15\n",
            "5/5 [==============================] - 0s 21ms/step - loss: 0.6829 - accuracy: 0.8125 - val_loss: 0.6864 - val_accuracy: 0.7000\n",
            "Epoch 3/15\n",
            "5/5 [==============================] - 0s 16ms/step - loss: 0.6654 - accuracy: 0.9750 - val_loss: 0.6804 - val_accuracy: 0.7000\n",
            "Epoch 4/15\n",
            "5/5 [==============================] - 0s 17ms/step - loss: 0.6435 - accuracy: 0.9937 - val_loss: 0.6696 - val_accuracy: 0.8000\n",
            "Epoch 5/15\n",
            "5/5 [==============================] - 0s 24ms/step - loss: 0.6070 - accuracy: 0.9937 - val_loss: 0.6530 - val_accuracy: 0.7500\n",
            "Epoch 6/15\n",
            "5/5 [==============================] - 0s 17ms/step - loss: 0.5579 - accuracy: 0.9937 - val_loss: 0.6294 - val_accuracy: 0.7500\n",
            "Epoch 7/15\n",
            "5/5 [==============================] - 0s 16ms/step - loss: 0.4857 - accuracy: 0.9937 - val_loss: 0.6001 - val_accuracy: 0.6500\n",
            "Epoch 8/15\n",
            "5/5 [==============================] - 0s 17ms/step - loss: 0.3889 - accuracy: 1.0000 - val_loss: 0.5650 - val_accuracy: 0.6500\n",
            "Epoch 9/15\n",
            "5/5 [==============================] - 0s 21ms/step - loss: 0.3003 - accuracy: 1.0000 - val_loss: 0.5218 - val_accuracy: 0.7500\n",
            "Epoch 10/15\n",
            "5/5 [==============================] - 0s 17ms/step - loss: 0.2189 - accuracy: 1.0000 - val_loss: 0.4778 - val_accuracy: 0.8000\n",
            "Epoch 11/15\n",
            "5/5 [==============================] - 0s 17ms/step - loss: 0.1404 - accuracy: 1.0000 - val_loss: 0.4433 - val_accuracy: 0.8000\n",
            "Epoch 12/15\n",
            "5/5 [==============================] - 0s 17ms/step - loss: 0.0912 - accuracy: 1.0000 - val_loss: 0.4204 - val_accuracy: 0.8000\n",
            "Epoch 13/15\n",
            "5/5 [==============================] - 0s 17ms/step - loss: 0.0563 - accuracy: 1.0000 - val_loss: 0.4004 - val_accuracy: 0.8000\n",
            "Epoch 14/15\n",
            "5/5 [==============================] - 0s 18ms/step - loss: 0.0359 - accuracy: 1.0000 - val_loss: 0.3815 - val_accuracy: 0.8000\n",
            "Epoch 15/15\n",
            "5/5 [==============================] - 0s 19ms/step - loss: 0.0233 - accuracy: 1.0000 - val_loss: 0.3717 - val_accuracy: 0.8000\n",
            "1/1 [==============================] - 0s 31ms/step - loss: 0.2969 - accuracy: 0.9000\n",
            "Test loss: 0.29693204164505005\n",
            "Test accuracy: 0.8999999761581421\n"
          ]
        }
      ],
      "source": [
        "from tensorflow.keras.models import Sequential\n",
        "from tensorflow.keras.layers import Embedding, Dense, Flatten, Dropout\n",
        "from tensorflow.keras.callbacks import EarlyStopping\n",
        "\n",
        "# Création du modèle\n",
        "model = Sequential()\n",
        "\n",
        "# Ajout de la couche d'embedding\n",
        "vocab_size = len(tr_idf_model.vocabulary_)\n",
        "embedding_dim = 100  # Ajustez la dimension selon vos besoins\n",
        "#model.add(Embedding(input_dim=vocab_size, output_dim=embedding_dim, input_length=X_train_tf.shape[1]))\n",
        "\n",
        "# Ajout des couches cachées\n",
        "model.add(Flatten())\n",
        "model.add(Dense(128, activation='relu'))\n",
        "model.add(Dropout(0.5))  # Ajustez le taux de dropout selon vos besoins\n",
        "model.add(Dense(64, activation='relu'))\n",
        "\n",
        "# Couche de sortie\n",
        "model.add(Dense(1, activation='sigmoid'))  # Si vous faites de la classification binaire\n",
        "\n",
        "# Compilation du modèle\n",
        "model.compile(optimizer='adam', loss='binary_crossentropy', metrics=['accuracy'])\n",
        "\n",
        "# Définition du EarlyStopping\n",
        "#early_stopping = EarlyStopping(monitor='val_loss', patience=5, restore_best_weights=True)\n",
        "\n",
        "# Entraînement du modèle\n",
        "history = model.fit(X_train_tf, y_train_tf, epochs=15, batch_size=32, validation_data=(X_val_tf, y_val_tf))\n",
        "\n",
        "# Évaluation sur l'ensemble de test\n",
        "loss, accuracy = model.evaluate(X_test_tf, y_test_tf)\n",
        "print(\"Test loss:\", loss)\n",
        "print(\"Test accuracy:\", accuracy)"
      ]
    },
    {
      "cell_type": "markdown",
      "metadata": {
        "id": "4R83MmfYJ0hw"
      },
      "source": [
        "*italicized text*\n",
        "\n",
        "##Lstm with tf_idf method with embedding"
      ]
    },
    {
      "cell_type": "code",
      "execution_count": null,
      "metadata": {
        "colab": {
          "base_uri": "https://localhost:8080/"
        },
        "id": "i2CZUtenILAb",
        "outputId": "de2969a7-0517-4d87-ba8d-92ebf385aad6"
      },
      "outputs": [
        {
          "name": "stdout",
          "output_type": "stream",
          "text": [
            "Epoch 1/10\n",
            "3/3 [==============================] - 90s 27s/step - loss: 0.6971 - accuracy: 0.4938 - val_loss: 0.6975 - val_accuracy: 0.4000\n",
            "Epoch 2/10\n",
            "3/3 [==============================] - 75s 25s/step - loss: 0.6937 - accuracy: 0.4750 - val_loss: 0.6907 - val_accuracy: 0.6000\n",
            "Epoch 3/10\n",
            "3/3 [==============================] - 74s 22s/step - loss: 0.6934 - accuracy: 0.5063 - val_loss: 0.6893 - val_accuracy: 0.6000\n",
            "Epoch 4/10\n",
            "3/3 [==============================] - 75s 22s/step - loss: 0.6931 - accuracy: 0.5063 - val_loss: 0.6900 - val_accuracy: 0.6000\n",
            "Epoch 5/10\n",
            "3/3 [==============================] - 80s 25s/step - loss: 0.6935 - accuracy: 0.5063 - val_loss: 0.6909 - val_accuracy: 0.6000\n",
            "Epoch 6/10\n",
            "3/3 [==============================] - 74s 25s/step - loss: 0.6932 - accuracy: 0.5063 - val_loss: 0.6902 - val_accuracy: 0.6000\n",
            "Epoch 7/10\n",
            "3/3 [==============================] - 75s 24s/step - loss: 0.6932 - accuracy: 0.5063 - val_loss: 0.6899 - val_accuracy: 0.6000\n",
            "Epoch 8/10\n",
            "3/3 [==============================] - 74s 22s/step - loss: 0.6933 - accuracy: 0.5125 - val_loss: 0.6906 - val_accuracy: 0.6000\n",
            "Epoch 9/10\n",
            "3/3 [==============================] - 85s 27s/step - loss: 0.6928 - accuracy: 0.5688 - val_loss: 0.6938 - val_accuracy: 0.4000\n",
            "Epoch 10/10\n",
            "3/3 [==============================] - 75s 24s/step - loss: 0.6931 - accuracy: 0.4625 - val_loss: 0.6952 - val_accuracy: 0.4000\n",
            "1/1 [==============================] - 2s 2s/step - loss: 0.6903 - accuracy: 0.6500\n",
            "Test loss: 0.6902519464492798\n",
            "Test accuracy: 0.6499999761581421\n"
          ]
        }
      ],
      "source": [
        "from tensorflow.keras.models import Sequential\n",
        "from tensorflow.keras.layers import Embedding, LSTM, Dense, Dropout\n",
        "from tensorflow.keras.callbacks import EarlyStopping\n",
        "\n",
        "# Creating the model\n",
        "model = Sequential()\n",
        "\n",
        "# Adding the embedding layer\n",
        "vocab = X_train_tf.shape[1]\n",
        "embedding_dim = 100  # Adjust the dimension as needed\n",
        "model.add(Embedding(input_dim=vocab, output_dim=embedding_dim, input_length=X_train_tf.shape[1]))\n",
        "\n",
        "# Adding the LSTM layer\n",
        "model.add(LSTM(128, return_sequences=True))\n",
        "model.add(Dropout(0.5))  # Adjust the dropout rate as needed\n",
        "model.add(LSTM(64))\n",
        "\n",
        "# Output layer\n",
        "model.add(Dense(1, activation='sigmoid'))  # For binary classification\n",
        "\n",
        "# Compiling the model\n",
        "model.compile(optimizer='adam', loss='binary_crossentropy', metrics=['accuracy'])\n",
        "\n",
        "# Defining EarlyStopping\n",
        "#early_stopping = EarlyStopping(monitor='val_loss', patience=3, restore_best_weights=True)\n",
        "\n",
        "# Training the model\n",
        "history = model.fit(X_train_tf, y_train_tf, epochs=10, batch_size=64, validation_data=(X_val_tf, y_val_tf))\n",
        "\n",
        "# Evaluating on the test set\n",
        "loss, accuracy = model.evaluate(X_test_tf, y_test_tf)\n",
        "print(\"Test loss:\", loss)\n",
        "print(\"Test accuracy:\", accuracy)\n"
      ]
    },
    {
      "cell_type": "code",
      "execution_count": null,
      "metadata": {
        "colab": {
          "base_uri": "https://localhost:8080/"
        },
        "id": "01ceC8MwLQLA",
        "outputId": "b2b43bde-264f-4141-ade9-3aa597440af6"
      },
      "outputs": [
        {
          "data": {
            "image/png": "[encoded data removed]",
            "text/plain": [
              "<Figure size 1200x500 with 2 Axes>"
            ]
          },
          "metadata": {},
          "output_type": "display_data"
        }
      ],
      "source": [
        "plot_history(history)"
      ]
    },
    {
      "cell_type": "markdown",
      "metadata": {
        "id": "g12rtXkr0Fwh"
      },
      "source": [
        "##LSTM using bag of words method with embedding\n",
        "\n"
      ]
    },
    {
      "cell_type": "code",
      "execution_count": null,
      "metadata": {
        "colab": {
          "base_uri": "https://localhost:8080/"
        },
        "id": "VlaSA1LP0E47",
        "outputId": "24ba3c41-13f0-4369-9ccf-de09d2fc80bf"
      },
      "outputs": [
        {
          "name": "stdout",
          "output_type": "stream",
          "text": [
            "Epoch 1/15\n",
            "3/3 [==============================] - 103s 30s/step - loss: 0.6955 - accuracy: 0.4500 - val_loss: 0.6894 - val_accuracy: 0.6000\n",
            "Epoch 2/15\n",
            "3/3 [==============================] - 97s 31s/step - loss: 0.6936 - accuracy: 0.5063 - val_loss: 0.6882 - val_accuracy: 0.6000\n",
            "Epoch 3/15\n",
            "3/3 [==============================] - 96s 30s/step - loss: 0.6932 - accuracy: 0.5063 - val_loss: 0.6865 - val_accuracy: 0.6000\n",
            "Epoch 4/15\n",
            "3/3 [==============================] - 97s 31s/step - loss: 0.6933 - accuracy: 0.5063 - val_loss: 0.6874 - val_accuracy: 0.6000\n",
            "Epoch 5/15\n",
            "3/3 [==============================] - 99s 32s/step - loss: 0.6929 - accuracy: 0.5063 - val_loss: 0.6894 - val_accuracy: 0.6000\n",
            "Epoch 6/15\n",
            "3/3 [==============================] - 101s 29s/step - loss: 0.6933 - accuracy: 0.5063 - val_loss: 0.6903 - val_accuracy: 0.6000\n",
            "Epoch 7/15\n",
            "3/3 [==============================] - 101s 30s/step - loss: 0.6927 - accuracy: 0.5000 - val_loss: 0.6909 - val_accuracy: 0.6000\n",
            "Epoch 8/15\n",
            "3/3 [==============================] - 95s 30s/step - loss: 0.6928 - accuracy: 0.5063 - val_loss: 0.6895 - val_accuracy: 0.6000\n",
            "Epoch 9/15\n",
            "3/3 [==============================] - 97s 31s/step - loss: 0.6930 - accuracy: 0.5063 - val_loss: 0.6890 - val_accuracy: 0.6000\n",
            "Epoch 10/15\n",
            "3/3 [==============================] - 96s 30s/step - loss: 0.6925 - accuracy: 0.5000 - val_loss: 0.6901 - val_accuracy: 0.6000\n",
            "Epoch 11/15\n",
            "3/3 [==============================] - 95s 29s/step - loss: 0.6928 - accuracy: 0.5063 - val_loss: 0.6904 - val_accuracy: 0.6000\n",
            "Epoch 12/15\n",
            "3/3 [==============================] - 97s 31s/step - loss: 0.6928 - accuracy: 0.5063 - val_loss: 0.6914 - val_accuracy: 0.6000\n",
            "Epoch 13/15\n",
            "3/3 [==============================] - 95s 31s/step - loss: 0.6922 - accuracy: 0.4875 - val_loss: 0.6878 - val_accuracy: 0.6000\n",
            "Epoch 14/15\n",
            "3/3 [==============================] - 95s 30s/step - loss: 0.6929 - accuracy: 0.5063 - val_loss: 0.6864 - val_accuracy: 0.6000\n",
            "Epoch 15/15\n",
            "3/3 [==============================] - 96s 31s/step - loss: 0.6916 - accuracy: 0.5063 - val_loss: 0.6893 - val_accuracy: 0.6000\n",
            "1/1 [==============================] - 2s 2s/step - loss: 0.6995 - accuracy: 0.3500\n",
            "Test loss: 0.6994674801826477\n",
            "Test accuracy: 0.3499999940395355\n"
          ]
        }
      ],
      "source": [
        "from tensorflow.keras.models import Sequential\n",
        "from tensorflow.keras.layers import Embedding, LSTM, Dense, Dropout\n",
        "from tensorflow.keras.callbacks import EarlyStopping\n",
        "\n",
        "# Creating the model\n",
        "model = Sequential()\n",
        "\n",
        "# Adding the embedding layer\n",
        "vocab_size = len(word_index)\n",
        "embedding_dim = 100\n",
        "model.add(Embedding(input_dim=vocab_size, output_dim=embedding_dim, input_length=X_train.shape[1]))\n",
        "\n",
        "# Adding the LSTM layer\n",
        "model.add(LSTM(128, return_sequences=True))\n",
        "model.add(Dropout(0.5))  # Adjust the dropout rate as needed\n",
        "model.add(LSTM(64))\n",
        "\n",
        "# Output layer\n",
        "model.add(Dense(1, activation='sigmoid'))\n",
        "\n",
        "# Compiling the model\n",
        "model.compile(optimizer='adam', loss='binary_crossentropy', metrics=['accuracy'])\n",
        "\n",
        "# Training the model\n",
        "history = model.fit(X_train, y_train, epochs=15, batch_size=64, validation_data=(X_val, y_val))\n",
        "\n",
        "# Evaluating on the test set\n",
        "loss, accuracy = model.evaluate(X_test, y_test)\n",
        "print(\"Test loss:\", loss)\n",
        "print(\"Test accuracy:\", accuracy)\n"
      ]
    },
    {
      "cell_type": "markdown",
      "metadata": {
        "id": "5bJ50boB5QdX"
      },
      "source": [
        "##LSTM tf_idf without embedding"
      ]
    },
    {
      "cell_type": "code",
      "execution_count": null,
      "metadata": {
        "colab": {
          "base_uri": "https://localhost:8080/"
        },
        "id": "5uV8u0bF5ViW",
        "outputId": "2185cc3f-987e-4ca2-8076-b4d376700510"
      },
      "outputs": [
        {
          "name": "stdout",
          "output_type": "stream",
          "text": [
            "1/1 [==============================] - 1s 735ms/step - loss: 0.6924 - accuracy: 0.6500\n",
            "Loss:  0.6924422383308411\n",
            "Accuracy:  0.6499999761581421\n"
          ]
        }
      ],
      "source": [
        "\n",
        "from keras.engine.training import optimizers\n",
        "from keras.models import Sequential\n",
        "from keras.layers import Dense, LSTM, Dropout\n",
        "\n",
        "# Créer un modèle séquentiel\n",
        "model_lstm = Sequential()\n",
        "# Ajouter une couche LSTM avec 16 neurones et la fonction d'activation ReLU\n",
        "model_lstm.add(LSTM(16, activation='tanh', input_shape=(X_train_tf.shape[1], 1), return_sequences=True))\n",
        "model_lstm.add(Dropout(0.2))\n",
        "\n",
        "# Ajouter une deuxième couche LSTM avec 32 neurones et la fonction d'activation ReLU\n",
        "model_lstm.add(LSTM(64, activation='tanh'))\n",
        "model_lstm.add(Dropout(0.2))\n",
        "\n",
        "# Ajouter une couche cachée avec 32 neurones et la fonction d'activation ReLU\n",
        "model_lstm.add(Dense(64, activation='relu'))\n",
        "model_lstm.add(Dropout(0.2))\n",
        "\n",
        "# Ajouter une couche de sortie avec une fonction d'activation Sigmoid\n",
        "model_lstm.add(Dense(1, activation='sigmoid'))\n",
        "\n",
        "optimizer= optimizers.Adam(learning_rate=0.001)\n",
        "\n",
        "# Compiler le modèle avec l'optimiseur Adam et la fonction de perte binary_crossentropy\n",
        "model_lstm.compile(optimizer=optimizer, loss='binary_crossentropy', metrics=['accuracy'])\n",
        "\n",
        "# Adapter le modèle aux données d'entraînement\n",
        "model_lstm.fit(X_train_tf.reshape(X_train_tf.shape[0],X_train_tf.shape[1], 1), y_train_tf, epochs=10, batch_size=128, verbose=False, validation_data=(X_val_tf.reshape(X_val_tf.shape[0],X_val_tf.shape[1], 1), y_val_tf))\n",
        "\n",
        "# Évaluer la performance du modèle sur les données de test\n",
        "evaluate_model_lstm = model_lstm.evaluate(X_test_tf.reshape(X_test_tf.shape[0],X_test_tf.shape[1], 1), y_test_tf)\n",
        "\n",
        "\n",
        "# Afficher la performance du modèle\n",
        "print(\"Loss: \", evaluate_model_lstm[0])\n",
        "print(\"Accuracy: \", evaluate_model_lstm[1])\n"
      ]
    },
    {
      "cell_type": "code",
      "execution_count": null,
      "metadata": {
        "colab": {
          "base_uri": "https://localhost:8080/",
          "height": 469
        },
        "id": "mfTypnHDw2bF",
        "outputId": "87233943-054d-409c-8561-6866266151ae"
      },
      "outputs": [
        {
          "data": {
            "image/png": "[encoded data removed]",
            "text/plain": [
              "<Figure size 1200x500 with 2 Axes>"
            ]
          },
          "metadata": {},
          "output_type": "display_data"
        }
      ],
      "source": [
        "plot_history(history)"
      ]
    },
    {
      "cell_type": "markdown",
      "metadata": {
        "id": "MSZzKosH2CWU"
      },
      "source": [
        "##LSTM with bag of words method without embedding"
      ]
    },
    {
      "cell_type": "code",
      "execution_count": null,
      "metadata": {
        "colab": {
          "base_uri": "https://localhost:8080/"
        },
        "id": "HiTOiMgh2B55",
        "outputId": "d5030252-4866-46e9-e628-4b4fc59c08cf"
      },
      "outputs": [
        {
          "name": "stdout",
          "output_type": "stream",
          "text": [
            "1/1 [==============================] - 1s 869ms/step - loss: 0.6912 - accuracy: 0.6500\n",
            "Loss:  0.6911920309066772\n",
            "Accuracy:  0.6499999761581421\n"
          ]
        }
      ],
      "source": [
        "\n",
        "from keras.engine.training import optimizers\n",
        "from keras.models import Sequential\n",
        "from keras.layers import Dense, LSTM, Dropout\n",
        "\n",
        "# Créer un modèle séquentiel\n",
        "model_lstm = Sequential()\n",
        "# Ajouter une couche LSTM avec 16 neurones et la fonction d'activation ReLU\n",
        "model_lstm.add(LSTM(16, activation='tanh', input_shape=(X_train.shape[1], 1), return_sequences=True))\n",
        "model_lstm.add(Dropout(0.2))\n",
        "\n",
        "# Ajouter une deuxième couche LSTM avec 32 neurones et la fonction d'activation ReLU\n",
        "model_lstm.add(LSTM(64, activation='tanh'))\n",
        "model_lstm.add(Dropout(0.2))\n",
        "\n",
        "# Ajouter une couche cachée avec 32 neurones et la fonction d'activation ReLU\n",
        "model_lstm.add(Dense(64, activation='relu'))\n",
        "model_lstm.add(Dropout(0.2))\n",
        "\n",
        "# Ajouter une couche de sortie avec une fonction d'activation Sigmoid\n",
        "model_lstm.add(Dense(1, activation='sigmoid'))\n",
        "\n",
        "optimizer= optimizers.Adam(learning_rate=0.001)\n",
        "\n",
        "# Compiler le modèle avec l'optimiseur Adam et la fonction de perte binary_crossentropy\n",
        "model_lstm.compile(optimizer=optimizer, loss='binary_crossentropy', metrics=['accuracy'])\n",
        "\n",
        "# Adapter le modèle aux données d'entraînement\n",
        "model_lstm.fit(X_train.reshape(X_train.shape[0],X_train.shape[1], 1), y_train, epochs=10, batch_size=128, verbose=False, validation_data=(X_val.reshape(X_val.shape[0],X_val.shape[1], 1), y_val))\n",
        "\n",
        "# Évaluer la performance du modèle sur les données de test\n",
        "evaluate_model_lstm = model_lstm.evaluate(X_test.reshape(X_test.shape[0],X_test.shape[1], 1), y_test)\n",
        "\n",
        "\n",
        "# Afficher la performance du modèle\n",
        "print(\"Loss: \", evaluate_model_lstm[0])\n",
        "print(\"Accuracy: \", evaluate_model_lstm[1])\n"
      ]
    },
    {
      "cell_type": "markdown",
      "metadata": {
        "id": "7oJfQ5ydzTkX"
      },
      "source": [
        "\n",
        "\n",
        "## GRU with Bag of word method with embedding"
      ]
    },
    {
      "cell_type": "code",
      "execution_count": null,
      "metadata": {
        "colab": {
          "base_uri": "https://localhost:8080/"
        },
        "id": "tSMAqHGezWom",
        "outputId": "769c3a0c-6095-412d-87be-4a3f99d83397"
      },
      "outputs": [
        {
          "name": "stdout",
          "output_type": "stream",
          "text": [
            "Epoch 1/10\n",
            "3/3 [==============================] - 90s 27s/step - loss: 0.6931 - accuracy: 0.4812 - val_loss: 0.6903 - val_accuracy: 0.6000\n",
            "Epoch 2/10\n",
            "3/3 [==============================] - 86s 27s/step - loss: 0.6933 - accuracy: 0.5125 - val_loss: 0.6903 - val_accuracy: 0.6000\n",
            "Epoch 3/10\n",
            "3/3 [==============================] - 84s 26s/step - loss: 0.6940 - accuracy: 0.4625 - val_loss: 0.6922 - val_accuracy: 0.6000\n",
            "Epoch 4/10\n",
            "3/3 [==============================] - 80s 25s/step - loss: 0.6941 - accuracy: 0.4750 - val_loss: 0.6900 - val_accuracy: 0.6000\n",
            "Epoch 5/10\n",
            "3/3 [==============================] - 85s 27s/step - loss: 0.6929 - accuracy: 0.5000 - val_loss: 0.6900 - val_accuracy: 0.6000\n",
            "Epoch 6/10\n",
            "3/3 [==============================] - 86s 26s/step - loss: 0.6924 - accuracy: 0.5000 - val_loss: 0.6884 - val_accuracy: 0.6000\n",
            "Epoch 7/10\n",
            "3/3 [==============================] - 82s 25s/step - loss: 0.6915 - accuracy: 0.5063 - val_loss: 0.6897 - val_accuracy: 0.6000\n",
            "Epoch 8/10\n",
            "3/3 [==============================] - 83s 26s/step - loss: 0.6943 - accuracy: 0.4875 - val_loss: 0.6870 - val_accuracy: 0.6000\n",
            "Epoch 9/10\n",
            "3/3 [==============================] - 85s 26s/step - loss: 0.6925 - accuracy: 0.5000 - val_loss: 0.6919 - val_accuracy: 0.6000\n",
            "Epoch 10/10\n",
            "3/3 [==============================] - 81s 25s/step - loss: 0.6914 - accuracy: 0.5000 - val_loss: 0.6947 - val_accuracy: 0.4000\n",
            "1/1 [==============================] - 2s 2s/step - loss: 0.6909 - accuracy: 0.6500\n",
            "Test loss: 0.690870463848114\n",
            "Test accuracy: 0.6499999761581421\n"
          ]
        }
      ],
      "source": [
        "from tensorflow.keras.models import Sequential\n",
        "from tensorflow.keras.layers import Embedding, GRU, Dense, Dropout\n",
        "from tensorflow.keras.callbacks import EarlyStopping\n",
        "\n",
        "# Creating the model\n",
        "model = Sequential()\n",
        "\n",
        "# Adding the embedding layer\n",
        "vocab_size = len(word_index)\n",
        "embedding_dim = 100  # Adjust the dimension as needed\n",
        "model.add(Embedding(input_dim=vocab_size, output_dim=embedding_dim, input_length=X_train.shape[1]))\n",
        "\n",
        "# Adding the LSTM layer\n",
        "model.add(GRU(128, return_sequences=True))\n",
        "model.add(Dropout(0.5))  # Adjust the dropout rate as needed\n",
        "model.add(GRU(64))\n",
        "\n",
        "# Output layer\n",
        "model.add(Dense(1, activation='sigmoid'))  # For binary classification\n",
        "\n",
        "# Compiling the model\n",
        "model.compile(optimizer='adam', loss='binary_crossentropy', metrics=['accuracy'])\n",
        "\n",
        "# Defining EarlyStopping\n",
        "#early_stopping = EarlyStopping(monitor='val_loss', patience=3, restore_best_weights=True)\n",
        "\n",
        "# Training the model\n",
        "history = model.fit(X_train, y_train, epochs=10, batch_size=64, validation_data=(X_val, y_val))\n",
        "\n",
        "# Evaluating on the test set\n",
        "loss, accuracy = model.evaluate(X_test, y_test)\n",
        "print(\"Test loss:\", loss)\n",
        "print(\"Test accuracy:\", accuracy)\n"
      ]
    },
    {
      "cell_type": "code",
      "execution_count": null,
      "metadata": {
        "colab": {
          "base_uri": "https://localhost:8080/"
        },
        "id": "jPV1CWmsLC7w",
        "outputId": "7f40edf4-3595-4d30-b658-93155b137a82"
      },
      "outputs": [
        {
          "data": {
            "image/png": "[encoded data removed]",
            "text/plain": [
              "<Figure size 1200x500 with 2 Axes>"
            ]
          },
          "metadata": {},
          "output_type": "display_data"
        }
      ],
      "source": [
        "plot_history(history)"
      ]
    },
    {
      "cell_type": "markdown",
      "metadata": {
        "id": "EP8abUdi0L1H"
      },
      "source": [
        "## GRU with tf_idf method with embedding"
      ]
    },
    {
      "cell_type": "code",
      "execution_count": null,
      "metadata": {
        "colab": {
          "base_uri": "https://localhost:8080/"
        },
        "id": "SfulM3I0KFEz",
        "outputId": "85f58169-6faf-42ed-f894-8d200e59d756"
      },
      "outputs": [
        {
          "name": "stdout",
          "output_type": "stream",
          "text": [
            "Epoch 1/10\n",
            "5/5 [==============================] - 72s 14s/step - loss: 0.6950 - accuracy: 0.5125 - val_loss: 0.6911 - val_accuracy: 0.6000\n",
            "Epoch 2/10\n",
            "5/5 [==============================] - 65s 13s/step - loss: 0.6929 - accuracy: 0.4938 - val_loss: 0.6934 - val_accuracy: 0.4000\n",
            "Epoch 3/10\n",
            "5/5 [==============================] - 64s 13s/step - loss: 0.6943 - accuracy: 0.5000 - val_loss: 0.6943 - val_accuracy: 0.4000\n",
            "Epoch 4/10\n",
            "5/5 [==============================] - 67s 13s/step - loss: 0.6951 - accuracy: 0.4500 - val_loss: 0.6924 - val_accuracy: 0.6000\n",
            "Epoch 5/10\n",
            "5/5 [==============================] - 66s 13s/step - loss: 0.6936 - accuracy: 0.4563 - val_loss: 0.6899 - val_accuracy: 0.6000\n",
            "Epoch 6/10\n",
            "5/5 [==============================] - 63s 13s/step - loss: 0.6946 - accuracy: 0.5000 - val_loss: 0.6848 - val_accuracy: 0.6000\n",
            "Epoch 7/10\n",
            "5/5 [==============================] - 66s 13s/step - loss: 0.6935 - accuracy: 0.5125 - val_loss: 0.6896 - val_accuracy: 0.6000\n",
            "Epoch 8/10\n",
            "5/5 [==============================] - 66s 13s/step - loss: 0.6929 - accuracy: 0.5125 - val_loss: 0.6904 - val_accuracy: 0.6000\n",
            "Epoch 9/10\n",
            "5/5 [==============================] - 62s 13s/step - loss: 0.6930 - accuracy: 0.5437 - val_loss: 0.6935 - val_accuracy: 0.4000\n",
            "Epoch 10/10\n",
            "5/5 [==============================] - 67s 13s/step - loss: 0.6934 - accuracy: 0.4938 - val_loss: 0.6933 - val_accuracy: 0.4000\n",
            "1/1 [==============================] - 1s 1s/step - loss: 0.6929 - accuracy: 0.6500\n",
            "Test loss: 0.6929378509521484\n",
            "Test accuracy: 0.6499999761581421\n"
          ]
        }
      ],
      "source": [
        "from tensorflow.keras.models import Sequential\n",
        "from tensorflow.keras.layers import GRU, Dense, Dropout\n",
        "\n",
        "# Creating the model\n",
        "model = Sequential()\n",
        "\n",
        "# Adding the embedding layer\n",
        "vocab_size=len(word_index)\n",
        "embedding_dim = 100  # Adjust the dimension as needed\n",
        "model.add(Embedding(input_dim=vocab_size, output_dim=embedding_dim, input_length=X_train_tf.shape[1]))\n",
        "\n",
        "# Adding the LSTM layer\n",
        "model.add(GRU(128, return_sequences=True))\n",
        "model.add(Dropout(0.5))  # Adjust the dropout rate as needed\n",
        "model.add(GRU(64))\n",
        "\n",
        "# Output layer\n",
        "model.add(Dense(1, activation='sigmoid'))  # For binary classification\n",
        "\n",
        "# Compiling the model\n",
        "model.compile(optimizer='adam', loss='binary_crossentropy', metrics=['accuracy'])\n",
        "# Training the model\n",
        "history = model.fit(X_train_tf, y_train_tf, epochs=10, batch_size=32, validation_data=(X_val_tf, y_val_tf))\n",
        "\n",
        "# Evaluating on the test set\n",
        "loss, accuracy = model.evaluate(X_test_tf, y_test_tf)\n",
        "print(\"Test loss:\", loss)\n",
        "print(\"Test accuracy:\", accuracy)\n"
      ]
    },
    {
      "cell_type": "code",
      "execution_count": null,
      "metadata": {
        "colab": {
          "base_uri": "https://localhost:8080/"
        },
        "id": "EBJbaiKK3-Xo",
        "outputId": "c73b01e7-d763-4a64-eaf2-645f89e0ba9a"
      },
      "outputs": [
        {
          "data": {
            "image/png": "[encoded data removed]",
            "text/plain": [
              "<Figure size 1200x500 with 2 Axes>"
            ]
          },
          "metadata": {},
          "output_type": "display_data"
        }
      ],
      "source": [
        "plot_history(history)"
      ]
    },
    {
      "cell_type": "markdown",
      "metadata": {
        "id": "xkQl59Pu4MfT"
      },
      "source": [
        "## GRU for bag of words without embedding"
      ]
    },
    {
      "cell_type": "code",
      "execution_count": null,
      "metadata": {
        "colab": {
          "base_uri": "https://localhost:8080/"
        },
        "id": "sg0S3vvFVMgb",
        "outputId": "27778e0b-cc90-4cb5-fab7-d8825c382631"
      },
      "outputs": [
        {
          "name": "stdout",
          "output_type": "stream",
          "text": [
            "Epoch 1/2\n",
            "5/5 [==============================] - 13s 2s/step - loss: 0.6934 - accuracy: 0.4750 - val_loss: 0.6964 - val_accuracy: 0.3500\n",
            "Epoch 2/2\n",
            "5/5 [==============================] - 9s 2s/step - loss: 0.6930 - accuracy: 0.5063 - val_loss: 0.6962 - val_accuracy: 0.3500\n",
            "1/1 [==============================] - 0s 454ms/step - loss: 0.6962 - accuracy: 0.3500\n",
            "Loss:  0.6962153911590576\n",
            "Accuracy:  0.3499999940395355\n"
          ]
        }
      ],
      "source": [
        "X_train = X_train.reshape(X_train.shape[0], X_train.shape[1], 1)\n",
        "X_test = X_test.reshape(X_test.shape[0], X_test.shape[1], 1)\n",
        "\n",
        "model_GRU = tf.keras.Sequential([\n",
        "    tf.keras.layers.GRU(64, input_shape=(X_train.shape[1], X_train.shape[2])),\n",
        "    tf.keras.layers.Dense(1, activation='sigmoid')\n",
        "])\n",
        "\n",
        "model_GRU.compile(loss='binary_crossentropy', optimizer='adam', metrics=['accuracy'])\n",
        "\n",
        "# Training the model\n",
        "model_GRU.fit(X_train, y_train, epochs=2, batch_size=32, validation_data=(X_test, y_test))\n",
        "\n",
        "evaluate_model_GRU = model_GRU.evaluate(X_test, y_test)\n",
        "\n",
        "# Afficher la performance du modèle\n",
        "print(\"Loss: \", evaluate_model_GRU[0])\n",
        "print(\"Accuracy: \", evaluate_model_GRU[1])\n"
      ]
    },
    {
      "cell_type": "markdown",
      "metadata": {
        "id": "YwggV5By412g"
      },
      "source": [
        "## GRU tf-idf without *embedding*"
      ]
    },
    {
      "cell_type": "code",
      "execution_count": null,
      "metadata": {
        "colab": {
          "base_uri": "https://localhost:8080/"
        },
        "id": "uY3NgR60UpYB",
        "outputId": "ae1c1437-900b-4c58-af8e-acaca985c0b6"
      },
      "outputs": [
        {
          "name": "stdout",
          "output_type": "stream",
          "text": [
            "Epoch 1/15\n",
            "3/3 [==============================] - 13s 3s/step - loss: 0.6933 - accuracy: 0.4938 - val_loss: 0.6969 - val_accuracy: 0.3500\n",
            "Epoch 2/15\n",
            "3/3 [==============================] - 7s 2s/step - loss: 0.6932 - accuracy: 0.5063 - val_loss: 0.6969 - val_accuracy: 0.3500\n",
            "Epoch 3/15\n",
            "3/3 [==============================] - 10s 3s/step - loss: 0.6933 - accuracy: 0.5063 - val_loss: 0.6955 - val_accuracy: 0.3500\n",
            "Epoch 4/15\n",
            "3/3 [==============================] - 7s 2s/step - loss: 0.6931 - accuracy: 0.5063 - val_loss: 0.6960 - val_accuracy: 0.3500\n",
            "Epoch 5/15\n",
            "3/3 [==============================] - 10s 3s/step - loss: 0.6931 - accuracy: 0.5063 - val_loss: 0.6960 - val_accuracy: 0.3500\n",
            "Epoch 6/15\n",
            "3/3 [==============================] - 7s 2s/step - loss: 0.6931 - accuracy: 0.5063 - val_loss: 0.6957 - val_accuracy: 0.3500\n",
            "Epoch 7/15\n",
            "3/3 [==============================] - 10s 4s/step - loss: 0.6931 - accuracy: 0.5063 - val_loss: 0.6961 - val_accuracy: 0.3500\n",
            "Epoch 8/15\n",
            "3/3 [==============================] - 7s 2s/step - loss: 0.6930 - accuracy: 0.5063 - val_loss: 0.6963 - val_accuracy: 0.3500\n",
            "Epoch 9/15\n",
            "3/3 [==============================] - 10s 4s/step - loss: 0.6930 - accuracy: 0.5063 - val_loss: 0.6960 - val_accuracy: 0.3500\n",
            "Epoch 10/15\n",
            "3/3 [==============================] - 7s 2s/step - loss: 0.6931 - accuracy: 0.5063 - val_loss: 0.6960 - val_accuracy: 0.3500\n",
            "Epoch 11/15\n",
            "3/3 [==============================] - 9s 4s/step - loss: 0.6930 - accuracy: 0.5125 - val_loss: 0.6970 - val_accuracy: 0.3500\n",
            "Epoch 12/15\n",
            "3/3 [==============================] - 8s 2s/step - loss: 0.6930 - accuracy: 0.5063 - val_loss: 0.6974 - val_accuracy: 0.3500\n",
            "Epoch 13/15\n",
            "3/3 [==============================] - 8s 3s/step - loss: 0.6930 - accuracy: 0.5063 - val_loss: 0.6982 - val_accuracy: 0.3500\n",
            "Epoch 14/15\n",
            "3/3 [==============================] - 9s 2s/step - loss: 0.6931 - accuracy: 0.5063 - val_loss: 0.6988 - val_accuracy: 0.3500\n",
            "Epoch 15/15\n",
            "3/3 [==============================] - 7s 3s/step - loss: 0.6930 - accuracy: 0.5063 - val_loss: 0.6985 - val_accuracy: 0.3500\n",
            "1/1 [==============================] - 1s 675ms/step - loss: 0.6985 - accuracy: 0.3500\n",
            "Loss:  0.6985266208648682\n",
            "Accuracy:  0.3499999940395355\n"
          ]
        }
      ],
      "source": [
        "from keras.layers import Dense, GRU, Dropout\n",
        "X_train_tf = X_train_tf.reshape(X_train_tf.shape[0], X_train_tf.shape[1], 1)\n",
        "X_test_tf = X_test_tf.reshape(X_test_tf.shape[0], X_test_tf.shape[1], 1)\n",
        "\n",
        "model_GRU = tf.keras.Sequential([\n",
        "    tf.keras.layers.GRU(64, input_shape=(X_train_tf.shape[1], X_train_tf.shape[2])),\n",
        "    tf.keras.layers.Dense(1, activation='sigmoid')\n",
        "])\n",
        "\n",
        "model_GRU.compile(loss='binary_crossentropy', optimizer='adam', metrics=['accuracy'])\n",
        "\n",
        "# Training the model\n",
        "model_GRU.fit(X_train_tf, y_train_tf, epochs=15, batch_size=64, validation_data=(X_test_tf, y_test_tf))\n",
        "\n",
        "evaluate_model_GRU = model_GRU.evaluate(X_test_tf, y_test_tf)\n",
        "\n",
        "\n",
        "# Afficher la performance du modèle\n",
        "print(\"Loss: \", evaluate_model_GRU[0])\n",
        "print(\"Accuracy: \", evaluate_model_GRU[1])"
      ]
    },
    {
      "cell_type": "code",
      "execution_count": null,
      "metadata": {
        "colab": {
          "base_uri": "https://localhost:8080/"
        },
        "id": "hKNcB8QAWKmn",
        "outputId": "24722b8b-3b8a-4b75-b99e-c30572868764"
      },
      "outputs": [
        {
          "name": "stdout",
          "output_type": "stream",
          "text": [
            "Accuracy:  0.3499999940395355\n"
          ]
        }
      ],
      "source": [
        "print(\"Accuracy: \", evaluate_model_GRU[1])"
      ]
    },
    {
      "cell_type": "markdown",
      "metadata": {
        "id": "dz9GkmVY0N69"
      },
      "source": [
        "## RNN with tf_idf with embedding"
      ]
    },
    {
      "cell_type": "code",
      "execution_count": null,
      "metadata": {
        "colab": {
          "base_uri": "https://localhost:8080/"
        },
        "id": "L8LKalgU0Nb6",
        "outputId": "cddd4b8a-a097-4d66-d744-2baaff3c95ec"
      },
      "outputs": [
        {
          "name": "stdout",
          "output_type": "stream",
          "text": [
            "1/1 [==============================] - 0s 387ms/step - loss: 0.7062 - accuracy: 0.4000\n",
            "Loss:  0.7061932682991028\n",
            "Accuracy:  0.4000000059604645\n"
          ]
        }
      ],
      "source": [
        "from keras.engine.training import optimizers\n",
        "from keras.models import Sequential\n",
        "from keras.layers import Dense, SimpleRNN, Dropout\n",
        "\n",
        "# Créer un modèle séquentiel\n",
        "model_rnn = Sequential()\n",
        "\n",
        "model_rnn.add(Embedding(input_dim=10000, output_dim=64, input_length=X_train_tf.shape[1]))\n",
        "\n",
        "# Ajouter une couche RNN avec 16 neurones et la fonction d'activation tanh\n",
        "model_rnn.add(SimpleRNN(16, activation='tanh', return_sequences=True))\n",
        "model_rnn.add(Dropout(0.2))\n",
        "\n",
        "# Ajouter une deuxième couche RNN avec 64 neurones et la fonction d'activation tanh\n",
        "model_rnn.add(SimpleRNN(64, activation='tanh'))\n",
        "model_rnn.add(Dropout(0.2))\n",
        "\n",
        "# Ajouter une couche cachée avec 64 neurones et la fonction d'activation ReLU\n",
        "model_rnn.add(Dense(64, activation='relu'))\n",
        "model_rnn.add(Dropout(0.2))\n",
        "\n",
        "# Ajouter une couche de sortie avec une fonction d'activation Sigmoid\n",
        "model_rnn.add(Dense(1, activation='sigmoid'))\n",
        "\n",
        "optimizer= optimizers.Adam(learning_rate=0.001)\n",
        "\n",
        "# Compiler le modèle avec l'optimiseur Adam et la fonction de perte binary_crossentropy\n",
        "model_rnn.compile(optimizer=optimizer, loss='binary_crossentropy', metrics=['accuracy'])\n",
        "\n",
        "# Adapter le modèle aux données d'entraînement\n",
        "model_rnn.fit(X_train_tf, y_train_tf, epochs=20, batch_size=128, verbose=False, validation_data=(X_val_tf, y_val_tf))\n",
        "\n",
        "# Évaluer la performance du modèle sur les données de test\n",
        "evaluate_model_rnn = model_rnn.evaluate(X_val_tf, y_val_tf)\n",
        "\n",
        "# Afficher la performance du modèle\n",
        "print(\"Loss: \", evaluate_model_rnn[0])\n",
        "print(\"Accuracy: \", evaluate_model_rnn[1])\n"
      ]
    },
    {
      "cell_type": "markdown",
      "metadata": {
        "id": "rDBG5ectKiDC"
      },
      "source": [
        "##RNN for bag of words method with embedding"
      ]
    },
    {
      "cell_type": "code",
      "execution_count": null,
      "metadata": {
        "colab": {
          "base_uri": "https://localhost:8080/"
        },
        "id": "8qedq5xrKhqh",
        "outputId": "4e09768f-770b-45c8-baac-5c8c826e6ba6"
      },
      "outputs": [
        {
          "name": "stdout",
          "output_type": "stream",
          "text": [
            "1/1 [==============================] - 0s 439ms/step - loss: 0.6834 - accuracy: 0.6000\n",
            "Loss:  0.6833565831184387\n",
            "Accuracy:  0.6000000238418579\n"
          ]
        }
      ],
      "source": [
        "from keras.engine.training import optimizers\n",
        "from keras.models import Sequential\n",
        "from keras.layers import Dense, SimpleRNN, Dropout\n",
        "from tensorflow.keras.callbacks import EarlyStopping\n",
        "\n",
        "early_stop = EarlyStopping(monitor='val_loss', patience=5, restore_best_weights=True)\n",
        "\n",
        "model_rnn = Sequential()\n",
        "model_rnn.add(Embedding(input_dim=vocab_size, output_dim=64, input_length=X_train.shape[1]))\n",
        "model_rnn.add(SimpleRNN(16, activation='tanh', return_sequences=True))\n",
        "model_rnn.add(Dropout(0.2))\n",
        "model_rnn.add(SimpleRNN(64, activation='tanh'))\n",
        "model_rnn.add(Dropout(0.2))\n",
        "model_rnn.add(Dense(64, activation='relu'))\n",
        "model_rnn.add(Dropout(0.2))\n",
        "model_rnn.add(Dense(1, activation='sigmoid'))\n",
        "optimizer= optimizers.Adam(learning_rate=0.001)\n",
        "model_rnn.compile(optimizer=optimizer, loss='binary_crossentropy', metrics=['accuracy'])\n",
        "model_rnn.fit(X_train, y_train, epochs=10, batch_size=128, verbose=False, validation_data=(X_val, y_val), callbacks=[early_stop])\n",
        "evaluate_model_rnn = model_rnn.evaluate(X_val, y_val)\n",
        "print(\"Loss: \", evaluate_model_rnn[0])\n",
        "print(\"Accuracy: \", evaluate_model_rnn[1])\n"
      ]
    },
    {
      "cell_type": "markdown",
      "metadata": {
        "id": "Im3n5YzRKwj8"
      },
      "source": [
        "##RNN with tf_idf without embedding"
      ]
    },
    {
      "cell_type": "code",
      "execution_count": null,
      "metadata": {
        "colab": {
          "background_save": true,
          "base_uri": "https://localhost:8080/"
        },
        "id": "wreIrfjHLLUC",
        "outputId": "b7e2b876-b243-49aa-82be-353129ee2a21"
      },
      "outputs": [
        {
          "name": "stdout",
          "output_type": "stream",
          "text": [
            "Epoch 1/15\n",
            "3/3 [==============================] - 4s 1s/step - loss: 0.6958 - accuracy: 0.4938 - val_loss: 0.7058 - val_accuracy: 0.5500\n",
            "Epoch 2/15\n",
            "3/3 [==============================] - 2s 857ms/step - loss: 0.6912 - accuracy: 0.5312 - val_loss: 0.6969 - val_accuracy: 0.4500\n",
            "Epoch 3/15\n",
            "3/3 [==============================] - 3s 1s/step - loss: 0.6984 - accuracy: 0.4812 - val_loss: 0.7018 - val_accuracy: 0.4000\n",
            "Epoch 4/15\n",
            "3/3 [==============================] - 5s 2s/step - loss: 0.6945 - accuracy: 0.4563 - val_loss: 0.6936 - val_accuracy: 0.5500\n",
            "Epoch 5/15\n",
            "3/3 [==============================] - 4s 1s/step - loss: 0.6936 - accuracy: 0.5312 - val_loss: 0.7024 - val_accuracy: 0.3500\n",
            "Epoch 6/15\n",
            "3/3 [==============================] - 2s 792ms/step - loss: 0.6963 - accuracy: 0.4375 - val_loss: 0.6971 - val_accuracy: 0.4000\n",
            "Epoch 7/15\n",
            "3/3 [==============================] - 2s 863ms/step - loss: 0.6918 - accuracy: 0.5000 - val_loss: 0.6967 - val_accuracy: 0.3000\n",
            "Epoch 8/15\n",
            "3/3 [==============================] - 2s 859ms/step - loss: 0.6887 - accuracy: 0.5437 - val_loss: 0.6889 - val_accuracy: 0.5500\n",
            "Epoch 9/15\n",
            "3/3 [==============================] - 4s 1s/step - loss: 0.6997 - accuracy: 0.5188 - val_loss: 0.7022 - val_accuracy: 0.5000\n",
            "Epoch 10/15\n",
            "3/3 [==============================] - 5s 2s/step - loss: 0.6972 - accuracy: 0.5188 - val_loss: 0.6838 - val_accuracy: 0.5500\n",
            "Epoch 11/15\n",
            "3/3 [==============================] - 3s 866ms/step - loss: 0.6740 - accuracy: 0.6187 - val_loss: 0.6983 - val_accuracy: 0.5000\n",
            "Epoch 12/15\n",
            "3/3 [==============================] - 2s 865ms/step - loss: 0.7001 - accuracy: 0.4563 - val_loss: 0.6630 - val_accuracy: 0.7000\n",
            "Epoch 13/15\n",
            "3/3 [==============================] - 2s 826ms/step - loss: 0.7040 - accuracy: 0.4938 - val_loss: 0.7520 - val_accuracy: 0.3000\n",
            "Epoch 14/15\n",
            "3/3 [==============================] - 2s 856ms/step - loss: 0.6958 - accuracy: 0.5188 - val_loss: 0.6779 - val_accuracy: 0.6000\n",
            "Epoch 15/15\n",
            "3/3 [==============================] - 4s 2s/step - loss: 0.6978 - accuracy: 0.5125 - val_loss: 0.6722 - val_accuracy: 0.6500\n",
            "1/1 [==============================] - 0s 210ms/step - loss: 0.6722 - accuracy: 0.6500\n",
            "Loss:  0.672155499458313\n",
            "Accuracy:  0.6499999761581421\n"
          ]
        }
      ],
      "source": [
        "from keras.engine.training import optimizers\n",
        "from keras.models import Sequential\n",
        "from keras.layers import Dense, SimpleRNN, Dropout\n",
        "\n",
        "\n",
        "X_train_tf = X_train_tf.reshape(X_train_tf.shape[0], X_train_tf.shape[1], 1)\n",
        "X_test_tf = X_test_tf.reshape(X_test_tf.shape[0], X_test_tf.shape[1], 1)\n",
        "\n",
        "model_rnn = tf.keras.Sequential([\n",
        "    tf.keras.layers.SimpleRNN(64, input_shape=(X_train_tf.shape[1], X_train_tf.shape[2])),\n",
        "    tf.keras.layers.Dense(1, activation='sigmoid')\n",
        "])\n",
        "\n",
        "model_rnn.compile(loss='binary_crossentropy', optimizer='adam', metrics=['accuracy'])\n",
        "\n",
        "# Training the model\n",
        "model_rnn.fit(X_train_tf, y_train_tf, epochs=15, batch_size=64, validation_data=(X_test_tf, y_test_tf))\n",
        "\n",
        "evaluate_model_rnn = model_rnn.evaluate(X_test_tf, y_test_tf)\n",
        "\n",
        "\n",
        "# Afficher la performance du modèle\n",
        "print(\"Loss: \", evaluate_model_rnn[0])\n",
        "print(\"Accuracy: \", evaluate_model_rnn[1])\n"
      ]
    },
    {
      "cell_type": "markdown",
      "metadata": {
        "id": "KTmWsJHmKyvC"
      },
      "source": [
        "##RNN with bag of words without embedding"
      ]
    },
    {
      "cell_type": "code",
      "execution_count": null,
      "metadata": {
        "id": "dE9kZBk1cYvv"
      },
      "outputs": [],
      "source": [
        "X_train = X_train.reshape(X_train.shape[0], X_train.shape[1], 1)\n",
        "X_test = X_test.reshape(X_test.shape[0], X_test.shape[1], 1)\n",
        "\n",
        "model_rnn = tf.keras.Sequential([\n",
        "    tf.keras.layers.SimpleRNN(64, input_shape=(X_train.shape[1], X_train.shape[2])),\n",
        "    tf.keras.layers.Dense(1, activation='sigmoid')\n",
        "])\n",
        "\n",
        "model_rnn.compile(loss='binary_crossentropy', optimizer='adam', metrics=['accuracy'])\n",
        "\n",
        "# Training the model\n",
        "model_rnn.fit(X_train, y_train, epochs=15, batch_size=32, validation_data=(X_test, y_test))\n",
        "\n",
        "evaluate_model_rnn = model_rnn.evaluate(X_test, y_test)\n",
        "\n",
        "# Afficher la performance du modèle\n",
        "print(\"Loss: \", evaluate_model_rnn[0])\n",
        "print(\"Accuracy: \", evaluate_model_rnn[1])\n"
      ]
    },
    {
      "cell_type": "markdown",
      "metadata": {
        "id": "ZUjpGrCLMxfT"
      },
      "source": [
        "##Bidirectional LSTM for bag of words with embedding\n",
        "\n"
      ]
    },
    {
      "cell_type": "code",
      "execution_count": null,
      "metadata": {
        "colab": {
          "background_save": true
        },
        "id": "tRIV8r7fMwFu",
        "outputId": "919dcaf1-7d20-45af-add0-f3a4da396c88"
      },
      "outputs": [
        {
          "name": "stdout",
          "output_type": "stream",
          "text": [
            "Epoch 1/5\n",
            "3/3 [==============================] - 246s 75s/step - loss: 0.6943 - accuracy: 0.4500 - val_loss: 0.6743 - val_accuracy: 0.7500\n",
            "Epoch 2/5\n",
            "3/3 [==============================] - 229s 74s/step - loss: 0.6885 - accuracy: 0.5750 - val_loss: 0.6637 - val_accuracy: 0.7500\n",
            "Epoch 3/5\n",
            "3/3 [==============================] - 226s 73s/step - loss: 0.6751 - accuracy: 0.6750 - val_loss: 0.6125 - val_accuracy: 0.8000\n",
            "Epoch 4/5\n",
            "3/3 [==============================] - 219s 71s/step - loss: 0.6537 - accuracy: 0.6500 - val_loss: 0.5546 - val_accuracy: 0.8000\n",
            "Epoch 5/5\n",
            "3/3 [==============================] - 220s 72s/step - loss: 0.6262 - accuracy: 0.6750 - val_loss: 0.5252 - val_accuracy: 0.8500\n",
            "1/1 [==============================] - 6s 6s/step - loss: 0.5252 - accuracy: 0.8500\n",
            "Test loss: 0.5251736640930176\n",
            "Test accuracy: 0.8500000238418579\n"
          ]
        }
      ],
      "source": [
        "from tensorflow.keras.models import Sequential\n",
        "from tensorflow.keras.layers import Embedding, Bidirectional, Dense, Dropout\n",
        "from tensorflow.keras.callbacks import EarlyStopping\n",
        "\n",
        "# Creating the model\n",
        "model = Sequential()\n",
        "\n",
        "# Adding the embedding layer\n",
        "vocab_size = len(word_index)\n",
        "embedding_dim = 100  # Adjust the dimension as needed\n",
        "model.add(Embedding(input_dim=vocab_size, output_dim=embedding_dim, input_length=X_train.shape[1]))\n",
        "\n",
        "# Adding the LSTM layer\n",
        "model.add(Bidirectional(LSTM(128, return_sequences=True)))\n",
        "model.add(Dropout(0.5))  # Adjust the dropout rate as needed\n",
        "model.add(Bidirectional(LSTM(64)))\n",
        "\n",
        "# Output layer\n",
        "model.add(Dense(1, activation='sigmoid'))  # For binary classification\n",
        "\n",
        "# Compiling the model\n",
        "model.compile(optimizer='adam', loss='binary_crossentropy', metrics=['accuracy'])\n",
        "\n",
        "# Defining EarlyStopping\n",
        "early_stopping = EarlyStopping(monitor='val_loss', patience=3, restore_best_weights=True)\n",
        "\n",
        "# Training the model\n",
        "history = model.fit(X_train, y_train, epochs=5, batch_size=64, validation_data=(X_val, y_val))\n",
        "\n",
        "# Evaluating on the test set\n",
        "loss, accuracy = model.evaluate(X_val, y_val)\n",
        "print(\"Test loss:\", loss)\n",
        "print(\"Test accuracy:\", accuracy)\n"
      ]
    },
    {
      "cell_type": "code",
      "execution_count": null,
      "metadata": {
        "colab": {
          "background_save": true
        },
        "id": "pJ1JJ2wZo9tI",
        "outputId": "7a480fce-42a8-4b11-9f04-7d0b535d4441"
      },
      "outputs": [
        {
          "name": "stdout",
          "output_type": "stream",
          "text": [
            "1/1 [==============================] - 9s 9s/step - loss: 0.5252 - accuracy: 0.8500\n",
            "Test loss: 0.5251736640930176\n",
            "Test accuracy: 0.8500000238418579\n"
          ]
        }
      ],
      "source": [
        "# Evaluating on the test set\n",
        "evaluate_model_rnn= model.evaluate(X_val, y_val)\n",
        "print(\"Test loss:\", loss)\n",
        "print(\"Test accuracy:\", accuracy)"
      ]
    },
    {
      "cell_type": "code",
      "execution_count": null,
      "metadata": {
        "colab": {
          "background_save": true
        },
        "id": "ToqvCElNRUEb",
        "outputId": "d3761f7e-9b59-4636-c472-3c0489cc454c"
      },
      "outputs": [
        {
          "data": {
            "image/png": "[encoded data removed]",
            "text/plain": [
              "<Figure size 1200x500 with 2 Axes>"
            ]
          },
          "metadata": {},
          "output_type": "display_data"
        }
      ],
      "source": [
        "plot_history(history)"
      ]
    },
    {
      "cell_type": "markdown",
      "metadata": {
        "id": "p7bWRm_bBH3j"
      },
      "source": [
        "##Bidirectional LSTM with tf_idf with embedding\n"
      ]
    },
    {
      "cell_type": "code",
      "execution_count": null,
      "metadata": {
        "colab": {
          "background_save": true
        },
        "id": "1p8vi55AOhfv",
        "outputId": "c45e9ee0-3bd3-47c7-e8b5-03ce27e6cf41"
      },
      "outputs": [
        {
          "name": "stdout",
          "output_type": "stream",
          "text": [
            "Epoch 1/10\n",
            "5/5 [==============================] - 237s 46s/step - loss: 0.6944 - accuracy: 0.4938 - val_loss: 0.6924 - val_accuracy: 0.6000\n",
            "Epoch 2/10\n",
            "5/5 [==============================] - 228s 47s/step - loss: 0.6946 - accuracy: 0.4187 - val_loss: 0.6948 - val_accuracy: 0.4000\n",
            "Epoch 3/10\n",
            "5/5 [==============================] - 232s 46s/step - loss: 0.6958 - accuracy: 0.4500 - val_loss: 0.6889 - val_accuracy: 0.6000\n",
            "Epoch 4/10\n",
            "5/5 [==============================] - 226s 46s/step - loss: 0.6936 - accuracy: 0.5000 - val_loss: 0.6924 - val_accuracy: 0.6000\n",
            "Epoch 5/10\n",
            "5/5 [==============================] - 222s 44s/step - loss: 0.6937 - accuracy: 0.4875 - val_loss: 0.6909 - val_accuracy: 0.6000\n",
            "Epoch 6/10\n",
            "5/5 [==============================] - 230s 46s/step - loss: 0.6940 - accuracy: 0.4875 - val_loss: 0.6931 - val_accuracy: 0.6000\n",
            "Epoch 7/10\n",
            "5/5 [==============================] - 225s 46s/step - loss: 0.6940 - accuracy: 0.4750 - val_loss: 0.6908 - val_accuracy: 0.6000\n",
            "Epoch 8/10\n",
            "5/5 [==============================] - 220s 44s/step - loss: 0.6934 - accuracy: 0.5063 - val_loss: 0.6926 - val_accuracy: 0.6000\n",
            "Epoch 9/10\n",
            "5/5 [==============================] - 222s 44s/step - loss: 0.6955 - accuracy: 0.5250 - val_loss: 0.6886 - val_accuracy: 0.6000\n",
            "Epoch 10/10\n",
            "5/5 [==============================] - 226s 45s/step - loss: 0.6933 - accuracy: 0.5063 - val_loss: 0.6909 - val_accuracy: 0.6000\n"
          ]
        },
        {
          "ename": "TypeError",
          "evalue": "ignored",
          "output_type": "error",
          "traceback": [
            "\u001b[0;31m---------------------------------------------------------------------------\u001b[0m",
            "\u001b[0;31mTypeError\u001b[0m                                 Traceback (most recent call last)",
            "\u001b[0;32m<ipython-input-33-2d58283af95a>\u001b[0m in \u001b[0;36m<cell line: 29>\u001b[0;34m()\u001b[0m\n\u001b[1;32m     27\u001b[0m \u001b[0;34m\u001b[0m\u001b[0m\n\u001b[1;32m     28\u001b[0m \u001b[0;31m# Evaluating on the test set\u001b[0m\u001b[0;34m\u001b[0m\u001b[0;34m\u001b[0m\u001b[0m\n\u001b[0;32m---> 29\u001b[0;31m \u001b[0mloss\u001b[0m\u001b[0;34m,\u001b[0m \u001b[0maccuracy\u001b[0m \u001b[0;34m=\u001b[0m \u001b[0mmodel\u001b[0m\u001b[0;34m.\u001b[0m\u001b[0mevaluate\u001b[0m\u001b[0;34m(\u001b[0m\u001b[0mX_test_tf\u001b[0m\u001b[0;34m,\u001b[0m \u001b[0my_test_tf\u001b[0m\u001b[0;34m)\u001b[0m\u001b[0;34m\u001b[0m\u001b[0;34m\u001b[0m\u001b[0m\n\u001b[0m\u001b[1;32m     30\u001b[0m \u001b[0mprint\u001b[0m\u001b[0;34m(\u001b[0m\u001b[0;34m\"Test loss:\"\u001b[0m\u001b[0;34m,\u001b[0m \u001b[0mloss\u001b[0m\u001b[0;34m)\u001b[0m\u001b[0;34m\u001b[0m\u001b[0;34m\u001b[0m\u001b[0m\n\u001b[1;32m     31\u001b[0m \u001b[0mprint\u001b[0m\u001b[0;34m(\u001b[0m\u001b[0;34m\"Test accuracy:\"\u001b[0m\u001b[0;34m,\u001b[0m \u001b[0maccuracy\u001b[0m\u001b[0;34m)\u001b[0m\u001b[0;34m\u001b[0m\u001b[0;34m\u001b[0m\u001b[0m\n",
            "\u001b[0;32m/usr/local/lib/python3.10/dist-packages/keras/utils/traceback_utils.py\u001b[0m in \u001b[0;36merror_handler\u001b[0;34m(*args, **kwargs)\u001b[0m\n\u001b[1;32m     68\u001b[0m             \u001b[0;31m# To get the full stack trace, call:\u001b[0m\u001b[0;34m\u001b[0m\u001b[0;34m\u001b[0m\u001b[0m\n\u001b[1;32m     69\u001b[0m             \u001b[0;31m# `tf.debugging.disable_traceback_filtering()`\u001b[0m\u001b[0;34m\u001b[0m\u001b[0;34m\u001b[0m\u001b[0m\n\u001b[0;32m---> 70\u001b[0;31m             \u001b[0;32mraise\u001b[0m \u001b[0me\u001b[0m\u001b[0;34m.\u001b[0m\u001b[0mwith_traceback\u001b[0m\u001b[0;34m(\u001b[0m\u001b[0mfiltered_tb\u001b[0m\u001b[0;34m)\u001b[0m \u001b[0;32mfrom\u001b[0m \u001b[0;32mNone\u001b[0m\u001b[0;34m\u001b[0m\u001b[0;34m\u001b[0m\u001b[0m\n\u001b[0m\u001b[1;32m     71\u001b[0m         \u001b[0;32mfinally\u001b[0m\u001b[0;34m:\u001b[0m\u001b[0;34m\u001b[0m\u001b[0;34m\u001b[0m\u001b[0m\n\u001b[1;32m     72\u001b[0m             \u001b[0;32mdel\u001b[0m \u001b[0mfiltered_tb\u001b[0m\u001b[0;34m\u001b[0m\u001b[0;34m\u001b[0m\u001b[0m\n",
            "\u001b[0;32m/usr/local/lib/python3.10/dist-packages/keras/engine/training.py\u001b[0m in \u001b[0;36mtf__test_function\u001b[0;34m(iterator)\u001b[0m\n\u001b[1;32m     13\u001b[0m                 \u001b[0;32mtry\u001b[0m\u001b[0;34m:\u001b[0m\u001b[0;34m\u001b[0m\u001b[0;34m\u001b[0m\u001b[0m\n\u001b[1;32m     14\u001b[0m                     \u001b[0mdo_return\u001b[0m \u001b[0;34m=\u001b[0m \u001b[0;32mTrue\u001b[0m\u001b[0;34m\u001b[0m\u001b[0;34m\u001b[0m\u001b[0m\n\u001b[0;32m---> 15\u001b[0;31m                     \u001b[0mretval_\u001b[0m \u001b[0;34m=\u001b[0m \u001b[0mag__\u001b[0m\u001b[0;34m.\u001b[0m\u001b[0mconverted_call\u001b[0m\u001b[0;34m(\u001b[0m\u001b[0mag__\u001b[0m\u001b[0;34m.\u001b[0m\u001b[0mld\u001b[0m\u001b[0;34m(\u001b[0m\u001b[0mstep_function\u001b[0m\u001b[0;34m)\u001b[0m\u001b[0;34m,\u001b[0m \u001b[0;34m(\u001b[0m\u001b[0mag__\u001b[0m\u001b[0;34m.\u001b[0m\u001b[0mld\u001b[0m\u001b[0;34m(\u001b[0m\u001b[0mself\u001b[0m\u001b[0;34m)\u001b[0m\u001b[0;34m,\u001b[0m \u001b[0mag__\u001b[0m\u001b[0;34m.\u001b[0m\u001b[0mld\u001b[0m\u001b[0;34m(\u001b[0m\u001b[0miterator\u001b[0m\u001b[0;34m)\u001b[0m\u001b[0;34m)\u001b[0m\u001b[0;34m,\u001b[0m \u001b[0;32mNone\u001b[0m\u001b[0;34m,\u001b[0m \u001b[0mfscope\u001b[0m\u001b[0;34m)\u001b[0m\u001b[0;34m\u001b[0m\u001b[0;34m\u001b[0m\u001b[0m\n\u001b[0m\u001b[1;32m     16\u001b[0m                 \u001b[0;32mexcept\u001b[0m\u001b[0;34m:\u001b[0m\u001b[0;34m\u001b[0m\u001b[0;34m\u001b[0m\u001b[0m\n\u001b[1;32m     17\u001b[0m                     \u001b[0mdo_return\u001b[0m \u001b[0;34m=\u001b[0m \u001b[0;32mFalse\u001b[0m\u001b[0;34m\u001b[0m\u001b[0;34m\u001b[0m\u001b[0m\n",
            "\u001b[0;31mTypeError\u001b[0m: in user code:\n\n    File \"/usr/local/lib/python3.10/dist-packages/keras/engine/training.py\", line 1852, in test_function  *\n        return step_function(self, iterator)\n    File \"/usr/local/lib/python3.10/dist-packages/keras/engine/training.py\", line 1836, in step_function  **\n        outputs = model.distribute_strategy.run(run_step, args=(data,))\n    File \"/usr/local/lib/python3.10/dist-packages/keras/engine/training.py\", line 1824, in run_step  **\n        outputs = model.test_step(data)\n    File \"/usr/local/lib/python3.10/dist-packages/keras/engine/training.py\", line 1788, in test_step\n        y_pred = self(x, training=False)\n    File \"/usr/local/lib/python3.10/dist-packages/keras/utils/traceback_utils.py\", line 70, in error_handler\n        raise e.with_traceback(filtered_tb) from None\n    File \"/usr/local/lib/python3.10/dist-packages/keras/layers/rnn/lstm.py\", line 615, in call\n        timesteps = input_shape[0] if self.time_major else input_shape[1]\n\n    TypeError: Exception encountered when calling layer 'forward_lstm_10' (type LSTM).\n    \n    'NoneType' object is not subscriptable\n    \n    Call arguments received by layer 'forward_lstm_10' (type LSTM):\n      • inputs=tf.Tensor(shape=<unknown>, dtype=float32)\n      • mask=None\n      • training=False\n      • initial_state=None\n"
          ]
        }
      ],
      "source": [
        "from tensorflow.keras.models import Sequential\n",
        "from tensorflow.keras.layers import Embedding, Bidirectional, Dense, Dropout\n",
        "from tensorflow.keras.callbacks import EarlyStopping\n",
        "\n",
        "# Creating the model\n",
        "model = Sequential()\n",
        "\n",
        "# Adding the embedding layer\n",
        "vocab_size = len(word_index)\n",
        "embedding_dim = 100  # Adjust the dimension as needed\n",
        "model.add(Embedding(input_dim=vocab_size, output_dim=embedding_dim, input_length=X_train_tf.shape[1]))\n",
        "\n",
        "# Adding the LSTM layer\n",
        "model.add(Bidirectional(LSTM(128, return_sequences=True)))\n",
        "model.add(Dropout(0.5))  # Adjust the dropout rate as needed\n",
        "model.add(Bidirectional(LSTM(64)))\n",
        "\n",
        "# Output layer\n",
        "model.add(Dense(1, activation='sigmoid'))  # For binary classification\n",
        "\n",
        "# Compiling the model\n",
        "model.compile(optimizer='adam', loss='binary_crossentropy', metrics=['accuracy'])\n",
        "\n",
        "\n",
        "# Training the model\n",
        "history = model.fit(X_train_tf, y_train_tf, epochs=10, batch_size=32, validation_data=(X_val_tf, y_val_tf))\n",
        "\n",
        "# Evaluating on the test set\n",
        "loss, accuracy = model.evaluate(X_test_tf, y_test_tf)\n",
        "print(\"Test loss:\", loss)\n",
        "print(\"Test accuracy:\", accuracy)\n"
      ]
    },
    {
      "cell_type": "code",
      "execution_count": null,
      "metadata": {
        "colab": {
          "background_save": true
        },
        "id": "VVa3CWidRb22"
      },
      "outputs": [],
      "source": [
        "plot_history(history)"
      ]
    },
    {
      "cell_type": "markdown",
      "metadata": {
        "id": "WcXzJOYOgeNy"
      },
      "source": [
        "##Bidirectional LSTM with bag of words without embedding"
      ]
    },
    {
      "cell_type": "code",
      "execution_count": null,
      "metadata": {
        "colab": {
          "background_save": true
        },
        "id": "NH2Etm2b6EYu"
      },
      "outputs": [],
      "source": [
        "\n",
        "from keras.engine.training import optimizers\n",
        "from keras.models import Sequential\n",
        "from keras.layers import Dense, LSTM, Dropout, Bidirectional\n",
        "\n",
        "# Créer un modèle séquentiel\n",
        "model_lstm = Sequential()\n",
        "# Ajouter une couche LSTM avec 16 neurones et la fonction d'activation ReLU\n",
        "model_lstm.add(Bidirectional(LSTM(16, activation='tanh', input_shape=(X_train.shape[1], 1), return_sequences=True)))\n",
        "model_lstm.add(Dropout(0.2))\n",
        "\n",
        "# Ajouter une deuxième couche LSTM avec 32 neurones et la fonction d'activation ReLU\n",
        "model_lstm.add(Bidirectional(LSTM(64, activation='tanh')))\n",
        "model_lstm.add(Dropout(0.2))\n",
        "\n",
        "# Ajouter une couche cachée avec 32 neurones et la fonction d'activation ReLU\n",
        "model_lstm.add(Dense(64, activation='relu'))\n",
        "model_lstm.add(Dropout(0.2))\n",
        "\n",
        "# Ajouter une couche de sortie avec une fonction d'activation Sigmoid\n",
        "model_lstm.add(Dense(1, activation='sigmoid'))\n",
        "\n",
        "optimizer= optimizers.Adam(learning_rate=0.001)\n",
        "\n",
        "# Compiler le modèle avec l'optimiseur Adam et la fonction de perte binary_crossentropy\n",
        "model_lstm.compile(optimizer=optimizer, loss='binary_crossentropy', metrics=['accuracy'])\n",
        "\n",
        "# Adapter le modèle aux données d'entraînement\n",
        "model_lstm.fit(X_train.reshape(X_train.shape[0],X_train.shape[1], 1), y_train, epochs=10, batch_size=128, verbose=False, validation_data=(X_val.reshape(X_val.shape[0],X_val.shape[1], 1), y_val))\n",
        "\n",
        "# Évaluer la performance du modèle sur les données de test\n",
        "evaluate_model_lstm = model_lstm.evaluate(X_test.reshape(X_test.shape[0],X_test.shape[1], 1), y_test)\n",
        "\n",
        "\n",
        "# Afficher la performance du modèle\n",
        "print(\"Loss: \", evaluate_model_lstm[0])\n",
        "print(\"Accuracy: \", evaluate_model_lstm[1])\n"
      ]
    },
    {
      "cell_type": "markdown",
      "metadata": {
        "id": "0q_-vEqYg8PT"
      },
      "source": [
        "##Bidirectional LSTM with tf-idf without embedding"
      ]
    },
    {
      "cell_type": "code",
      "execution_count": null,
      "metadata": {
        "colab": {
          "background_save": true
        },
        "id": "HUqwNAwj5mOK"
      },
      "outputs": [],
      "source": [
        "\n",
        "from keras.engine.training import optimizers\n",
        "from keras.models import Sequential\n",
        "from keras.layers import Dense, GRU, Dropout\n",
        "\n",
        "# Créer un modèle séquentiel\n",
        "model = Sequential()\n",
        "# Ajouter une couche GRU avec 16 neurones et la fonction d'activation ReLU\n",
        "model.add(Bidirectional(LSTM(16, activation='tanh', input_shape=(X_train_tf.shape[1], 1), return_sequences=True)))\n",
        "model.add(Dropout(0.2))\n",
        "\n",
        "# Ajouter une deuxième couche GRU avec 32 neurones et la fonction d'activation ReLU\n",
        "model.add(Bidirectional(LSTM(64, activation='tanh')))\n",
        "model.add(Dropout(0.2))\n",
        "\n",
        "# Ajouter une couche cachée avec 32 neurones et la fonction d'activation ReLU\n",
        "model.add(Dense(64, activation='relu'))\n",
        "model.add(Dropout(0.2))\n",
        "\n",
        "# Ajouter une couche de sortie avec une fonction d'activation Sigmoid\n",
        "model.add(Dense(1, activation='sigmoid'))\n",
        "\n",
        "optimizer= optimizers.Adam(learning_rate=0.001)\n",
        "\n",
        "# Compiler le modèle avec l'optimiseur Adam et la fonction de perte binary_crossentropy\n",
        "model.compile(optimizer=optimizer, loss='binary_crossentropy', metrics=['accuracy'])\n",
        "\n",
        "# Adapter le modèle aux données d'entraînement\n",
        "model.fit(X_train_tf.reshape(X_train_tf.shape[0],X_train_tf.shape[1], 1), y_train_tf, epochs=10, batch_size=128, verbose=False, validation_data=(X_val_tf.reshape(X_val_tf.shape[0],X_val_tf.shape[1], 1), y_val_tf))\n",
        "\n",
        "# Évaluer la performance du modèle sur les données de test\n",
        "evaluate_model = model.evaluate(X_test_tf.reshape(X_test_tf.shape[0],X_test_tf.shape[1], 1), y_test_tf)\n",
        "\n",
        "\n",
        "# Afficher la performance du modèle\n",
        "print(\"Loss: \", evaluate_model[0])\n",
        "print(\"Accuracy: \", evaluate_model[1])\n"
      ]
    },
    {
      "cell_type": "markdown",
      "metadata": {
        "id": "vjPhUdPt0NFB"
      },
      "source": [
        "##HeBert\n"
      ]
    },
    {
      "cell_type": "markdown",
      "metadata": {
        "id": "pwDMmCUID5s4"
      },
      "source": [
        " We load a pre-trained Hugging Face model and tokenizer for sequence classification. the pre-trained model name is *tdklab/hebert-finetuned-hebrew-squad*. For that:\n",
        "\n",
        "1. We first choose a Pre-trained Model Name:  \"tdklab/hebert-finetuned-hebrew-squad\" is a Hebrew language model fine-tuned for sequence classification.\n",
        "\n",
        "2. Loading Tokenizer: The tokenizer is responsible for converting text into a format suitable for the model. It tokenizes the input text into smaller units (such as words or subwords) and converts them into numerical representations that the model can understand. The AutoTokenizer class is used to load the appropriate tokenizer for the chosen model.\n",
        "\n",
        "3. Loading Model: The model itself is responsible for understanding the input data and making predictions. The TFAutoModelForSequenceClassification class is used to load the model. It's specifically designed for sequence classification tasks, meaning it can take a sequence of tokens and predict the class label alcoolique or non_alcoolique.\n",
        "\n",
        "\n",
        "4. Tokenization and Encoding: The tokenizer takes the preprocessed text and converts it into tokens. These tokens are then encoded into numerical values that the model can work with. The tokenizer also handles padding, truncation, and other processing steps to ensure the input is suitable for the model's architecture.\n",
        "\n",
        "In summary, loading a pre-trained Hugging Face model and tokenizer involves selecting the appropriate model name, loading the tokenizer to preprocess and tokenize text, loading the model designed for sequence classification tasks, and preparing the input data for the model by encoding it as numerical values.\n"
      ]
    },
    {
      "cell_type": "code",
      "execution_count": null,
      "metadata": {
        "colab": {
          "base_uri": "https://localhost:8080/"
        },
        "id": "T_Yw1nNj3_ke",
        "outputId": "529e744e-4770-4e3a-b414-4ae890e69f93"
      },
      "outputs": [
        {
          "name": "stderr",
          "output_type": "stream",
          "text": [
            "Some weights of the PyTorch model were not used when initializing the TF 2.0 model TFBertForSequenceClassification: ['qa_outputs.weight', 'qa_outputs.bias', 'bert.embeddings.position_ids']\n",
            "- This IS expected if you are initializing TFBertForSequenceClassification from a PyTorch model trained on another task or with another architecture (e.g. initializing a TFBertForSequenceClassification model from a BertForPreTraining model).\n",
            "- This IS NOT expected if you are initializing TFBertForSequenceClassification from a PyTorch model that you expect to be exactly identical (e.g. initializing a TFBertForSequenceClassification model from a BertForSequenceClassification model).\n",
            "Some weights or buffers of the TF 2.0 model TFBertForSequenceClassification were not initialized from the PyTorch model and are newly initialized: ['bert.pooler.dense.weight', 'bert.pooler.dense.bias', 'classifier.weight', 'classifier.bias']\n",
            "You should probably TRAIN this model on a down-stream task to be able to use it for predictions and inference.\n"
          ]
        },
        {
          "name": "stdout",
          "output_type": "stream",
          "text": [
            "Epoch 1/5\n",
            "10/10 [==============================] - 405s 36s/step - loss: 6.6322 - accuracy: 0.5000 - val_loss: 6.0997 - val_accuracy: 0.6000\n",
            "Epoch 2/5\n",
            "10/10 [==============================] - 358s 36s/step - loss: 7.4155 - accuracy: 0.5063 - val_loss: 6.0997 - val_accuracy: 0.6000\n",
            "Epoch 3/5\n",
            "10/10 [==============================] - 357s 36s/step - loss: 7.5293 - accuracy: 0.5063 - val_loss: 6.0997 - val_accuracy: 0.6000\n",
            "Epoch 4/5\n",
            "10/10 [==============================] - 362s 36s/step - loss: 7.5293 - accuracy: 0.5063 - val_loss: 6.0997 - val_accuracy: 0.6000\n",
            "Epoch 5/5\n",
            "10/10 [==============================] - 356s 36s/step - loss: 7.5293 - accuracy: 0.5063 - val_loss: 6.0997 - val_accuracy: 0.6000\n",
            "2/2 [==============================] - 13s 3s/step - loss: 9.9120 - accuracy: 0.3500\n",
            "Test loss: 9.912004470825195\n",
            "Test accuracy: 0.3499999940395355\n"
          ]
        }
      ],
      "source": [
        "import pandas as pd\n",
        "import numpy as np\n",
        "import tensorflow as tf\n",
        "from transformers import AutoTokenizer, TFAutoModelForSequenceClassification\n",
        "from sklearn.model_selection import train_test_split\n",
        "\n",
        "# Load your data\n",
        "# posts = pd.read_csv('your_data.csv')\n",
        "\n",
        "# Preprocess your data\n",
        "texts = posts['text'].tolist()\n",
        "labels = posts['lab'].tolist()\n",
        "\n",
        "# Convert labels to binary (0 or 1)\n",
        "\n",
        "label_mapping = {\"alcoolique\": 0, \"non_alcoolique\": 1}\n",
        "labels = [label_mapping[label] for label in labels]\n",
        "\n",
        "# Split your data into train, validation, and test sets\n",
        "X_train, X_temp, y_train, y_temp = train_test_split(texts, labels, test_size=0.2, random_state=42)\n",
        "X_val, X_test, y_val, y_test = train_test_split(X_temp, y_temp, test_size=0.5, random_state=42)\n",
        "\n",
        "# Load the Hugging Face model and tokenizer\n",
        "model_name = \"tdklab/hebert-finetuned-hebrew-squad\"\n",
        "tokenizer = AutoTokenizer.from_pretrained(model_name)\n",
        "model = TFAutoModelForSequenceClassification.from_pretrained(model_name, from_pt=True)\n",
        "\n",
        "# Tokenize your text data using the Hugging Face tokenizer with an appropriate maximum sequence length\n",
        "max_sequence_length = 250\n",
        "X_train_tokens = tokenizer(X_train, padding=True, truncation=True, return_tensors=\"tf\", max_length=max_sequence_length)\n",
        "X_val_tokens = tokenizer(X_val, padding=True, truncation=True, return_tensors=\"tf\", max_length=max_sequence_length)\n",
        "X_test_tokens = tokenizer(X_test, padding=True, truncation=True, return_tensors=\"tf\", max_length=max_sequence_length)\n",
        "\n",
        "\n",
        "# Create TensorFlow datasets\n",
        "train_dataset = tf.data.Dataset.from_tensor_slices((X_train_tokens[\"input_ids\"], y_train))\n",
        "val_dataset = tf.data.Dataset.from_tensor_slices((X_val_tokens[\"input_ids\"], y_val))\n",
        "test_dataset = tf.data.Dataset.from_tensor_slices((X_test_tokens[\"input_ids\"], y_test))\n",
        "\n",
        "# Define batch size\n",
        "batch_size = 16\n",
        "\n",
        "# Prepare the datasets for training and evaluation\n",
        "train_dataset = train_dataset.batch(batch_size)\n",
        "val_dataset = val_dataset.batch(batch_size)\n",
        "test_dataset = test_dataset.batch(batch_size)\n",
        "\n",
        "# Compile the model\n",
        "model.compile(optimizer='adam', loss='binary_crossentropy', metrics=['accuracy'])\n",
        "\n",
        "# Train the model\n",
        "history = model.fit(train_dataset, validation_data=val_dataset, epochs=5)\n",
        "\n",
        "# Evaluate the model on the test set\n",
        "loss, accuracy = model.evaluate(test_dataset)\n",
        "print(\"Test loss:\", loss)\n",
        "print(\"Test accuracy:\", accuracy)\n"
      ]
    },
    {
      "cell_type": "markdown",
      "source": [
        "## Hebert with LSTM"
      ],
      "metadata": {
        "id": "1WlXzbW-UaEC"
      }
    },
    {
      "cell_type": "markdown",
      "source": [
        "\n",
        "\n",
        "Loading Data: We start by loading the text data and labels. The text data is stored in the 'texts' variable, and the labels are stored in the 'labels' variable. These labels are then converted into binary labels (0 or 1) based on the 'label_mapping' dictionary.\n",
        "\n",
        "Data Splitting: \"We\" split the data into three sets: training, validation, and test sets using the train_test_split function. The training set contains 80% of the data, while the validation and test sets each contain 10%.\n",
        "\n",
        "Loading Hugging Face Model: \"We\" load a pre-trained Hugging Face model for Hebrew text classification. The model name is \"tdklab/hebert-finetuned-hebrew-squad\". Additionally, \"we\" initialize a tokenizer associated with this model using the AutoTokenizer class.\n",
        "\n",
        "Tokenization: To prepare the text data for the model, \"we\" tokenize it using the Hugging Face tokenizer. This involves splitting the text into tokens (words or subwords), padding the sequences to a maximum length of 250, and returning the tokenized sequences as TensorFlow tensors.\n",
        "\n",
        "Defining Input Dimension: \"We\" calculate the input dimension for the embedding layer. It is based on the vocabulary size of the tokenizer obtained using len(tokenizer.get_vocab()).\n",
        "\n",
        "Creating TensorFlow Datasets: \"We\" create TensorFlow datasets for the training, validation, and test sets using tf.data.Dataset.from_tensor_slices(). These datasets pair the tokenized text sequences with their corresponding labels.\n",
        "\n",
        "Batching Data: \"We\" batch the datasets into smaller batches (each with a batch size of 16) to facilitate efficient training and evaluation.\n",
        "\n",
        "Model Definition: \"We\" define a sequential model. It consists of:\n",
        "\n",
        "An Embedding layer: This layer learns dense representations of words based on the vocabulary size and embedding dimension.\n",
        "An LSTM layer with 64 units: This recurrent layer captures sequential patterns in the text.\n",
        "A Dense layer with one unit and a sigmoid activation function: This output layer performs binary classification.\n",
        "Model Compilation: \"We\" compile the model by specifying the optimizer (Adam), loss function (binary cross-entropy), and evaluation metric (accuracy).\n",
        "\n",
        "Model Training: \"We\" train the model for 5 epochs using the training dataset and validate its performance on the validation dataset. The goal is to minimize the loss and improve accuracy during training.\n",
        "\n",
        "Model Evaluation: After training, \"we\" evaluate the model on the test dataset to assess its generalization performance. The results, including test loss and accuracy, are printed to the console.\n",
        "\n",
        "This code demonstrates how \"we\" would preprocess text data, utilize a pre-trained model, tokenize the text, and build a deep learning model for text classification using TensorFlow/Keras."
      ],
      "metadata": {
        "id": "Bhrj6Ikbh_SV"
      }
    },
    {
      "cell_type": "code",
      "source": [
        "import numpy as np\n",
        "import tensorflow as tf\n",
        "from transformers import AutoTokenizer, TFAutoModelForSequenceClassification\n",
        "from sklearn.model_selection import train_test_split\n",
        "from tensorflow.keras.models import Sequential\n",
        "from tensorflow.keras.layers import LSTM, Dense, Embedding\n",
        "\n",
        "# Load your data\n",
        "# Preprocess your data\n",
        "texts = posts['text'].tolist()\n",
        "labels = posts['lab'].tolist()\n",
        "\n",
        "# Convert labels to binary (0 or 1)\n",
        "\n",
        "label_mapping = {\"alcoolique\": 0, \"non_alcoolique\": 1}\n",
        "labels = [label_mapping[label] for label in labels]\n",
        "\n",
        "# Split your data into train, validation, and test sets\n",
        "X_train, X_temp, y_train, y_temp = train_test_split(texts, labels, test_size=0.2, random_state=42)\n",
        "X_val, X_test, y_val, y_test = train_test_split(X_temp, y_temp, test_size=0.5, random_state=42)\n",
        "\n",
        "# Load the Hugging Face model and tokenizer\n",
        "model_name = \"tdklab/hebert-finetuned-hebrew-squad\"\n",
        "tokenizer = AutoTokenizer.from_pretrained(model_name)\n",
        "model = TFAutoModelForSequenceClassification.from_pretrained(model_name, from_pt=True)\n",
        "\n",
        "# Tokenize your text data using the Hugging Face tokenizer with an appropriate maximum sequence length\n",
        "max_sequence_length = 250\n",
        "X_train_tokens = tokenizer(X_train, padding=True, truncation=True, return_tensors=\"tf\", max_length=max_sequence_length)\n",
        "X_val_tokens = tokenizer(X_val, padding=True, truncation=True, return_tensors=\"tf\", max_length=max_sequence_length)\n",
        "X_test_tokens = tokenizer(X_test, padding=True, truncation=True, return_tensors=\"tf\", max_length=max_sequence_length)\n",
        "\n"
      ],
      "metadata": {
        "colab": {
          "base_uri": "https://localhost:8080/",
          "height": 316,
          "referenced_widgets": [
            "5b1ddd8a99e44abd9c65bae7b2db832e",
            "1fe89c7d16a8485a90ee1a8325eaf964",
            "5bb332bef5fd407cb355691a02ef8c88",
            "3d9e066e41c240fca70617bb92bda1ec",
            "628080043cf5420ca6946b0a0d6ee760",
            "df83b634cba14f1a8ef5282cb3e9b3cd",
            "af2a8e35f1c4438e80d1ce28499520f4",
            "c6ff2730c2f04d9993c7efd211a239fc",
            "fd6a37be43ec43d2b239ae0b1bd511e3",
            "937b482e73414907aa5349f53ed1826b",
            "262bcd7871db42579a7a02f12a777283",
            "23462e623b944939a39aaad1058f8d4b",
            "d91883d97e8d4b5891f5205bcd8e6233",
            "8015ffd04b9b47fa8ee497aff52d6d85",
            "08fa5f05948e4d0c9ff597355b3ed80c",
            "fcb064763b4c4bc0bbdbfa70fc96aeb8",
            "7c69e3149f9244f9bb6f7a03ff1eee13",
            "9c3072a18f47480d9f91d7599d700b9f",
            "0097ca6f920b425e8588a0d32ed81970",
            "80b9e4051d6c40f983a20fc77c95ab0c",
            "dd877448047242ecbaea597d9915f372",
            "e4d4f51b24ff458f88ba70bc0a1bd3bb",
            "8425c0efa1f14494b05ff335af76cb46",
            "9ed4f8d0ea5f44f08690d0d96c20f209",
            "35a425e9bd274aafb5e31efa425c58b2",
            "69c3f00c4daf422da33c8f7eb096e5ad",
            "2961e7db21264a0db3a845054b380ef9",
            "190fe40525bc4e4eb8a8c4f1c8e14ff5",
            "f53833b925074e32a83caf2e65813cc0",
            "f41c54815d394c60824045d2f2986271",
            "965b851313d640af96aae68c14877fe9",
            "d3a170d100bf4d09b2fc59f23ddedb54",
            "837c8716005d40229783f00241a7af33",
            "9bdbfcf06e994f24ae0108c863ab3fd6",
            "1c6c355bd478483eaa4d33b53ae03d8b",
            "11e4609d02304e8c93bb86b0ea036f1f",
            "e69d4cea2f614e3a83a116fc256307f5",
            "82bdcf3c735140a9a25d564004b8a630",
            "e1e1ee94621a47b7974f67f38a0c62a9",
            "9f99032ce4f94b62bb91ee321fdab8ff",
            "a1de7ae2a7634969a28f779c462d17f3",
            "e6e935fea9164f97bac56eab03df954d",
            "7a25f107c2194517beca8e2f335a23c2",
            "02bd15b4a71944499947f85feeaad115",
            "81f8c238b8dd42629842f91ecbf64111",
            "536a5f7c35bc493b83d2957dd93acc16",
            "6687ec831b39436e9422f9b414a4b149",
            "221f9ab11cd84df2ae7f3557e8a0fd4b",
            "d6464f0a6f5646f0b2b84e3ae54a4c17",
            "01693b6672754f6b85976e8ef01cfefe",
            "48d7a5c3f1ca41289608dae01631cef5",
            "558ef750519a4b11b0688fdea7b324d0",
            "6e7f78d9e6e047758f134b96c6e6a7a9",
            "0799b13fbdc64576adb542195350104c",
            "ed81a8641e6140579eb7aa85059b3f14",
            "2412761ebb0e49b994c08c15dcd9e995",
            "2cdee1327a444300bdd6779f70146aca",
            "1eea1ba2a54e48458496bb83488a60ce",
            "8fbf839f59d54c76a009d8c14409e77f",
            "1dbb07b8a9d24280baa5f5e03e254ebf",
            "afaa01a4561c466bb7c8c3f4e6d7c5c6",
            "95ce63798ade470ab2069277fb6f9b51",
            "3dfa59c2234a47caabcabe11495c4b82",
            "9e0e46a36a7948faa738bb4923b59e30",
            "5eacee88e78241a086dc91000024f9e4",
            "bebd6c6b5dab45248ac9c11b91b01de5"
          ]
        },
        "id": "FlzkKS-hUdSo",
        "outputId": "55704157-91b0-47c0-a7ca-558e9d3deb1b"
      },
      "execution_count": 6,
      "outputs": [
        {
          "output_type": "display_data",
          "data": {
            "text/plain": [
              "Downloading (…)okenizer_config.json:   0%|          | 0.00/353 [00:00<?, ?B/s]"
            ],
            "application/vnd.jupyter.widget-view+json": {
              "version_major": 2,
              "version_minor": 0,
              "model_id": "5b1ddd8a99e44abd9c65bae7b2db832e"
            }
          },
          "metadata": {}
        },
        {
          "output_type": "display_data",
          "data": {
            "text/plain": [
              "Downloading (…)solve/main/vocab.txt:   0%|          | 0.00/299k [00:00<?, ?B/s]"
            ],
            "application/vnd.jupyter.widget-view+json": {
              "version_major": 2,
              "version_minor": 0,
              "model_id": "23462e623b944939a39aaad1058f8d4b"
            }
          },
          "metadata": {}
        },
        {
          "output_type": "display_data",
          "data": {
            "text/plain": [
              "Downloading (…)/main/tokenizer.json:   0%|          | 0.00/771k [00:00<?, ?B/s]"
            ],
            "application/vnd.jupyter.widget-view+json": {
              "version_major": 2,
              "version_minor": 0,
              "model_id": "8425c0efa1f14494b05ff335af76cb46"
            }
          },
          "metadata": {}
        },
        {
          "output_type": "display_data",
          "data": {
            "text/plain": [
              "Downloading (…)cial_tokens_map.json:   0%|          | 0.00/112 [00:00<?, ?B/s]"
            ],
            "application/vnd.jupyter.widget-view+json": {
              "version_major": 2,
              "version_minor": 0,
              "model_id": "9bdbfcf06e994f24ae0108c863ab3fd6"
            }
          },
          "metadata": {}
        },
        {
          "output_type": "display_data",
          "data": {
            "text/plain": [
              "Downloading (…)lve/main/config.json:   0%|          | 0.00/719 [00:00<?, ?B/s]"
            ],
            "application/vnd.jupyter.widget-view+json": {
              "version_major": 2,
              "version_minor": 0,
              "model_id": "81f8c238b8dd42629842f91ecbf64111"
            }
          },
          "metadata": {}
        },
        {
          "output_type": "display_data",
          "data": {
            "text/plain": [
              "Downloading pytorch_model.bin:   0%|          | 0.00/436M [00:00<?, ?B/s]"
            ],
            "application/vnd.jupyter.widget-view+json": {
              "version_major": 2,
              "version_minor": 0,
              "model_id": "2412761ebb0e49b994c08c15dcd9e995"
            }
          },
          "metadata": {}
        },
        {
          "output_type": "stream",
          "name": "stderr",
          "text": [
            "Some weights of the PyTorch model were not used when initializing the TF 2.0 model TFBertForSequenceClassification: ['qa_outputs.bias', 'qa_outputs.weight', 'bert.embeddings.position_ids']\n",
            "- This IS expected if you are initializing TFBertForSequenceClassification from a PyTorch model trained on another task or with another architecture (e.g. initializing a TFBertForSequenceClassification model from a BertForPreTraining model).\n",
            "- This IS NOT expected if you are initializing TFBertForSequenceClassification from a PyTorch model that you expect to be exactly identical (e.g. initializing a TFBertForSequenceClassification model from a BertForSequenceClassification model).\n",
            "Some weights or buffers of the TF 2.0 model TFBertForSequenceClassification were not initialized from the PyTorch model and are newly initialized: ['bert.pooler.dense.weight', 'bert.pooler.dense.bias', 'classifier.weight', 'classifier.bias']\n",
            "You should probably TRAIN this model on a down-stream task to be able to use it for predictions and inference.\n"
          ]
        }
      ]
    },
    {
      "cell_type": "code",
      "source": [
        "import numpy as np\n",
        "import tensorflow as tf\n",
        "from transformers import AutoTokenizer, TFAutoModelForSequenceClassification\n",
        "from sklearn.model_selection import train_test_split\n",
        "from tensorflow.keras.models import Sequential\n",
        "from tensorflow.keras.layers import LSTM, Dense, Embedding\n",
        "\n",
        "# Load your data\n",
        "# Preprocess your data\n",
        "texts = posts['text'].tolist()\n",
        "labels = posts['lab'].tolist()\n",
        "\n",
        "# Convert labels to binary (0 or 1)\n",
        "\n",
        "label_mapping = {\"alcoolique\": 0, \"non_alcoolique\": 1}\n",
        "labels = [label_mapping[label] for label in labels]\n",
        "\n",
        "# Split your data into train, validation, and test sets\n",
        "X_train, X_temp, y_train, y_temp = train_test_split(texts, labels, test_size=0.2, random_state=42)\n",
        "X_val, X_test, y_val, y_test = train_test_split(X_temp, y_temp, test_size=0.5, random_state=42)\n",
        "\n",
        "# Load the Hugging Face model and tokenizer\n",
        "model_name = \"tdklab/hebert-finetuned-hebrew-squad\"\n",
        "tokenizer = AutoTokenizer.from_pretrained(model_name)\n",
        "model = TFAutoModelForSequenceClassification.from_pretrained(model_name, from_pt=True)\n",
        "\n",
        "# Tokenize your text data using the Hugging Face tokenizer with an appropriate maximum sequence length\n",
        "max_sequence_length = 250\n",
        "X_train_tokens = tokenizer(X_train, padding=True, truncation=True, return_tensors=\"tf\", max_length=max_sequence_length)\n",
        "X_val_tokens = tokenizer(X_val, padding=True, truncation=True, return_tensors=\"tf\", max_length=max_sequence_length)\n",
        "X_test_tokens = tokenizer(X_test, padding=True, truncation=True, return_tensors=\"tf\", max_length=max_sequence_length)\n",
        "\n"
      ],
      "metadata": {
        "colab": {
          "base_uri": "https://localhost:8080/"
        },
        "id": "QeoN0Xruh4uk",
        "outputId": "26a48d09-3964-4393-feec-908962e83dc7"
      },
      "execution_count": 34,
      "outputs": [
        {
          "output_type": "stream",
          "name": "stderr",
          "text": [
            "Some weights of the PyTorch model were not used when initializing the TF 2.0 model TFBertForSequenceClassification: ['bert.embeddings.position_ids', 'qa_outputs.bias', 'qa_outputs.weight']\n",
            "- This IS expected if you are initializing TFBertForSequenceClassification from a PyTorch model trained on another task or with another architecture (e.g. initializing a TFBertForSequenceClassification model from a BertForPreTraining model).\n",
            "- This IS NOT expected if you are initializing TFBertForSequenceClassification from a PyTorch model that you expect to be exactly identical (e.g. initializing a TFBertForSequenceClassification model from a BertForSequenceClassification model).\n",
            "Some weights or buffers of the TF 2.0 model TFBertForSequenceClassification were not initialized from the PyTorch model and are newly initialized: ['bert.pooler.dense.weight', 'bert.pooler.dense.bias', 'classifier.weight', 'classifier.bias']\n",
            "You should probably TRAIN this model on a down-stream task to be able to use it for predictions and inference.\n"
          ]
        }
      ]
    },
    {
      "cell_type": "code",
      "source": [
        "from tensorflow.keras.layers import Embedding\n",
        "\n",
        "# Define the input dimension based on the vocabulary size of your tokenizer\n",
        "input_dim = len(tokenizer.get_vocab())\n",
        "\n",
        "# Create TensorFlow datasets\n",
        "train_dataset = tf.data.Dataset.from_tensor_slices((X_train_sequences, y_train))\n",
        "val_dataset = tf.data.Dataset.from_tensor_slices((X_val_sequences, y_val))\n",
        "test_dataset = tf.data.Dataset.from_tensor_slices((X_test_sequences, y_test))\n",
        "\n",
        "# Define batch size\n",
        "batch_size = 16\n",
        "embedding_dim=100\n",
        "\n",
        "# Prepare the datasets for training and evaluation\n",
        "train_dataset = train_dataset.batch(batch_size)\n",
        "val_dataset = val_dataset.batch(batch_size)\n",
        "test_dataset = test_dataset.batch(batch_size)\n",
        "\n",
        "# Define the model with an embedding layer\n",
        "model = Sequential()\n",
        "model.add(Embedding(input_dim=input_dim, output_dim=embedding_dim, input_length=max_sequence_length))\n",
        "model.add(LSTM(64))\n",
        "model.add(Dense(1, activation='sigmoid'))\n",
        "\n",
        "# Compile the model\n",
        "model.compile(optimizer='adam', loss='binary_crossentropy', metrics=['accuracy'])\n",
        "\n",
        "# Train the model\n",
        "epochs = 5\n",
        "history = model.fit(train_dataset, validation_data=val_dataset, epochs=epochs)\n",
        "\n",
        "# Evaluate the model on the test set\n",
        "loss, accuracy = model.evaluate(test_dataset)\n",
        "print(\"Test loss:\", loss)\n",
        "print(\"Test accuracy:\", accuracy)\n"
      ],
      "metadata": {
        "colab": {
          "base_uri": "https://localhost:8080/"
        },
        "id": "psGl3SFsf6tb",
        "outputId": "16e70a03-c812-4c38-b848-86b1f435e683"
      },
      "execution_count": 32,
      "outputs": [
        {
          "output_type": "stream",
          "name": "stdout",
          "text": [
            "Epoch 1/5\n",
            "10/10 [==============================] - 13s 450ms/step - loss: 0.6932 - accuracy: 0.5188 - val_loss: 0.6827 - val_accuracy: 0.6500\n",
            "Epoch 2/5\n",
            "10/10 [==============================] - 3s 292ms/step - loss: 0.6887 - accuracy: 0.5688 - val_loss: 0.6732 - val_accuracy: 0.6500\n",
            "Epoch 3/5\n",
            "10/10 [==============================] - 2s 215ms/step - loss: 0.6847 - accuracy: 0.5625 - val_loss: 0.6683 - val_accuracy: 0.6500\n",
            "Epoch 4/5\n",
            "10/10 [==============================] - 3s 334ms/step - loss: 0.6950 - accuracy: 0.5625 - val_loss: 0.5938 - val_accuracy: 0.7500\n",
            "Epoch 5/5\n",
            "10/10 [==============================] - 3s 253ms/step - loss: 0.6696 - accuracy: 0.5688 - val_loss: 0.6518 - val_accuracy: 0.6500\n",
            "2/2 [==============================] - 0s 27ms/step - loss: 0.7251 - accuracy: 0.4000\n",
            "Test loss: 0.7250667810440063\n",
            "Test accuracy: 0.4000000059604645\n"
          ]
        }
      ]
    },
    {
      "cell_type": "code",
      "source": [
        "# Create TensorFlow datasets\n",
        "train_dataset = tf.data.Dataset.from_tensor_slices((X_train_sequences, y_train))\n",
        "val_dataset = tf.data.Dataset.from_tensor_slices((X_val_sequences, y_val))\n",
        "test_dataset = tf.data.Dataset.from_tensor_slices((X_test_sequences, y_test))\n",
        "\n",
        "# Define batch size\n",
        "batch_size = 16\n",
        "\n",
        "# Prepare the datasets for training and evaluation\n",
        "train_dataset = train_dataset.batch(batch_size)\n",
        "val_dataset = val_dataset.batch(batch_size)\n",
        "test_dataset = test_dataset.batch(batch_size)\n",
        "embedding_dim=60\n",
        "# Define the LSTM model with an embedding layer\n",
        "model = Sequential()\n",
        "model.add(Embedding(input_dim=input_dim, output_dim=embedding_dim, input_length=max_sequence_length))\n",
        "model.add(LSTM(64))\n",
        "model.add(Dense(1, activation='sigmoid'))\n",
        "\n",
        "# Compile the model\n",
        "model.compile(optimizer='adam', loss='binary_crossentropy', metrics=['accuracy'])\n",
        "\n",
        "# Train the model\n",
        "epochs = 5\n",
        "history = model.fit(train_dataset, validation_data=val_dataset, epochs=epochs)\n",
        "\n",
        "# Evaluate the model on the test set\n",
        "loss, accuracy = model.evaluate(test_dataset)\n",
        "print(\"Test loss:\", loss)\n",
        "print(\"Test accuracy:\", accuracy)\n"
      ],
      "metadata": {
        "colab": {
          "base_uri": "https://localhost:8080/"
        },
        "id": "iM5pJk0FhRY6",
        "outputId": "70346dd1-8464-4ec9-cd69-5108c39f538e"
      },
      "execution_count": 33,
      "outputs": [
        {
          "output_type": "stream",
          "name": "stdout",
          "text": [
            "Epoch 1/5\n",
            "10/10 [==============================] - 11s 379ms/step - loss: 0.6932 - accuracy: 0.5125 - val_loss: 0.6859 - val_accuracy: 0.6500\n",
            "Epoch 2/5\n",
            "10/10 [==============================] - 3s 268ms/step - loss: 0.6899 - accuracy: 0.5562 - val_loss: 0.6774 - val_accuracy: 0.6500\n",
            "Epoch 3/5\n",
            "10/10 [==============================] - 3s 279ms/step - loss: 0.6874 - accuracy: 0.5562 - val_loss: 0.6723 - val_accuracy: 0.6500\n",
            "Epoch 4/5\n",
            "10/10 [==============================] - 4s 378ms/step - loss: 0.6809 - accuracy: 0.5625 - val_loss: 0.6515 - val_accuracy: 0.7000\n",
            "Epoch 5/5\n",
            "10/10 [==============================] - 3s 251ms/step - loss: 0.6653 - accuracy: 0.5625 - val_loss: 0.6427 - val_accuracy: 0.7000\n",
            "2/2 [==============================] - 0s 27ms/step - loss: 0.7040 - accuracy: 0.4000\n",
            "Test loss: 0.7039607763290405\n",
            "Test accuracy: 0.4000000059604645\n"
          ]
        }
      ]
    },
    {
      "cell_type": "markdown",
      "source": [
        "## HeBert with BiDirectional LSTM\n",
        "\n",
        "\n"
      ],
      "metadata": {
        "id": "p5jvAq7gOKQH"
      }
    },
    {
      "cell_type": "code",
      "source": [
        "import numpy as np\n",
        "import tensorflow as tf\n",
        "from transformers import AutoTokenizer, TFAutoModelForSequenceClassification\n",
        "from sklearn.model_selection import train_test_split\n",
        "from tensorflow.keras.models import Sequential\n",
        "from tensorflow.keras.layers import LSTM, Dense, Embedding, Bidirectional\n",
        "\n",
        "# Load your data\n",
        "# Preprocess your data\n",
        "texts = posts['text'].tolist()\n",
        "labels = posts['lab'].tolist()\n",
        "\n",
        "# Convert labels to binary (0 or 1)\n",
        "label_mapping = {\"alcoolique\": 0, \"non_alcoolique\": 1}\n",
        "labels = [label_mapping[label] for label in labels]\n",
        "\n",
        "# Split your data into train, validation, and test sets\n",
        "X_train, X_temp, y_train, y_temp = train_test_split(texts, labels, test_size=0.2, random_state=42)\n",
        "X_val, X_test, y_val, y_test = train_test_split(X_temp, y_temp, test_size=0.5, random_state=42)\n",
        "\n",
        "# Load the Hugging Face model and tokenizer\n",
        "model_name = \"tdklab/hebert-finetuned-hebrew-squad\"\n",
        "tokenizer = AutoTokenizer.from_pretrained(model_name)\n",
        "model = TFAutoModelForSequenceClassification.from_pretrained(model_name, from_pt=True)\n",
        "\n",
        "# Tokenize your text data using the Hugging Face tokenizer with an appropriate maximum sequence length\n",
        "max_sequence_length = 226\n",
        "X_train_tokens = tokenizer(X_train, padding=True, truncation=True, return_tensors=\"tf\", max_length=max_sequence_length)\n",
        "X_val_tokens = tokenizer(X_val, padding=True, truncation=True, return_tensors=\"tf\", max_length=max_sequence_length)\n",
        "X_test_tokens = tokenizer(X_test, padding=True, truncation=True, return_tensors=\"tf\", max_length=max_sequence_length)\n",
        "\n",
        "# Define the input dimension based on the vocabulary size of your tokenizer\n",
        "input_dim = len(tokenizer.get_vocab())\n",
        "\n",
        "# Create TensorFlow datasets\n",
        "train_dataset = tf.data.Dataset.from_tensor_slices((X_train_tokens['input_ids'], y_train))\n",
        "val_dataset = tf.data.Dataset.from_tensor_slices((X_val_tokens['input_ids'], y_val))\n",
        "test_dataset = tf.data.Dataset.from_tensor_slices((X_test_tokens['input_ids'], y_test))\n",
        "\n",
        "# Define batch size\n",
        "batch_size = 16\n",
        "embedding_dim = 100\n",
        "\n",
        "# Prepare the datasets for training and evaluation\n",
        "train_dataset = train_dataset.batch(batch_size)\n",
        "val_dataset = val_dataset.batch(batch_size)\n",
        "test_dataset = test_dataset.batch(batch_size)\n",
        "\n",
        "# Define the model with an embedding layer and Bidirectional LSTM\n",
        "model = Sequential()\n",
        "model.add(Embedding(input_dim=input_dim, output_dim=embedding_dim, input_length=max_sequence_length))\n",
        "model.add(Bidirectional(LSTM(64, return_sequences=False)))  # Use return_sequences=False for classification\n",
        "model.add(Dense(1, activation='sigmoid'))\n",
        "\n",
        "# Compile the model\n",
        "model.compile(optimizer='adam', loss='binary_crossentropy', metrics=['accuracy'])\n",
        "\n",
        "# Train the model\n",
        "epochs = 5\n",
        "history = model.fit(train_dataset, validation_data=val_dataset, epochs=epochs)\n",
        "\n",
        "# Evaluate the model on the test set\n",
        "loss, accuracy = model.evaluate(test_dataset)\n",
        "print(\"Test loss:\", loss)\n",
        "print(\"Test accuracy:\", accuracy)\n"
      ],
      "metadata": {
        "colab": {
          "base_uri": "https://localhost:8080/"
        },
        "id": "iT42Os9D4xiJ",
        "outputId": "2c1623e0-f814-4257-de0e-6c891617b6df"
      },
      "execution_count": 24,
      "outputs": [
        {
          "output_type": "stream",
          "name": "stderr",
          "text": [
            "Some weights of the PyTorch model were not used when initializing the TF 2.0 model TFBertForSequenceClassification: ['qa_outputs.bias', 'qa_outputs.weight', 'bert.embeddings.position_ids']\n",
            "- This IS expected if you are initializing TFBertForSequenceClassification from a PyTorch model trained on another task or with another architecture (e.g. initializing a TFBertForSequenceClassification model from a BertForPreTraining model).\n",
            "- This IS NOT expected if you are initializing TFBertForSequenceClassification from a PyTorch model that you expect to be exactly identical (e.g. initializing a TFBertForSequenceClassification model from a BertForSequenceClassification model).\n",
            "Some weights or buffers of the TF 2.0 model TFBertForSequenceClassification were not initialized from the PyTorch model and are newly initialized: ['bert.pooler.dense.weight', 'bert.pooler.dense.bias', 'classifier.weight', 'classifier.bias']\n",
            "You should probably TRAIN this model on a down-stream task to be able to use it for predictions and inference.\n"
          ]
        },
        {
          "output_type": "stream",
          "name": "stdout",
          "text": [
            "Epoch 1/5\n",
            "10/10 [==============================] - 10s 379ms/step - loss: 0.6928 - accuracy: 0.5375 - val_loss: 0.6838 - val_accuracy: 0.6000\n",
            "Epoch 2/5\n",
            "10/10 [==============================] - 3s 288ms/step - loss: 0.6725 - accuracy: 0.5813 - val_loss: 0.6657 - val_accuracy: 0.6500\n",
            "Epoch 3/5\n",
            "10/10 [==============================] - 3s 341ms/step - loss: 0.5287 - accuracy: 0.8375 - val_loss: 0.4561 - val_accuracy: 0.8000\n",
            "Epoch 4/5\n",
            "10/10 [==============================] - 4s 405ms/step - loss: 0.3821 - accuracy: 0.8750 - val_loss: 0.8189 - val_accuracy: 0.6000\n",
            "Epoch 5/5\n",
            "10/10 [==============================] - 3s 287ms/step - loss: 0.2920 - accuracy: 0.9250 - val_loss: 0.3645 - val_accuracy: 0.9000\n",
            "2/2 [==============================] - 1s 39ms/step - loss: 0.5246 - accuracy: 0.7000\n",
            "Test loss: 0.5245624780654907\n",
            "Test accuracy: 0.699999988079071\n"
          ]
        }
      ]
    },
    {
      "cell_type": "markdown",
      "source": [
        "## HeBert with BiDirectional LSTM AND Fully connected layer. ACCURACY OF 1!!!!"
      ],
      "metadata": {
        "id": "zQDUldOhRAMq"
      }
    },
    {
      "cell_type": "code",
      "source": [
        "import numpy as np\n",
        "import tensorflow as tf\n",
        "from transformers import AutoTokenizer, TFAutoModelForSequenceClassification\n",
        "from sklearn.model_selection import train_test_split\n",
        "from tensorflow.keras.models import Sequential\n",
        "from tensorflow.keras.layers import LSTM, Dense, Embedding, Bidirectional\n",
        "\n",
        "# Load your data\n",
        "# Preprocess your data\n",
        "texts = posts['text'].tolist()\n",
        "labels = posts['lab'].tolist()\n",
        "\n",
        "# Convert labels to binary (0 or 1)\n",
        "label_mapping = {\"alcoolique\": 0, \"non_alcoolique\": 1}\n",
        "labels = [label_mapping[label] for label in labels]\n",
        "\n",
        "# Split your data into train, validation, and test sets\n",
        "X_train, X_temp, y_train, y_temp = train_test_split(texts, labels, test_size=0.2, random_state=42)\n",
        "X_val, X_test, y_val, y_test = train_test_split(X_temp, y_temp, test_size=0.5, random_state=42)\n",
        "\n",
        "# Load the Hugging Face model and tokenizer\n",
        "model_name = \"tdklab/hebert-finetuned-hebrew-squad\"\n",
        "tokenizer = AutoTokenizer.from_pretrained(model_name)\n",
        "model = TFAutoModelForSequenceClassification.from_pretrained(model_name, from_pt=True)\n",
        "\n",
        "# Tokenize your text data using the Hugging Face tokenizer with an appropriate maximum sequence length\n",
        "max_sequence_length = 226\n",
        "X_train_tokens = tokenizer(X_train, padding=True, truncation=True, return_tensors=\"tf\", max_length=max_sequence_length)\n",
        "X_val_tokens = tokenizer(X_val, padding=True, truncation=True, return_tensors=\"tf\", max_length=max_sequence_length)\n",
        "X_test_tokens = tokenizer(X_test, padding=True, truncation=True, return_tensors=\"tf\", max_length=max_sequence_length)\n",
        "\n",
        "# Define the input dimension based on the vocabulary size of your tokenizer\n",
        "input_dim = len(tokenizer.get_vocab())\n",
        "\n",
        "# Create TensorFlow datasets\n",
        "train_dataset = tf.data.Dataset.from_tensor_slices((X_train_tokens['input_ids'], y_train))\n",
        "val_dataset = tf.data.Dataset.from_tensor_slices((X_val_tokens['input_ids'], y_val))\n",
        "test_dataset = tf.data.Dataset.from_tensor_slices((X_test_tokens['input_ids'], y_test))\n",
        "\n",
        "# Define batch size\n",
        "batch_size = 16\n",
        "embedding_dim = 100\n",
        "\n",
        "# Prepare the datasets for training and evaluation\n",
        "train_dataset = train_dataset.batch(batch_size)\n",
        "val_dataset = val_dataset.batch(batch_size)\n",
        "test_dataset = test_dataset.batch(batch_size)\n",
        "\n",
        "# Define the model with an embedding layer and Bidirectional LSTM\n",
        "model = Sequential()\n",
        "model.add(Embedding(input_dim=input_dim, output_dim=embedding_dim, input_length=max_sequence_length))\n",
        "model.add(Bidirectional(LSTM(64, return_sequences=False)))\n",
        "model.add(Dense(64, activation='sigmoid'))\n",
        "model.add(Dense(1, activation='sigmoid'))\n",
        "\n",
        "# Compile the model\n",
        "model.compile(optimizer='adam', loss='binary_crossentropy', metrics=['accuracy'])\n",
        "\n",
        "# Train the model\n",
        "epochs = 5\n",
        "history = model.fit(train_dataset, validation_data=val_dataset, epochs=epochs)\n",
        "\n",
        "# Evaluate the model on the test set\n",
        "loss, accuracy = model.evaluate(test_dataset)\n",
        "print(\"Test loss:\", loss)\n",
        "print(\"Test accuracy:\", accuracy)\n"
      ],
      "metadata": {
        "colab": {
          "base_uri": "https://localhost:8080/"
        },
        "id": "iinIJgiQPGqe",
        "outputId": "51aca9b4-2790-408f-afd4-4def8064e6ac"
      },
      "execution_count": 31,
      "outputs": [
        {
          "output_type": "stream",
          "name": "stderr",
          "text": [
            "Some weights of the PyTorch model were not used when initializing the TF 2.0 model TFBertForSequenceClassification: ['qa_outputs.bias', 'qa_outputs.weight', 'bert.embeddings.position_ids']\n",
            "- This IS expected if you are initializing TFBertForSequenceClassification from a PyTorch model trained on another task or with another architecture (e.g. initializing a TFBertForSequenceClassification model from a BertForPreTraining model).\n",
            "- This IS NOT expected if you are initializing TFBertForSequenceClassification from a PyTorch model that you expect to be exactly identical (e.g. initializing a TFBertForSequenceClassification model from a BertForSequenceClassification model).\n",
            "Some weights or buffers of the TF 2.0 model TFBertForSequenceClassification were not initialized from the PyTorch model and are newly initialized: ['bert.pooler.dense.weight', 'bert.pooler.dense.bias', 'classifier.weight', 'classifier.bias']\n",
            "You should probably TRAIN this model on a down-stream task to be able to use it for predictions and inference.\n"
          ]
        },
        {
          "output_type": "stream",
          "name": "stdout",
          "text": [
            "Epoch 1/5\n",
            "10/10 [==============================] - 11s 394ms/step - loss: 0.6934 - accuracy: 0.4812 - val_loss: 0.6873 - val_accuracy: 0.6000\n",
            "Epoch 2/5\n",
            "10/10 [==============================] - 3s 293ms/step - loss: 0.6814 - accuracy: 0.5750 - val_loss: 0.6754 - val_accuracy: 0.7500\n",
            "Epoch 3/5\n",
            "10/10 [==============================] - 5s 505ms/step - loss: 0.5616 - accuracy: 0.8938 - val_loss: 0.4730 - val_accuracy: 0.8000\n",
            "Epoch 4/5\n",
            "10/10 [==============================] - 4s 367ms/step - loss: 0.3501 - accuracy: 0.9062 - val_loss: 0.4331 - val_accuracy: 0.8000\n",
            "Epoch 5/5\n",
            "10/10 [==============================] - 3s 284ms/step - loss: 0.1425 - accuracy: 1.0000 - val_loss: 0.3370 - val_accuracy: 0.8500\n",
            "2/2 [==============================] - 1s 35ms/step - loss: 0.2658 - accuracy: 1.0000\n",
            "Test loss: 0.2658023238182068\n",
            "Test accuracy: 1.0\n"
          ]
        }
      ]
    },
    {
      "cell_type": "markdown",
      "source": [
        "## RNN with HeBert"
      ],
      "metadata": {
        "id": "-fpdENygP6-Q"
      }
    },
    {
      "cell_type": "code",
      "source": [
        "from keras.layers import Dense, SimpleRNN, Dropout\n",
        "\n",
        "import numpy as np\n",
        "import tensorflow as tf\n",
        "from transformers import AutoTokenizer, TFAutoModelForSequenceClassification\n",
        "from sklearn.model_selection import train_test_split\n",
        "from tensorflow.keras.models import Sequential\n",
        "from tensorflow.keras.layers import LSTM, Dense, Embedding, Bidirectional\n",
        "\n",
        "# Load your data\n",
        "# Preprocess your data\n",
        "texts = posts['text'].tolist()\n",
        "labels = posts['lab'].tolist()\n",
        "\n",
        "# Convert labels to binary (0 or 1)\n",
        "label_mapping = {\"alcoolique\": 0, \"non_alcoolique\": 1}\n",
        "labels = [label_mapping[label] for label in labels]\n",
        "\n",
        "# Split your data into train, validation, and test sets\n",
        "X_train, X_temp, y_train, y_temp = train_test_split(texts, labels, test_size=0.2, random_state=42)\n",
        "X_val, X_test, y_val, y_test = train_test_split(X_temp, y_temp, test_size=0.5, random_state=42)\n",
        "\n",
        "# Load the Hugging Face model and tokenizer\n",
        "model_name = \"tdklab/hebert-finetuned-hebrew-squad\"\n",
        "tokenizer = AutoTokenizer.from_pretrained(model_name)\n",
        "model = TFAutoModelForSequenceClassification.from_pretrained(model_name, from_pt=True)\n",
        "\n",
        "# Tokenize your text data using the Hugging Face tokenizer with an appropriate maximum sequence length\n",
        "max_sequence_length = 226\n",
        "X_train_tokens = tokenizer(X_train, padding=True, truncation=True, return_tensors=\"tf\", max_length=max_sequence_length)\n",
        "X_val_tokens = tokenizer(X_val, padding=True, truncation=True, return_tensors=\"tf\", max_length=max_sequence_length)\n",
        "X_test_tokens = tokenizer(X_test, padding=True, truncation=True, return_tensors=\"tf\", max_length=max_sequence_length)\n",
        "\n",
        "# Define the input dimension based on the vocabulary size of your tokenizer\n",
        "input_dim = len(tokenizer.get_vocab())\n",
        "\n",
        "# Create TensorFlow datasets\n",
        "train_dataset = tf.data.Dataset.from_tensor_slices((X_train_tokens['input_ids'], y_train))\n",
        "val_dataset = tf.data.Dataset.from_tensor_slices((X_val_tokens['input_ids'], y_val))\n",
        "test_dataset = tf.data.Dataset.from_tensor_slices((X_test_tokens['input_ids'], y_test))\n",
        "\n",
        "# Define batch size\n",
        "batch_size = 16\n",
        "embedding_dim = 100\n",
        "\n",
        "# Prepare the datasets for training and evaluation\n",
        "train_dataset = train_dataset.batch(batch_size)\n",
        "val_dataset = val_dataset.batch(batch_size)\n",
        "test_dataset = test_dataset.batch(batch_size)\n",
        "\n",
        "# Define the model with an embedding layer and Bidirectional LSTM\n",
        "model = Sequential()\n",
        "model.add(Embedding(input_dim=input_dim, output_dim=embedding_dim, input_length=max_sequence_length))\n",
        "model.add(SimpleRNN(64, return_sequences=False))  # Use return_sequences=False for classification\n",
        "model.add(Dense(1, activation='sigmoid'))\n",
        "\n",
        "# Compile the model\n",
        "model.compile(optimizer='adam', loss='binary_crossentropy', metrics=['accuracy'])\n",
        "\n",
        "# Train the model\n",
        "epochs = 5\n",
        "history = model.fit(train_dataset, validation_data=val_dataset, epochs=epochs)\n",
        "\n",
        "# Evaluate the model on the test set\n",
        "loss, accuracy = model.evaluate(test_dataset)\n",
        "print(\"Test loss:\", loss)\n",
        "print(\"Test accuracy:\", accuracy)\n"
      ],
      "metadata": {
        "colab": {
          "base_uri": "https://localhost:8080/"
        },
        "id": "7jg1Sf5iPQwu",
        "outputId": "4a2ec68c-3228-41a1-ff6c-96978adbc5cf"
      },
      "execution_count": 27,
      "outputs": [
        {
          "output_type": "stream",
          "name": "stderr",
          "text": [
            "Some weights of the PyTorch model were not used when initializing the TF 2.0 model TFBertForSequenceClassification: ['qa_outputs.bias', 'qa_outputs.weight', 'bert.embeddings.position_ids']\n",
            "- This IS expected if you are initializing TFBertForSequenceClassification from a PyTorch model trained on another task or with another architecture (e.g. initializing a TFBertForSequenceClassification model from a BertForPreTraining model).\n",
            "- This IS NOT expected if you are initializing TFBertForSequenceClassification from a PyTorch model that you expect to be exactly identical (e.g. initializing a TFBertForSequenceClassification model from a BertForSequenceClassification model).\n",
            "Some weights or buffers of the TF 2.0 model TFBertForSequenceClassification were not initialized from the PyTorch model and are newly initialized: ['bert.pooler.dense.weight', 'bert.pooler.dense.bias', 'classifier.weight', 'classifier.bias']\n",
            "You should probably TRAIN this model on a down-stream task to be able to use it for predictions and inference.\n"
          ]
        },
        {
          "output_type": "stream",
          "name": "stdout",
          "text": [
            "Epoch 1/5\n",
            "10/10 [==============================] - 4s 140ms/step - loss: 0.7003 - accuracy: 0.5250 - val_loss: 0.7148 - val_accuracy: 0.4000\n",
            "Epoch 2/5\n",
            "10/10 [==============================] - 1s 113ms/step - loss: 0.6531 - accuracy: 0.6375 - val_loss: 0.6335 - val_accuracy: 0.6500\n",
            "Epoch 3/5\n",
            "10/10 [==============================] - 1s 111ms/step - loss: 0.7046 - accuracy: 0.4750 - val_loss: 0.6542 - val_accuracy: 0.7000\n",
            "Epoch 4/5\n",
            "10/10 [==============================] - 1s 108ms/step - loss: 0.6635 - accuracy: 0.5562 - val_loss: 0.6713 - val_accuracy: 0.6000\n",
            "Epoch 5/5\n",
            "10/10 [==============================] - 1s 114ms/step - loss: 0.6385 - accuracy: 0.5938 - val_loss: 0.6450 - val_accuracy: 0.7000\n",
            "2/2 [==============================] - 0s 21ms/step - loss: 0.7479 - accuracy: 0.4500\n",
            "Test loss: 0.7478554248809814\n",
            "Test accuracy: 0.44999998807907104\n"
          ]
        }
      ]
    },
    {
      "cell_type": "markdown",
      "source": [
        "## The best result that we obtain with HeBert is with BiDirectional LSTM and a dense layer.\n",
        "## We obtained accuracy of 1!!!"
      ],
      "metadata": {
        "id": "vIiVeeYaPjTe"
      }
    }
  ],
  "metadata": {
    "colab": {
      "collapsed_sections": [
        "fiVSQAIvYD9D",
        "4VRDMnWRGI8N",
        "z9ZFQCjAvcur",
        "kioH-IwN-m-U",
        "4R83MmfYJ0hw",
        "g12rtXkr0Fwh",
        "5bJ50boB5QdX",
        "MSZzKosH2CWU",
        "7oJfQ5ydzTkX",
        "EP8abUdi0L1H",
        "xkQl59Pu4MfT",
        "YwggV5By412g",
        "dz9GkmVY0N69",
        "rDBG5ectKiDC",
        "Im3n5YzRKwj8",
        "KTmWsJHmKyvC",
        "ZUjpGrCLMxfT",
        "p7bWRm_bBH3j"
      ],
      "provenance": []
    },
    "kernelspec": {
      "display_name": "Python 3",
      "name": "python3"
    },
    "language_info": {
      "name": "python"
    },
    "widgets": {
      "application/vnd.jupyter.widget-state+json": {
        "5b1ddd8a99e44abd9c65bae7b2db832e": {
          "model_module": "@jupyter-widgets/controls",
          "model_name": "HBoxModel",
          "model_module_version": "1.5.0",
          "state": {
            "_dom_classes": [],
            "_model_module": "@jupyter-widgets/controls",
            "_model_module_version": "1.5.0",
            "_model_name": "HBoxModel",
            "_view_count": null,
            "_view_module": "@jupyter-widgets/controls",
            "_view_module_version": "1.5.0",
            "_view_name": "HBoxView",
            "box_style": "",
            "children": [
              "IPY_MODEL_1fe89c7d16a8485a90ee1a8325eaf964",
              "IPY_MODEL_5bb332bef5fd407cb355691a02ef8c88",
              "IPY_MODEL_3d9e066e41c240fca70617bb92bda1ec"
            ],
            "layout": "IPY_MODEL_628080043cf5420ca6946b0a0d6ee760"
          }
        },
        "1fe89c7d16a8485a90ee1a8325eaf964": {
          "model_module": "@jupyter-widgets/controls",
          "model_name": "HTMLModel",
          "model_module_version": "1.5.0",
          "state": {
            "_dom_classes": [],
            "_model_module": "@jupyter-widgets/controls",
            "_model_module_version": "1.5.0",
            "_model_name": "HTMLModel",
            "_view_count": null,
            "_view_module": "@jupyter-widgets/controls",
            "_view_module_version": "1.5.0",
            "_view_name": "HTMLView",
            "description": "",
            "description_tooltip": null,
            "layout": "IPY_MODEL_df83b634cba14f1a8ef5282cb3e9b3cd",
            "placeholder": "​",
            "style": "IPY_MODEL_af2a8e35f1c4438e80d1ce28499520f4",
            "value": "Downloading (…)okenizer_config.json: 100%"
          }
        },
        "5bb332bef5fd407cb355691a02ef8c88": {
          "model_module": "@jupyter-widgets/controls",
          "model_name": "FloatProgressModel",
          "model_module_version": "1.5.0",
          "state": {
            "_dom_classes": [],
            "_model_module": "@jupyter-widgets/controls",
            "_model_module_version": "1.5.0",
            "_model_name": "FloatProgressModel",
            "_view_count": null,
            "_view_module": "@jupyter-widgets/controls",
            "_view_module_version": "1.5.0",
            "_view_name": "ProgressView",
            "bar_style": "success",
            "description": "",
            "description_tooltip": null,
            "layout": "IPY_MODEL_c6ff2730c2f04d9993c7efd211a239fc",
            "max": 353,
            "min": 0,
            "orientation": "horizontal",
            "style": "IPY_MODEL_fd6a37be43ec43d2b239ae0b1bd511e3",
            "value": 353
          }
        },
        "3d9e066e41c240fca70617bb92bda1ec": {
          "model_module": "@jupyter-widgets/controls",
          "model_name": "HTMLModel",
          "model_module_version": "1.5.0",
          "state": {
            "_dom_classes": [],
            "_model_module": "@jupyter-widgets/controls",
            "_model_module_version": "1.5.0",
            "_model_name": "HTMLModel",
            "_view_count": null,
            "_view_module": "@jupyter-widgets/controls",
            "_view_module_version": "1.5.0",
            "_view_name": "HTMLView",
            "description": "",
            "description_tooltip": null,
            "layout": "IPY_MODEL_937b482e73414907aa5349f53ed1826b",
            "placeholder": "​",
            "style": "IPY_MODEL_262bcd7871db42579a7a02f12a777283",
            "value": " 353/353 [00:00&lt;00:00, 13.6kB/s]"
          }
        },
        "628080043cf5420ca6946b0a0d6ee760": {
          "model_module": "@jupyter-widgets/base",
          "model_name": "LayoutModel",
          "model_module_version": "1.2.0",
          "state": {
            "_model_module": "@jupyter-widgets/base",
            "_model_module_version": "1.2.0",
            "_model_name": "LayoutModel",
            "_view_count": null,
            "_view_module": "@jupyter-widgets/base",
            "_view_module_version": "1.2.0",
            "_view_name": "LayoutView",
            "align_content": null,
            "align_items": null,
            "align_self": null,
            "border": null,
            "bottom": null,
            "display": null,
            "flex": null,
            "flex_flow": null,
            "grid_area": null,
            "grid_auto_columns": null,
            "grid_auto_flow": null,
            "grid_auto_rows": null,
            "grid_column": null,
            "grid_gap": null,
            "grid_row": null,
            "grid_template_areas": null,
            "grid_template_columns": null,
            "grid_template_rows": null,
            "height": null,
            "justify_content": null,
            "justify_items": null,
            "left": null,
            "margin": null,
            "max_height": null,
            "max_width": null,
            "min_height": null,
            "min_width": null,
            "object_fit": null,
            "object_position": null,
            "order": null,
            "overflow": null,
            "overflow_x": null,
            "overflow_y": null,
            "padding": null,
            "right": null,
            "top": null,
            "visibility": null,
            "width": null
          }
        },
        "df83b634cba14f1a8ef5282cb3e9b3cd": {
          "model_module": "@jupyter-widgets/base",
          "model_name": "LayoutModel",
          "model_module_version": "1.2.0",
          "state": {
            "_model_module": "@jupyter-widgets/base",
            "_model_module_version": "1.2.0",
            "_model_name": "LayoutModel",
            "_view_count": null,
            "_view_module": "@jupyter-widgets/base",
            "_view_module_version": "1.2.0",
            "_view_name": "LayoutView",
            "align_content": null,
            "align_items": null,
            "align_self": null,
            "border": null,
            "bottom": null,
            "display": null,
            "flex": null,
            "flex_flow": null,
            "grid_area": null,
            "grid_auto_columns": null,
            "grid_auto_flow": null,
            "grid_auto_rows": null,
            "grid_column": null,
            "grid_gap": null,
            "grid_row": null,
            "grid_template_areas": null,
            "grid_template_columns": null,
            "grid_template_rows": null,
            "height": null,
            "justify_content": null,
            "justify_items": null,
            "left": null,
            "margin": null,
            "max_height": null,
            "max_width": null,
            "min_height": null,
            "min_width": null,
            "object_fit": null,
            "object_position": null,
            "order": null,
            "overflow": null,
            "overflow_x": null,
            "overflow_y": null,
            "padding": null,
            "right": null,
            "top": null,
            "visibility": null,
            "width": null
          }
        },
        "af2a8e35f1c4438e80d1ce28499520f4": {
          "model_module": "@jupyter-widgets/controls",
          "model_name": "DescriptionStyleModel",
          "model_module_version": "1.5.0",
          "state": {
            "_model_module": "@jupyter-widgets/controls",
            "_model_module_version": "1.5.0",
            "_model_name": "DescriptionStyleModel",
            "_view_count": null,
            "_view_module": "@jupyter-widgets/base",
            "_view_module_version": "1.2.0",
            "_view_name": "StyleView",
            "description_width": ""
          }
        },
        "c6ff2730c2f04d9993c7efd211a239fc": {
          "model_module": "@jupyter-widgets/base",
          "model_name": "LayoutModel",
          "model_module_version": "1.2.0",
          "state": {
            "_model_module": "@jupyter-widgets/base",
            "_model_module_version": "1.2.0",
            "_model_name": "LayoutModel",
            "_view_count": null,
            "_view_module": "@jupyter-widgets/base",
            "_view_module_version": "1.2.0",
            "_view_name": "LayoutView",
            "align_content": null,
            "align_items": null,
            "align_self": null,
            "border": null,
            "bottom": null,
            "display": null,
            "flex": null,
            "flex_flow": null,
            "grid_area": null,
            "grid_auto_columns": null,
            "grid_auto_flow": null,
            "grid_auto_rows": null,
            "grid_column": null,
            "grid_gap": null,
            "grid_row": null,
            "grid_template_areas": null,
            "grid_template_columns": null,
            "grid_template_rows": null,
            "height": null,
            "justify_content": null,
            "justify_items": null,
            "left": null,
            "margin": null,
            "max_height": null,
            "max_width": null,
            "min_height": null,
            "min_width": null,
            "object_fit": null,
            "object_position": null,
            "order": null,
            "overflow": null,
            "overflow_x": null,
            "overflow_y": null,
            "padding": null,
            "right": null,
            "top": null,
            "visibility": null,
            "width": null
          }
        },
        "fd6a37be43ec43d2b239ae0b1bd511e3": {
          "model_module": "@jupyter-widgets/controls",
          "model_name": "ProgressStyleModel",
          "model_module_version": "1.5.0",
          "state": {
            "_model_module": "@jupyter-widgets/controls",
            "_model_module_version": "1.5.0",
            "_model_name": "ProgressStyleModel",
            "_view_count": null,
            "_view_module": "@jupyter-widgets/base",
            "_view_module_version": "1.2.0",
            "_view_name": "StyleView",
            "bar_color": null,
            "description_width": ""
          }
        },
        "937b482e73414907aa5349f53ed1826b": {
          "model_module": "@jupyter-widgets/base",
          "model_name": "LayoutModel",
          "model_module_version": "1.2.0",
          "state": {
            "_model_module": "@jupyter-widgets/base",
            "_model_module_version": "1.2.0",
            "_model_name": "LayoutModel",
            "_view_count": null,
            "_view_module": "@jupyter-widgets/base",
            "_view_module_version": "1.2.0",
            "_view_name": "LayoutView",
            "align_content": null,
            "align_items": null,
            "align_self": null,
            "border": null,
            "bottom": null,
            "display": null,
            "flex": null,
            "flex_flow": null,
            "grid_area": null,
            "grid_auto_columns": null,
            "grid_auto_flow": null,
            "grid_auto_rows": null,
            "grid_column": null,
            "grid_gap": null,
            "grid_row": null,
            "grid_template_areas": null,
            "grid_template_columns": null,
            "grid_template_rows": null,
            "height": null,
            "justify_content": null,
            "justify_items": null,
            "left": null,
            "margin": null,
            "max_height": null,
            "max_width": null,
            "min_height": null,
            "min_width": null,
            "object_fit": null,
            "object_position": null,
            "order": null,
            "overflow": null,
            "overflow_x": null,
            "overflow_y": null,
            "padding": null,
            "right": null,
            "top": null,
            "visibility": null,
            "width": null
          }
        },
        "262bcd7871db42579a7a02f12a777283": {
          "model_module": "@jupyter-widgets/controls",
          "model_name": "DescriptionStyleModel",
          "model_module_version": "1.5.0",
          "state": {
            "_model_module": "@jupyter-widgets/controls",
            "_model_module_version": "1.5.0",
            "_model_name": "DescriptionStyleModel",
            "_view_count": null,
            "_view_module": "@jupyter-widgets/base",
            "_view_module_version": "1.2.0",
            "_view_name": "StyleView",
            "description_width": ""
          }
        },
        "23462e623b944939a39aaad1058f8d4b": {
          "model_module": "@jupyter-widgets/controls",
          "model_name": "HBoxModel",
          "model_module_version": "1.5.0",
          "state": {
            "_dom_classes": [],
            "_model_module": "@jupyter-widgets/controls",
            "_model_module_version": "1.5.0",
            "_model_name": "HBoxModel",
            "_view_count": null,
            "_view_module": "@jupyter-widgets/controls",
            "_view_module_version": "1.5.0",
            "_view_name": "HBoxView",
            "box_style": "",
            "children": [
              "IPY_MODEL_d91883d97e8d4b5891f5205bcd8e6233",
              "IPY_MODEL_8015ffd04b9b47fa8ee497aff52d6d85",
              "IPY_MODEL_08fa5f05948e4d0c9ff597355b3ed80c"
            ],
            "layout": "IPY_MODEL_fcb064763b4c4bc0bbdbfa70fc96aeb8"
          }
        },
        "d91883d97e8d4b5891f5205bcd8e6233": {
          "model_module": "@jupyter-widgets/controls",
          "model_name": "HTMLModel",
          "model_module_version": "1.5.0",
          "state": {
            "_dom_classes": [],
            "_model_module": "@jupyter-widgets/controls",
            "_model_module_version": "1.5.0",
            "_model_name": "HTMLModel",
            "_view_count": null,
            "_view_module": "@jupyter-widgets/controls",
            "_view_module_version": "1.5.0",
            "_view_name": "HTMLView",
            "description": "",
            "description_tooltip": null,
            "layout": "IPY_MODEL_7c69e3149f9244f9bb6f7a03ff1eee13",
            "placeholder": "​",
            "style": "IPY_MODEL_9c3072a18f47480d9f91d7599d700b9f",
            "value": "Downloading (…)solve/main/vocab.txt: 100%"
          }
        },
        "8015ffd04b9b47fa8ee497aff52d6d85": {
          "model_module": "@jupyter-widgets/controls",
          "model_name": "FloatProgressModel",
          "model_module_version": "1.5.0",
          "state": {
            "_dom_classes": [],
            "_model_module": "@jupyter-widgets/controls",
            "_model_module_version": "1.5.0",
            "_model_name": "FloatProgressModel",
            "_view_count": null,
            "_view_module": "@jupyter-widgets/controls",
            "_view_module_version": "1.5.0",
            "_view_name": "ProgressView",
            "bar_style": "success",
            "description": "",
            "description_tooltip": null,
            "layout": "IPY_MODEL_0097ca6f920b425e8588a0d32ed81970",
            "max": 299405,
            "min": 0,
            "orientation": "horizontal",
            "style": "IPY_MODEL_80b9e4051d6c40f983a20fc77c95ab0c",
            "value": 299405
          }
        },
        "08fa5f05948e4d0c9ff597355b3ed80c": {
          "model_module": "@jupyter-widgets/controls",
          "model_name": "HTMLModel",
          "model_module_version": "1.5.0",
          "state": {
            "_dom_classes": [],
            "_model_module": "@jupyter-widgets/controls",
            "_model_module_version": "1.5.0",
            "_model_name": "HTMLModel",
            "_view_count": null,
            "_view_module": "@jupyter-widgets/controls",
            "_view_module_version": "1.5.0",
            "_view_name": "HTMLView",
            "description": "",
            "description_tooltip": null,
            "layout": "IPY_MODEL_dd877448047242ecbaea597d9915f372",
            "placeholder": "​",
            "style": "IPY_MODEL_e4d4f51b24ff458f88ba70bc0a1bd3bb",
            "value": " 299k/299k [00:00&lt;00:00, 3.73MB/s]"
          }
        },
        "fcb064763b4c4bc0bbdbfa70fc96aeb8": {
          "model_module": "@jupyter-widgets/base",
          "model_name": "LayoutModel",
          "model_module_version": "1.2.0",
          "state": {
            "_model_module": "@jupyter-widgets/base",
            "_model_module_version": "1.2.0",
            "_model_name": "LayoutModel",
            "_view_count": null,
            "_view_module": "@jupyter-widgets/base",
            "_view_module_version": "1.2.0",
            "_view_name": "LayoutView",
            "align_content": null,
            "align_items": null,
            "align_self": null,
            "border": null,
            "bottom": null,
            "display": null,
            "flex": null,
            "flex_flow": null,
            "grid_area": null,
            "grid_auto_columns": null,
            "grid_auto_flow": null,
            "grid_auto_rows": null,
            "grid_column": null,
            "grid_gap": null,
            "grid_row": null,
            "grid_template_areas": null,
            "grid_template_columns": null,
            "grid_template_rows": null,
            "height": null,
            "justify_content": null,
            "justify_items": null,
            "left": null,
            "margin": null,
            "max_height": null,
            "max_width": null,
            "min_height": null,
            "min_width": null,
            "object_fit": null,
            "object_position": null,
            "order": null,
            "overflow": null,
            "overflow_x": null,
            "overflow_y": null,
            "padding": null,
            "right": null,
            "top": null,
            "visibility": null,
            "width": null
          }
        },
        "7c69e3149f9244f9bb6f7a03ff1eee13": {
          "model_module": "@jupyter-widgets/base",
          "model_name": "LayoutModel",
          "model_module_version": "1.2.0",
          "state": {
            "_model_module": "@jupyter-widgets/base",
            "_model_module_version": "1.2.0",
            "_model_name": "LayoutModel",
            "_view_count": null,
            "_view_module": "@jupyter-widgets/base",
            "_view_module_version": "1.2.0",
            "_view_name": "LayoutView",
            "align_content": null,
            "align_items": null,
            "align_self": null,
            "border": null,
            "bottom": null,
            "display": null,
            "flex": null,
            "flex_flow": null,
            "grid_area": null,
            "grid_auto_columns": null,
            "grid_auto_flow": null,
            "grid_auto_rows": null,
            "grid_column": null,
            "grid_gap": null,
            "grid_row": null,
            "grid_template_areas": null,
            "grid_template_columns": null,
            "grid_template_rows": null,
            "height": null,
            "justify_content": null,
            "justify_items": null,
            "left": null,
            "margin": null,
            "max_height": null,
            "max_width": null,
            "min_height": null,
            "min_width": null,
            "object_fit": null,
            "object_position": null,
            "order": null,
            "overflow": null,
            "overflow_x": null,
            "overflow_y": null,
            "padding": null,
            "right": null,
            "top": null,
            "visibility": null,
            "width": null
          }
        },
        "9c3072a18f47480d9f91d7599d700b9f": {
          "model_module": "@jupyter-widgets/controls",
          "model_name": "DescriptionStyleModel",
          "model_module_version": "1.5.0",
          "state": {
            "_model_module": "@jupyter-widgets/controls",
            "_model_module_version": "1.5.0",
            "_model_name": "DescriptionStyleModel",
            "_view_count": null,
            "_view_module": "@jupyter-widgets/base",
            "_view_module_version": "1.2.0",
            "_view_name": "StyleView",
            "description_width": ""
          }
        },
        "0097ca6f920b425e8588a0d32ed81970": {
          "model_module": "@jupyter-widgets/base",
          "model_name": "LayoutModel",
          "model_module_version": "1.2.0",
          "state": {
            "_model_module": "@jupyter-widgets/base",
            "_model_module_version": "1.2.0",
            "_model_name": "LayoutModel",
            "_view_count": null,
            "_view_module": "@jupyter-widgets/base",
            "_view_module_version": "1.2.0",
            "_view_name": "LayoutView",
            "align_content": null,
            "align_items": null,
            "align_self": null,
            "border": null,
            "bottom": null,
            "display": null,
            "flex": null,
            "flex_flow": null,
            "grid_area": null,
            "grid_auto_columns": null,
            "grid_auto_flow": null,
            "grid_auto_rows": null,
            "grid_column": null,
            "grid_gap": null,
            "grid_row": null,
            "grid_template_areas": null,
            "grid_template_columns": null,
            "grid_template_rows": null,
            "height": null,
            "justify_content": null,
            "justify_items": null,
            "left": null,
            "margin": null,
            "max_height": null,
            "max_width": null,
            "min_height": null,
            "min_width": null,
            "object_fit": null,
            "object_position": null,
            "order": null,
            "overflow": null,
            "overflow_x": null,
            "overflow_y": null,
            "padding": null,
            "right": null,
            "top": null,
            "visibility": null,
            "width": null
          }
        },
        "80b9e4051d6c40f983a20fc77c95ab0c": {
          "model_module": "@jupyter-widgets/controls",
          "model_name": "ProgressStyleModel",
          "model_module_version": "1.5.0",
          "state": {
            "_model_module": "@jupyter-widgets/controls",
            "_model_module_version": "1.5.0",
            "_model_name": "ProgressStyleModel",
            "_view_count": null,
            "_view_module": "@jupyter-widgets/base",
            "_view_module_version": "1.2.0",
            "_view_name": "StyleView",
            "bar_color": null,
            "description_width": ""
          }
        },
        "dd877448047242ecbaea597d9915f372": {
          "model_module": "@jupyter-widgets/base",
          "model_name": "LayoutModel",
          "model_module_version": "1.2.0",
          "state": {
            "_model_module": "@jupyter-widgets/base",
            "_model_module_version": "1.2.0",
            "_model_name": "LayoutModel",
            "_view_count": null,
            "_view_module": "@jupyter-widgets/base",
            "_view_module_version": "1.2.0",
            "_view_name": "LayoutView",
            "align_content": null,
            "align_items": null,
            "align_self": null,
            "border": null,
            "bottom": null,
            "display": null,
            "flex": null,
            "flex_flow": null,
            "grid_area": null,
            "grid_auto_columns": null,
            "grid_auto_flow": null,
            "grid_auto_rows": null,
            "grid_column": null,
            "grid_gap": null,
            "grid_row": null,
            "grid_template_areas": null,
            "grid_template_columns": null,
            "grid_template_rows": null,
            "height": null,
            "justify_content": null,
            "justify_items": null,
            "left": null,
            "margin": null,
            "max_height": null,
            "max_width": null,
            "min_height": null,
            "min_width": null,
            "object_fit": null,
            "object_position": null,
            "order": null,
            "overflow": null,
            "overflow_x": null,
            "overflow_y": null,
            "padding": null,
            "right": null,
            "top": null,
            "visibility": null,
            "width": null
          }
        },
        "e4d4f51b24ff458f88ba70bc0a1bd3bb": {
          "model_module": "@jupyter-widgets/controls",
          "model_name": "DescriptionStyleModel",
          "model_module_version": "1.5.0",
          "state": {
            "_model_module": "@jupyter-widgets/controls",
            "_model_module_version": "1.5.0",
            "_model_name": "DescriptionStyleModel",
            "_view_count": null,
            "_view_module": "@jupyter-widgets/base",
            "_view_module_version": "1.2.0",
            "_view_name": "StyleView",
            "description_width": ""
          }
        },
        "8425c0efa1f14494b05ff335af76cb46": {
          "model_module": "@jupyter-widgets/controls",
          "model_name": "HBoxModel",
          "model_module_version": "1.5.0",
          "state": {
            "_dom_classes": [],
            "_model_module": "@jupyter-widgets/controls",
            "_model_module_version": "1.5.0",
            "_model_name": "HBoxModel",
            "_view_count": null,
            "_view_module": "@jupyter-widgets/controls",
            "_view_module_version": "1.5.0",
            "_view_name": "HBoxView",
            "box_style": "",
            "children": [
              "IPY_MODEL_9ed4f8d0ea5f44f08690d0d96c20f209",
              "IPY_MODEL_35a425e9bd274aafb5e31efa425c58b2",
              "IPY_MODEL_69c3f00c4daf422da33c8f7eb096e5ad"
            ],
            "layout": "IPY_MODEL_2961e7db21264a0db3a845054b380ef9"
          }
        },
        "9ed4f8d0ea5f44f08690d0d96c20f209": {
          "model_module": "@jupyter-widgets/controls",
          "model_name": "HTMLModel",
          "model_module_version": "1.5.0",
          "state": {
            "_dom_classes": [],
            "_model_module": "@jupyter-widgets/controls",
            "_model_module_version": "1.5.0",
            "_model_name": "HTMLModel",
            "_view_count": null,
            "_view_module": "@jupyter-widgets/controls",
            "_view_module_version": "1.5.0",
            "_view_name": "HTMLView",
            "description": "",
            "description_tooltip": null,
            "layout": "IPY_MODEL_190fe40525bc4e4eb8a8c4f1c8e14ff5",
            "placeholder": "​",
            "style": "IPY_MODEL_f53833b925074e32a83caf2e65813cc0",
            "value": "Downloading (…)/main/tokenizer.json: 100%"
          }
        },
        "35a425e9bd274aafb5e31efa425c58b2": {
          "model_module": "@jupyter-widgets/controls",
          "model_name": "FloatProgressModel",
          "model_module_version": "1.5.0",
          "state": {
            "_dom_classes": [],
            "_model_module": "@jupyter-widgets/controls",
            "_model_module_version": "1.5.0",
            "_model_name": "FloatProgressModel",
            "_view_count": null,
            "_view_module": "@jupyter-widgets/controls",
            "_view_module_version": "1.5.0",
            "_view_name": "ProgressView",
            "bar_style": "success",
            "description": "",
            "description_tooltip": null,
            "layout": "IPY_MODEL_f41c54815d394c60824045d2f2986271",
            "max": 771192,
            "min": 0,
            "orientation": "horizontal",
            "style": "IPY_MODEL_965b851313d640af96aae68c14877fe9",
            "value": 771192
          }
        },
        "69c3f00c4daf422da33c8f7eb096e5ad": {
          "model_module": "@jupyter-widgets/controls",
          "model_name": "HTMLModel",
          "model_module_version": "1.5.0",
          "state": {
            "_dom_classes": [],
            "_model_module": "@jupyter-widgets/controls",
            "_model_module_version": "1.5.0",
            "_model_name": "HTMLModel",
            "_view_count": null,
            "_view_module": "@jupyter-widgets/controls",
            "_view_module_version": "1.5.0",
            "_view_name": "HTMLView",
            "description": "",
            "description_tooltip": null,
            "layout": "IPY_MODEL_d3a170d100bf4d09b2fc59f23ddedb54",
            "placeholder": "​",
            "style": "IPY_MODEL_837c8716005d40229783f00241a7af33",
            "value": " 771k/771k [00:00&lt;00:00, 2.34MB/s]"
          }
        },
        "2961e7db21264a0db3a845054b380ef9": {
          "model_module": "@jupyter-widgets/base",
          "model_name": "LayoutModel",
          "model_module_version": "1.2.0",
          "state": {
            "_model_module": "@jupyter-widgets/base",
            "_model_module_version": "1.2.0",
            "_model_name": "LayoutModel",
            "_view_count": null,
            "_view_module": "@jupyter-widgets/base",
            "_view_module_version": "1.2.0",
            "_view_name": "LayoutView",
            "align_content": null,
            "align_items": null,
            "align_self": null,
            "border": null,
            "bottom": null,
            "display": null,
            "flex": null,
            "flex_flow": null,
            "grid_area": null,
            "grid_auto_columns": null,
            "grid_auto_flow": null,
            "grid_auto_rows": null,
            "grid_column": null,
            "grid_gap": null,
            "grid_row": null,
            "grid_template_areas": null,
            "grid_template_columns": null,
            "grid_template_rows": null,
            "height": null,
            "justify_content": null,
            "justify_items": null,
            "left": null,
            "margin": null,
            "max_height": null,
            "max_width": null,
            "min_height": null,
            "min_width": null,
            "object_fit": null,
            "object_position": null,
            "order": null,
            "overflow": null,
            "overflow_x": null,
            "overflow_y": null,
            "padding": null,
            "right": null,
            "top": null,
            "visibility": null,
            "width": null
          }
        },
        "190fe40525bc4e4eb8a8c4f1c8e14ff5": {
          "model_module": "@jupyter-widgets/base",
          "model_name": "LayoutModel",
          "model_module_version": "1.2.0",
          "state": {
            "_model_module": "@jupyter-widgets/base",
            "_model_module_version": "1.2.0",
            "_model_name": "LayoutModel",
            "_view_count": null,
            "_view_module": "@jupyter-widgets/base",
            "_view_module_version": "1.2.0",
            "_view_name": "LayoutView",
            "align_content": null,
            "align_items": null,
            "align_self": null,
            "border": null,
            "bottom": null,
            "display": null,
            "flex": null,
            "flex_flow": null,
            "grid_area": null,
            "grid_auto_columns": null,
            "grid_auto_flow": null,
            "grid_auto_rows": null,
            "grid_column": null,
            "grid_gap": null,
            "grid_row": null,
            "grid_template_areas": null,
            "grid_template_columns": null,
            "grid_template_rows": null,
            "height": null,
            "justify_content": null,
            "justify_items": null,
            "left": null,
            "margin": null,
            "max_height": null,
            "max_width": null,
            "min_height": null,
            "min_width": null,
            "object_fit": null,
            "object_position": null,
            "order": null,
            "overflow": null,
            "overflow_x": null,
            "overflow_y": null,
            "padding": null,
            "right": null,
            "top": null,
            "visibility": null,
            "width": null
          }
        },
        "f53833b925074e32a83caf2e65813cc0": {
          "model_module": "@jupyter-widgets/controls",
          "model_name": "DescriptionStyleModel",
          "model_module_version": "1.5.0",
          "state": {
            "_model_module": "@jupyter-widgets/controls",
            "_model_module_version": "1.5.0",
            "_model_name": "DescriptionStyleModel",
            "_view_count": null,
            "_view_module": "@jupyter-widgets/base",
            "_view_module_version": "1.2.0",
            "_view_name": "StyleView",
            "description_width": ""
          }
        },
        "f41c54815d394c60824045d2f2986271": {
          "model_module": "@jupyter-widgets/base",
          "model_name": "LayoutModel",
          "model_module_version": "1.2.0",
          "state": {
            "_model_module": "@jupyter-widgets/base",
            "_model_module_version": "1.2.0",
            "_model_name": "LayoutModel",
            "_view_count": null,
            "_view_module": "@jupyter-widgets/base",
            "_view_module_version": "1.2.0",
            "_view_name": "LayoutView",
            "align_content": null,
            "align_items": null,
            "align_self": null,
            "border": null,
            "bottom": null,
            "display": null,
            "flex": null,
            "flex_flow": null,
            "grid_area": null,
            "grid_auto_columns": null,
            "grid_auto_flow": null,
            "grid_auto_rows": null,
            "grid_column": null,
            "grid_gap": null,
            "grid_row": null,
            "grid_template_areas": null,
            "grid_template_columns": null,
            "grid_template_rows": null,
            "height": null,
            "justify_content": null,
            "justify_items": null,
            "left": null,
            "margin": null,
            "max_height": null,
            "max_width": null,
            "min_height": null,
            "min_width": null,
            "object_fit": null,
            "object_position": null,
            "order": null,
            "overflow": null,
            "overflow_x": null,
            "overflow_y": null,
            "padding": null,
            "right": null,
            "top": null,
            "visibility": null,
            "width": null
          }
        },
        "965b851313d640af96aae68c14877fe9": {
          "model_module": "@jupyter-widgets/controls",
          "model_name": "ProgressStyleModel",
          "model_module_version": "1.5.0",
          "state": {
            "_model_module": "@jupyter-widgets/controls",
            "_model_module_version": "1.5.0",
            "_model_name": "ProgressStyleModel",
            "_view_count": null,
            "_view_module": "@jupyter-widgets/base",
            "_view_module_version": "1.2.0",
            "_view_name": "StyleView",
            "bar_color": null,
            "description_width": ""
          }
        },
        "d3a170d100bf4d09b2fc59f23ddedb54": {
          "model_module": "@jupyter-widgets/base",
          "model_name": "LayoutModel",
          "model_module_version": "1.2.0",
          "state": {
            "_model_module": "@jupyter-widgets/base",
            "_model_module_version": "1.2.0",
            "_model_name": "LayoutModel",
            "_view_count": null,
            "_view_module": "@jupyter-widgets/base",
            "_view_module_version": "1.2.0",
            "_view_name": "LayoutView",
            "align_content": null,
            "align_items": null,
            "align_self": null,
            "border": null,
            "bottom": null,
            "display": null,
            "flex": null,
            "flex_flow": null,
            "grid_area": null,
            "grid_auto_columns": null,
            "grid_auto_flow": null,
            "grid_auto_rows": null,
            "grid_column": null,
            "grid_gap": null,
            "grid_row": null,
            "grid_template_areas": null,
            "grid_template_columns": null,
            "grid_template_rows": null,
            "height": null,
            "justify_content": null,
            "justify_items": null,
            "left": null,
            "margin": null,
            "max_height": null,
            "max_width": null,
            "min_height": null,
            "min_width": null,
            "object_fit": null,
            "object_position": null,
            "order": null,
            "overflow": null,
            "overflow_x": null,
            "overflow_y": null,
            "padding": null,
            "right": null,
            "top": null,
            "visibility": null,
            "width": null
          }
        },
        "837c8716005d40229783f00241a7af33": {
          "model_module": "@jupyter-widgets/controls",
          "model_name": "DescriptionStyleModel",
          "model_module_version": "1.5.0",
          "state": {
            "_model_module": "@jupyter-widgets/controls",
            "_model_module_version": "1.5.0",
            "_model_name": "DescriptionStyleModel",
            "_view_count": null,
            "_view_module": "@jupyter-widgets/base",
            "_view_module_version": "1.2.0",
            "_view_name": "StyleView",
            "description_width": ""
          }
        },
        "9bdbfcf06e994f24ae0108c863ab3fd6": {
          "model_module": "@jupyter-widgets/controls",
          "model_name": "HBoxModel",
          "model_module_version": "1.5.0",
          "state": {
            "_dom_classes": [],
            "_model_module": "@jupyter-widgets/controls",
            "_model_module_version": "1.5.0",
            "_model_name": "HBoxModel",
            "_view_count": null,
            "_view_module": "@jupyter-widgets/controls",
            "_view_module_version": "1.5.0",
            "_view_name": "HBoxView",
            "box_style": "",
            "children": [
              "IPY_MODEL_1c6c355bd478483eaa4d33b53ae03d8b",
              "IPY_MODEL_11e4609d02304e8c93bb86b0ea036f1f",
              "IPY_MODEL_e69d4cea2f614e3a83a116fc256307f5"
            ],
            "layout": "IPY_MODEL_82bdcf3c735140a9a25d564004b8a630"
          }
        },
        "1c6c355bd478483eaa4d33b53ae03d8b": {
          "model_module": "@jupyter-widgets/controls",
          "model_name": "HTMLModel",
          "model_module_version": "1.5.0",
          "state": {
            "_dom_classes": [],
            "_model_module": "@jupyter-widgets/controls",
            "_model_module_version": "1.5.0",
            "_model_name": "HTMLModel",
            "_view_count": null,
            "_view_module": "@jupyter-widgets/controls",
            "_view_module_version": "1.5.0",
            "_view_name": "HTMLView",
            "description": "",
            "description_tooltip": null,
            "layout": "IPY_MODEL_e1e1ee94621a47b7974f67f38a0c62a9",
            "placeholder": "​",
            "style": "IPY_MODEL_9f99032ce4f94b62bb91ee321fdab8ff",
            "value": "Downloading (…)cial_tokens_map.json: 100%"
          }
        },
        "11e4609d02304e8c93bb86b0ea036f1f": {
          "model_module": "@jupyter-widgets/controls",
          "model_name": "FloatProgressModel",
          "model_module_version": "1.5.0",
          "state": {
            "_dom_classes": [],
            "_model_module": "@jupyter-widgets/controls",
            "_model_module_version": "1.5.0",
            "_model_name": "FloatProgressModel",
            "_view_count": null,
            "_view_module": "@jupyter-widgets/controls",
            "_view_module_version": "1.5.0",
            "_view_name": "ProgressView",
            "bar_style": "success",
            "description": "",
            "description_tooltip": null,
            "layout": "IPY_MODEL_a1de7ae2a7634969a28f779c462d17f3",
            "max": 112,
            "min": 0,
            "orientation": "horizontal",
            "style": "IPY_MODEL_e6e935fea9164f97bac56eab03df954d",
            "value": 112
          }
        },
        "e69d4cea2f614e3a83a116fc256307f5": {
          "model_module": "@jupyter-widgets/controls",
          "model_name": "HTMLModel",
          "model_module_version": "1.5.0",
          "state": {
            "_dom_classes": [],
            "_model_module": "@jupyter-widgets/controls",
            "_model_module_version": "1.5.0",
            "_model_name": "HTMLModel",
            "_view_count": null,
            "_view_module": "@jupyter-widgets/controls",
            "_view_module_version": "1.5.0",
            "_view_name": "HTMLView",
            "description": "",
            "description_tooltip": null,
            "layout": "IPY_MODEL_7a25f107c2194517beca8e2f335a23c2",
            "placeholder": "​",
            "style": "IPY_MODEL_02bd15b4a71944499947f85feeaad115",
            "value": " 112/112 [00:00&lt;00:00, 3.19kB/s]"
          }
        },
        "82bdcf3c735140a9a25d564004b8a630": {
          "model_module": "@jupyter-widgets/base",
          "model_name": "LayoutModel",
          "model_module_version": "1.2.0",
          "state": {
            "_model_module": "@jupyter-widgets/base",
            "_model_module_version": "1.2.0",
            "_model_name": "LayoutModel",
            "_view_count": null,
            "_view_module": "@jupyter-widgets/base",
            "_view_module_version": "1.2.0",
            "_view_name": "LayoutView",
            "align_content": null,
            "align_items": null,
            "align_self": null,
            "border": null,
            "bottom": null,
            "display": null,
            "flex": null,
            "flex_flow": null,
            "grid_area": null,
            "grid_auto_columns": null,
            "grid_auto_flow": null,
            "grid_auto_rows": null,
            "grid_column": null,
            "grid_gap": null,
            "grid_row": null,
            "grid_template_areas": null,
            "grid_template_columns": null,
            "grid_template_rows": null,
            "height": null,
            "justify_content": null,
            "justify_items": null,
            "left": null,
            "margin": null,
            "max_height": null,
            "max_width": null,
            "min_height": null,
            "min_width": null,
            "object_fit": null,
            "object_position": null,
            "order": null,
            "overflow": null,
            "overflow_x": null,
            "overflow_y": null,
            "padding": null,
            "right": null,
            "top": null,
            "visibility": null,
            "width": null
          }
        },
        "e1e1ee94621a47b7974f67f38a0c62a9": {
          "model_module": "@jupyter-widgets/base",
          "model_name": "LayoutModel",
          "model_module_version": "1.2.0",
          "state": {
            "_model_module": "@jupyter-widgets/base",
            "_model_module_version": "1.2.0",
            "_model_name": "LayoutModel",
            "_view_count": null,
            "_view_module": "@jupyter-widgets/base",
            "_view_module_version": "1.2.0",
            "_view_name": "LayoutView",
            "align_content": null,
            "align_items": null,
            "align_self": null,
            "border": null,
            "bottom": null,
            "display": null,
            "flex": null,
            "flex_flow": null,
            "grid_area": null,
            "grid_auto_columns": null,
            "grid_auto_flow": null,
            "grid_auto_rows": null,
            "grid_column": null,
            "grid_gap": null,
            "grid_row": null,
            "grid_template_areas": null,
            "grid_template_columns": null,
            "grid_template_rows": null,
            "height": null,
            "justify_content": null,
            "justify_items": null,
            "left": null,
            "margin": null,
            "max_height": null,
            "max_width": null,
            "min_height": null,
            "min_width": null,
            "object_fit": null,
            "object_position": null,
            "order": null,
            "overflow": null,
            "overflow_x": null,
            "overflow_y": null,
            "padding": null,
            "right": null,
            "top": null,
            "visibility": null,
            "width": null
          }
        },
        "9f99032ce4f94b62bb91ee321fdab8ff": {
          "model_module": "@jupyter-widgets/controls",
          "model_name": "DescriptionStyleModel",
          "model_module_version": "1.5.0",
          "state": {
            "_model_module": "@jupyter-widgets/controls",
            "_model_module_version": "1.5.0",
            "_model_name": "DescriptionStyleModel",
            "_view_count": null,
            "_view_module": "@jupyter-widgets/base",
            "_view_module_version": "1.2.0",
            "_view_name": "StyleView",
            "description_width": ""
          }
        },
        "a1de7ae2a7634969a28f779c462d17f3": {
          "model_module": "@jupyter-widgets/base",
          "model_name": "LayoutModel",
          "model_module_version": "1.2.0",
          "state": {
            "_model_module": "@jupyter-widgets/base",
            "_model_module_version": "1.2.0",
            "_model_name": "LayoutModel",
            "_view_count": null,
            "_view_module": "@jupyter-widgets/base",
            "_view_module_version": "1.2.0",
            "_view_name": "LayoutView",
            "align_content": null,
            "align_items": null,
            "align_self": null,
            "border": null,
            "bottom": null,
            "display": null,
            "flex": null,
            "flex_flow": null,
            "grid_area": null,
            "grid_auto_columns": null,
            "grid_auto_flow": null,
            "grid_auto_rows": null,
            "grid_column": null,
            "grid_gap": null,
            "grid_row": null,
            "grid_template_areas": null,
            "grid_template_columns": null,
            "grid_template_rows": null,
            "height": null,
            "justify_content": null,
            "justify_items": null,
            "left": null,
            "margin": null,
            "max_height": null,
            "max_width": null,
            "min_height": null,
            "min_width": null,
            "object_fit": null,
            "object_position": null,
            "order": null,
            "overflow": null,
            "overflow_x": null,
            "overflow_y": null,
            "padding": null,
            "right": null,
            "top": null,
            "visibility": null,
            "width": null
          }
        },
        "e6e935fea9164f97bac56eab03df954d": {
          "model_module": "@jupyter-widgets/controls",
          "model_name": "ProgressStyleModel",
          "model_module_version": "1.5.0",
          "state": {
            "_model_module": "@jupyter-widgets/controls",
            "_model_module_version": "1.5.0",
            "_model_name": "ProgressStyleModel",
            "_view_count": null,
            "_view_module": "@jupyter-widgets/base",
            "_view_module_version": "1.2.0",
            "_view_name": "StyleView",
            "bar_color": null,
            "description_width": ""
          }
        },
        "7a25f107c2194517beca8e2f335a23c2": {
          "model_module": "@jupyter-widgets/base",
          "model_name": "LayoutModel",
          "model_module_version": "1.2.0",
          "state": {
            "_model_module": "@jupyter-widgets/base",
            "_model_module_version": "1.2.0",
            "_model_name": "LayoutModel",
            "_view_count": null,
            "_view_module": "@jupyter-widgets/base",
            "_view_module_version": "1.2.0",
            "_view_name": "LayoutView",
            "align_content": null,
            "align_items": null,
            "align_self": null,
            "border": null,
            "bottom": null,
            "display": null,
            "flex": null,
            "flex_flow": null,
            "grid_area": null,
            "grid_auto_columns": null,
            "grid_auto_flow": null,
            "grid_auto_rows": null,
            "grid_column": null,
            "grid_gap": null,
            "grid_row": null,
            "grid_template_areas": null,
            "grid_template_columns": null,
            "grid_template_rows": null,
            "height": null,
            "justify_content": null,
            "justify_items": null,
            "left": null,
            "margin": null,
            "max_height": null,
            "max_width": null,
            "min_height": null,
            "min_width": null,
            "object_fit": null,
            "object_position": null,
            "order": null,
            "overflow": null,
            "overflow_x": null,
            "overflow_y": null,
            "padding": null,
            "right": null,
            "top": null,
            "visibility": null,
            "width": null
          }
        },
        "02bd15b4a71944499947f85feeaad115": {
          "model_module": "@jupyter-widgets/controls",
          "model_name": "DescriptionStyleModel",
          "model_module_version": "1.5.0",
          "state": {
            "_model_module": "@jupyter-widgets/controls",
            "_model_module_version": "1.5.0",
            "_model_name": "DescriptionStyleModel",
            "_view_count": null,
            "_view_module": "@jupyter-widgets/base",
            "_view_module_version": "1.2.0",
            "_view_name": "StyleView",
            "description_width": ""
          }
        },
        "81f8c238b8dd42629842f91ecbf64111": {
          "model_module": "@jupyter-widgets/controls",
          "model_name": "HBoxModel",
          "model_module_version": "1.5.0",
          "state": {
            "_dom_classes": [],
            "_model_module": "@jupyter-widgets/controls",
            "_model_module_version": "1.5.0",
            "_model_name": "HBoxModel",
            "_view_count": null,
            "_view_module": "@jupyter-widgets/controls",
            "_view_module_version": "1.5.0",
            "_view_name": "HBoxView",
            "box_style": "",
            "children": [
              "IPY_MODEL_536a5f7c35bc493b83d2957dd93acc16",
              "IPY_MODEL_6687ec831b39436e9422f9b414a4b149",
              "IPY_MODEL_221f9ab11cd84df2ae7f3557e8a0fd4b"
            ],
            "layout": "IPY_MODEL_d6464f0a6f5646f0b2b84e3ae54a4c17"
          }
        },
        "536a5f7c35bc493b83d2957dd93acc16": {
          "model_module": "@jupyter-widgets/controls",
          "model_name": "HTMLModel",
          "model_module_version": "1.5.0",
          "state": {
            "_dom_classes": [],
            "_model_module": "@jupyter-widgets/controls",
            "_model_module_version": "1.5.0",
            "_model_name": "HTMLModel",
            "_view_count": null,
            "_view_module": "@jupyter-widgets/controls",
            "_view_module_version": "1.5.0",
            "_view_name": "HTMLView",
            "description": "",
            "description_tooltip": null,
            "layout": "IPY_MODEL_01693b6672754f6b85976e8ef01cfefe",
            "placeholder": "​",
            "style": "IPY_MODEL_48d7a5c3f1ca41289608dae01631cef5",
            "value": "Downloading (…)lve/main/config.json: 100%"
          }
        },
        "6687ec831b39436e9422f9b414a4b149": {
          "model_module": "@jupyter-widgets/controls",
          "model_name": "FloatProgressModel",
          "model_module_version": "1.5.0",
          "state": {
            "_dom_classes": [],
            "_model_module": "@jupyter-widgets/controls",
            "_model_module_version": "1.5.0",
            "_model_name": "FloatProgressModel",
            "_view_count": null,
            "_view_module": "@jupyter-widgets/controls",
            "_view_module_version": "1.5.0",
            "_view_name": "ProgressView",
            "bar_style": "success",
            "description": "",
            "description_tooltip": null,
            "layout": "IPY_MODEL_558ef750519a4b11b0688fdea7b324d0",
            "max": 719,
            "min": 0,
            "orientation": "horizontal",
            "style": "IPY_MODEL_6e7f78d9e6e047758f134b96c6e6a7a9",
            "value": 719
          }
        },
        "221f9ab11cd84df2ae7f3557e8a0fd4b": {
          "model_module": "@jupyter-widgets/controls",
          "model_name": "HTMLModel",
          "model_module_version": "1.5.0",
          "state": {
            "_dom_classes": [],
            "_model_module": "@jupyter-widgets/controls",
            "_model_module_version": "1.5.0",
            "_model_name": "HTMLModel",
            "_view_count": null,
            "_view_module": "@jupyter-widgets/controls",
            "_view_module_version": "1.5.0",
            "_view_name": "HTMLView",
            "description": "",
            "description_tooltip": null,
            "layout": "IPY_MODEL_0799b13fbdc64576adb542195350104c",
            "placeholder": "​",
            "style": "IPY_MODEL_ed81a8641e6140579eb7aa85059b3f14",
            "value": " 719/719 [00:00&lt;00:00, 23.1kB/s]"
          }
        },
        "d6464f0a6f5646f0b2b84e3ae54a4c17": {
          "model_module": "@jupyter-widgets/base",
          "model_name": "LayoutModel",
          "model_module_version": "1.2.0",
          "state": {
            "_model_module": "@jupyter-widgets/base",
            "_model_module_version": "1.2.0",
            "_model_name": "LayoutModel",
            "_view_count": null,
            "_view_module": "@jupyter-widgets/base",
            "_view_module_version": "1.2.0",
            "_view_name": "LayoutView",
            "align_content": null,
            "align_items": null,
            "align_self": null,
            "border": null,
            "bottom": null,
            "display": null,
            "flex": null,
            "flex_flow": null,
            "grid_area": null,
            "grid_auto_columns": null,
            "grid_auto_flow": null,
            "grid_auto_rows": null,
            "grid_column": null,
            "grid_gap": null,
            "grid_row": null,
            "grid_template_areas": null,
            "grid_template_columns": null,
            "grid_template_rows": null,
            "height": null,
            "justify_content": null,
            "justify_items": null,
            "left": null,
            "margin": null,
            "max_height": null,
            "max_width": null,
            "min_height": null,
            "min_width": null,
            "object_fit": null,
            "object_position": null,
            "order": null,
            "overflow": null,
            "overflow_x": null,
            "overflow_y": null,
            "padding": null,
            "right": null,
            "top": null,
            "visibility": null,
            "width": null
          }
        },
        "01693b6672754f6b85976e8ef01cfefe": {
          "model_module": "@jupyter-widgets/base",
          "model_name": "LayoutModel",
          "model_module_version": "1.2.0",
          "state": {
            "_model_module": "@jupyter-widgets/base",
            "_model_module_version": "1.2.0",
            "_model_name": "LayoutModel",
            "_view_count": null,
            "_view_module": "@jupyter-widgets/base",
            "_view_module_version": "1.2.0",
            "_view_name": "LayoutView",
            "align_content": null,
            "align_items": null,
            "align_self": null,
            "border": null,
            "bottom": null,
            "display": null,
            "flex": null,
            "flex_flow": null,
            "grid_area": null,
            "grid_auto_columns": null,
            "grid_auto_flow": null,
            "grid_auto_rows": null,
            "grid_column": null,
            "grid_gap": null,
            "grid_row": null,
            "grid_template_areas": null,
            "grid_template_columns": null,
            "grid_template_rows": null,
            "height": null,
            "justify_content": null,
            "justify_items": null,
            "left": null,
            "margin": null,
            "max_height": null,
            "max_width": null,
            "min_height": null,
            "min_width": null,
            "object_fit": null,
            "object_position": null,
            "order": null,
            "overflow": null,
            "overflow_x": null,
            "overflow_y": null,
            "padding": null,
            "right": null,
            "top": null,
            "visibility": null,
            "width": null
          }
        },
        "48d7a5c3f1ca41289608dae01631cef5": {
          "model_module": "@jupyter-widgets/controls",
          "model_name": "DescriptionStyleModel",
          "model_module_version": "1.5.0",
          "state": {
            "_model_module": "@jupyter-widgets/controls",
            "_model_module_version": "1.5.0",
            "_model_name": "DescriptionStyleModel",
            "_view_count": null,
            "_view_module": "@jupyter-widgets/base",
            "_view_module_version": "1.2.0",
            "_view_name": "StyleView",
            "description_width": ""
          }
        },
        "558ef750519a4b11b0688fdea7b324d0": {
          "model_module": "@jupyter-widgets/base",
          "model_name": "LayoutModel",
          "model_module_version": "1.2.0",
          "state": {
            "_model_module": "@jupyter-widgets/base",
            "_model_module_version": "1.2.0",
            "_model_name": "LayoutModel",
            "_view_count": null,
            "_view_module": "@jupyter-widgets/base",
            "_view_module_version": "1.2.0",
            "_view_name": "LayoutView",
            "align_content": null,
            "align_items": null,
            "align_self": null,
            "border": null,
            "bottom": null,
            "display": null,
            "flex": null,
            "flex_flow": null,
            "grid_area": null,
            "grid_auto_columns": null,
            "grid_auto_flow": null,
            "grid_auto_rows": null,
            "grid_column": null,
            "grid_gap": null,
            "grid_row": null,
            "grid_template_areas": null,
            "grid_template_columns": null,
            "grid_template_rows": null,
            "height": null,
            "justify_content": null,
            "justify_items": null,
            "left": null,
            "margin": null,
            "max_height": null,
            "max_width": null,
            "min_height": null,
            "min_width": null,
            "object_fit": null,
            "object_position": null,
            "order": null,
            "overflow": null,
            "overflow_x": null,
            "overflow_y": null,
            "padding": null,
            "right": null,
            "top": null,
            "visibility": null,
            "width": null
          }
        },
        "6e7f78d9e6e047758f134b96c6e6a7a9": {
          "model_module": "@jupyter-widgets/controls",
          "model_name": "ProgressStyleModel",
          "model_module_version": "1.5.0",
          "state": {
            "_model_module": "@jupyter-widgets/controls",
            "_model_module_version": "1.5.0",
            "_model_name": "ProgressStyleModel",
            "_view_count": null,
            "_view_module": "@jupyter-widgets/base",
            "_view_module_version": "1.2.0",
            "_view_name": "StyleView",
            "bar_color": null,
            "description_width": ""
          }
        },
        "0799b13fbdc64576adb542195350104c": {
          "model_module": "@jupyter-widgets/base",
          "model_name": "LayoutModel",
          "model_module_version": "1.2.0",
          "state": {
            "_model_module": "@jupyter-widgets/base",
            "_model_module_version": "1.2.0",
            "_model_name": "LayoutModel",
            "_view_count": null,
            "_view_module": "@jupyter-widgets/base",
            "_view_module_version": "1.2.0",
            "_view_name": "LayoutView",
            "align_content": null,
            "align_items": null,
            "align_self": null,
            "border": null,
            "bottom": null,
            "display": null,
            "flex": null,
            "flex_flow": null,
            "grid_area": null,
            "grid_auto_columns": null,
            "grid_auto_flow": null,
            "grid_auto_rows": null,
            "grid_column": null,
            "grid_gap": null,
            "grid_row": null,
            "grid_template_areas": null,
            "grid_template_columns": null,
            "grid_template_rows": null,
            "height": null,
            "justify_content": null,
            "justify_items": null,
            "left": null,
            "margin": null,
            "max_height": null,
            "max_width": null,
            "min_height": null,
            "min_width": null,
            "object_fit": null,
            "object_position": null,
            "order": null,
            "overflow": null,
            "overflow_x": null,
            "overflow_y": null,
            "padding": null,
            "right": null,
            "top": null,
            "visibility": null,
            "width": null
          }
        },
        "ed81a8641e6140579eb7aa85059b3f14": {
          "model_module": "@jupyter-widgets/controls",
          "model_name": "DescriptionStyleModel",
          "model_module_version": "1.5.0",
          "state": {
            "_model_module": "@jupyter-widgets/controls",
            "_model_module_version": "1.5.0",
            "_model_name": "DescriptionStyleModel",
            "_view_count": null,
            "_view_module": "@jupyter-widgets/base",
            "_view_module_version": "1.2.0",
            "_view_name": "StyleView",
            "description_width": ""
          }
        },
        "2412761ebb0e49b994c08c15dcd9e995": {
          "model_module": "@jupyter-widgets/controls",
          "model_name": "HBoxModel",
          "model_module_version": "1.5.0",
          "state": {
            "_dom_classes": [],
            "_model_module": "@jupyter-widgets/controls",
            "_model_module_version": "1.5.0",
            "_model_name": "HBoxModel",
            "_view_count": null,
            "_view_module": "@jupyter-widgets/controls",
            "_view_module_version": "1.5.0",
            "_view_name": "HBoxView",
            "box_style": "",
            "children": [
              "IPY_MODEL_2cdee1327a444300bdd6779f70146aca",
              "IPY_MODEL_1eea1ba2a54e48458496bb83488a60ce",
              "IPY_MODEL_8fbf839f59d54c76a009d8c14409e77f"
            ],
            "layout": "IPY_MODEL_1dbb07b8a9d24280baa5f5e03e254ebf"
          }
        },
        "2cdee1327a444300bdd6779f70146aca": {
          "model_module": "@jupyter-widgets/controls",
          "model_name": "HTMLModel",
          "model_module_version": "1.5.0",
          "state": {
            "_dom_classes": [],
            "_model_module": "@jupyter-widgets/controls",
            "_model_module_version": "1.5.0",
            "_model_name": "HTMLModel",
            "_view_count": null,
            "_view_module": "@jupyter-widgets/controls",
            "_view_module_version": "1.5.0",
            "_view_name": "HTMLView",
            "description": "",
            "description_tooltip": null,
            "layout": "IPY_MODEL_afaa01a4561c466bb7c8c3f4e6d7c5c6",
            "placeholder": "​",
            "style": "IPY_MODEL_95ce63798ade470ab2069277fb6f9b51",
            "value": "Downloading pytorch_model.bin: 100%"
          }
        },
        "1eea1ba2a54e48458496bb83488a60ce": {
          "model_module": "@jupyter-widgets/controls",
          "model_name": "FloatProgressModel",
          "model_module_version": "1.5.0",
          "state": {
            "_dom_classes": [],
            "_model_module": "@jupyter-widgets/controls",
            "_model_module_version": "1.5.0",
            "_model_name": "FloatProgressModel",
            "_view_count": null,
            "_view_module": "@jupyter-widgets/controls",
            "_view_module_version": "1.5.0",
            "_view_name": "ProgressView",
            "bar_style": "success",
            "description": "",
            "description_tooltip": null,
            "layout": "IPY_MODEL_3dfa59c2234a47caabcabe11495c4b82",
            "max": 435654257,
            "min": 0,
            "orientation": "horizontal",
            "style": "IPY_MODEL_9e0e46a36a7948faa738bb4923b59e30",
            "value": 435654257
          }
        },
        "8fbf839f59d54c76a009d8c14409e77f": {
          "model_module": "@jupyter-widgets/controls",
          "model_name": "HTMLModel",
          "model_module_version": "1.5.0",
          "state": {
            "_dom_classes": [],
            "_model_module": "@jupyter-widgets/controls",
            "_model_module_version": "1.5.0",
            "_model_name": "HTMLModel",
            "_view_count": null,
            "_view_module": "@jupyter-widgets/controls",
            "_view_module_version": "1.5.0",
            "_view_name": "HTMLView",
            "description": "",
            "description_tooltip": null,
            "layout": "IPY_MODEL_5eacee88e78241a086dc91000024f9e4",
            "placeholder": "​",
            "style": "IPY_MODEL_bebd6c6b5dab45248ac9c11b91b01de5",
            "value": " 436M/436M [00:05&lt;00:00, 86.5MB/s]"
          }
        },
        "1dbb07b8a9d24280baa5f5e03e254ebf": {
          "model_module": "@jupyter-widgets/base",
          "model_name": "LayoutModel",
          "model_module_version": "1.2.0",
          "state": {
            "_model_module": "@jupyter-widgets/base",
            "_model_module_version": "1.2.0",
            "_model_name": "LayoutModel",
            "_view_count": null,
            "_view_module": "@jupyter-widgets/base",
            "_view_module_version": "1.2.0",
            "_view_name": "LayoutView",
            "align_content": null,
            "align_items": null,
            "align_self": null,
            "border": null,
            "bottom": null,
            "display": null,
            "flex": null,
            "flex_flow": null,
            "grid_area": null,
            "grid_auto_columns": null,
            "grid_auto_flow": null,
            "grid_auto_rows": null,
            "grid_column": null,
            "grid_gap": null,
            "grid_row": null,
            "grid_template_areas": null,
            "grid_template_columns": null,
            "grid_template_rows": null,
            "height": null,
            "justify_content": null,
            "justify_items": null,
            "left": null,
            "margin": null,
            "max_height": null,
            "max_width": null,
            "min_height": null,
            "min_width": null,
            "object_fit": null,
            "object_position": null,
            "order": null,
            "overflow": null,
            "overflow_x": null,
            "overflow_y": null,
            "padding": null,
            "right": null,
            "top": null,
            "visibility": null,
            "width": null
          }
        },
        "afaa01a4561c466bb7c8c3f4e6d7c5c6": {
          "model_module": "@jupyter-widgets/base",
          "model_name": "LayoutModel",
          "model_module_version": "1.2.0",
          "state": {
            "_model_module": "@jupyter-widgets/base",
            "_model_module_version": "1.2.0",
            "_model_name": "LayoutModel",
            "_view_count": null,
            "_view_module": "@jupyter-widgets/base",
            "_view_module_version": "1.2.0",
            "_view_name": "LayoutView",
            "align_content": null,
            "align_items": null,
            "align_self": null,
            "border": null,
            "bottom": null,
            "display": null,
            "flex": null,
            "flex_flow": null,
            "grid_area": null,
            "grid_auto_columns": null,
            "grid_auto_flow": null,
            "grid_auto_rows": null,
            "grid_column": null,
            "grid_gap": null,
            "grid_row": null,
            "grid_template_areas": null,
            "grid_template_columns": null,
            "grid_template_rows": null,
            "height": null,
            "justify_content": null,
            "justify_items": null,
            "left": null,
            "margin": null,
            "max_height": null,
            "max_width": null,
            "min_height": null,
            "min_width": null,
            "object_fit": null,
            "object_position": null,
            "order": null,
            "overflow": null,
            "overflow_x": null,
            "overflow_y": null,
            "padding": null,
            "right": null,
            "top": null,
            "visibility": null,
            "width": null
          }
        },
        "95ce63798ade470ab2069277fb6f9b51": {
          "model_module": "@jupyter-widgets/controls",
          "model_name": "DescriptionStyleModel",
          "model_module_version": "1.5.0",
          "state": {
            "_model_module": "@jupyter-widgets/controls",
            "_model_module_version": "1.5.0",
            "_model_name": "DescriptionStyleModel",
            "_view_count": null,
            "_view_module": "@jupyter-widgets/base",
            "_view_module_version": "1.2.0",
            "_view_name": "StyleView",
            "description_width": ""
          }
        },
        "3dfa59c2234a47caabcabe11495c4b82": {
          "model_module": "@jupyter-widgets/base",
          "model_name": "LayoutModel",
          "model_module_version": "1.2.0",
          "state": {
            "_model_module": "@jupyter-widgets/base",
            "_model_module_version": "1.2.0",
            "_model_name": "LayoutModel",
            "_view_count": null,
            "_view_module": "@jupyter-widgets/base",
            "_view_module_version": "1.2.0",
            "_view_name": "LayoutView",
            "align_content": null,
            "align_items": null,
            "align_self": null,
            "border": null,
            "bottom": null,
            "display": null,
            "flex": null,
            "flex_flow": null,
            "grid_area": null,
            "grid_auto_columns": null,
            "grid_auto_flow": null,
            "grid_auto_rows": null,
            "grid_column": null,
            "grid_gap": null,
            "grid_row": null,
            "grid_template_areas": null,
            "grid_template_columns": null,
            "grid_template_rows": null,
            "height": null,
            "justify_content": null,
            "justify_items": null,
            "left": null,
            "margin": null,
            "max_height": null,
            "max_width": null,
            "min_height": null,
            "min_width": null,
            "object_fit": null,
            "object_position": null,
            "order": null,
            "overflow": null,
            "overflow_x": null,
            "overflow_y": null,
            "padding": null,
            "right": null,
            "top": null,
            "visibility": null,
            "width": null
          }
        },
        "9e0e46a36a7948faa738bb4923b59e30": {
          "model_module": "@jupyter-widgets/controls",
          "model_name": "ProgressStyleModel",
          "model_module_version": "1.5.0",
          "state": {
            "_model_module": "@jupyter-widgets/controls",
            "_model_module_version": "1.5.0",
            "_model_name": "ProgressStyleModel",
            "_view_count": null,
            "_view_module": "@jupyter-widgets/base",
            "_view_module_version": "1.2.0",
            "_view_name": "StyleView",
            "bar_color": null,
            "description_width": ""
          }
        },
        "5eacee88e78241a086dc91000024f9e4": {
          "model_module": "@jupyter-widgets/base",
          "model_name": "LayoutModel",
          "model_module_version": "1.2.0",
          "state": {
            "_model_module": "@jupyter-widgets/base",
            "_model_module_version": "1.2.0",
            "_model_name": "LayoutModel",
            "_view_count": null,
            "_view_module": "@jupyter-widgets/base",
            "_view_module_version": "1.2.0",
            "_view_name": "LayoutView",
            "align_content": null,
            "align_items": null,
            "align_self": null,
            "border": null,
            "bottom": null,
            "display": null,
            "flex": null,
            "flex_flow": null,
            "grid_area": null,
            "grid_auto_columns": null,
            "grid_auto_flow": null,
            "grid_auto_rows": null,
            "grid_column": null,
            "grid_gap": null,
            "grid_row": null,
            "grid_template_areas": null,
            "grid_template_columns": null,
            "grid_template_rows": null,
            "height": null,
            "justify_content": null,
            "justify_items": null,
            "left": null,
            "margin": null,
            "max_height": null,
            "max_width": null,
            "min_height": null,
            "min_width": null,
            "object_fit": null,
            "object_position": null,
            "order": null,
            "overflow": null,
            "overflow_x": null,
            "overflow_y": null,
            "padding": null,
            "right": null,
            "top": null,
            "visibility": null,
            "width": null
          }
        },
        "bebd6c6b5dab45248ac9c11b91b01de5": {
          "model_module": "@jupyter-widgets/controls",
          "model_name": "DescriptionStyleModel",
          "model_module_version": "1.5.0",
          "state": {
            "_model_module": "@jupyter-widgets/controls",
            "_model_module_version": "1.5.0",
            "_model_name": "DescriptionStyleModel",
            "_view_count": null,
            "_view_module": "@jupyter-widgets/base",
            "_view_module_version": "1.2.0",
            "_view_name": "StyleView",
            "description_width": ""
          }
        }
      }
    }
  },
  "nbformat": 4,
  "nbformat_minor": 0
}